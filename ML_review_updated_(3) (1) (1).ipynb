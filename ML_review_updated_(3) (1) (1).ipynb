{
  "nbformat": 4,
  "nbformat_minor": 0,
  "metadata": {
    "colab": {
      "provenance": []
    },
    "kernelspec": {
      "name": "python3",
      "display_name": "Python 3"
    },
    "language_info": {
      "name": "python"
    }
  },
  "cells": [
    {
      "cell_type": "markdown",
      "source": [
        "Importing libraries"
      ],
      "metadata": {
        "id": "I4vMY8hmx1-V"
      }
    },
    {
      "cell_type": "code",
      "execution_count": 1,
      "metadata": {
        "id": "PlDOXcYUs4hQ"
      },
      "outputs": [],
      "source": [
        "from sklearn import metrics\n",
        "import numpy as np\n",
        "import pandas as pd\n",
        "\n",
        "import matplotlib.pyplot as plt\n",
        "%matplotlib inline\n",
        "\n",
        "import seaborn as sns\n",
        "import datetime as dt\n",
        "from sklearn import metrics\n",
        "from sklearn.preprocessing import LabelEncoder, OneHotEncoder, MinMaxScaler\n",
        "from sklearn.model_selection import train_test_split\n",
        "from sklearn.linear_model import LogisticRegression\n",
        "from sklearn.metrics import accuracy_score\n",
        "\n",
        "import time\n",
        "from sklearn.metrics import accuracy_score, roc_auc_score, classification_report, plot_confusion_matrix, plot_roc_curve"
      ]
    },
    {
      "cell_type": "markdown",
      "source": [
        "Loading the data"
      ],
      "metadata": {
        "id": "rlRROy5UvLhC"
      }
    },
    {
      "cell_type": "code",
      "source": [
        "members = pd.read_csv('/content/members.csv')\n",
        "songextrainfo = pd.read_csv('/content/song_extra_info.csv')\n",
        "song = pd.read_csv('/content/songs.csv')\n",
        "train = pd.read_csv('/content/train.csv')"
      ],
      "metadata": {
        "id": "-mKJR1v5tWBp"
      },
      "execution_count": 2,
      "outputs": []
    },
    {
      "cell_type": "markdown",
      "source": [
        "Anayzing the data"
      ],
      "metadata": {
        "id": "wEhoDnhKvOEe"
      }
    },
    {
      "cell_type": "code",
      "source": [
        "members.head(100)"
      ],
      "metadata": {
        "colab": {
          "base_uri": "https://localhost:8080/",
          "height": 424
        },
        "id": "JXJ3WY4juimu",
        "outputId": "7fbdff95-07d5-473a-dd58-11578994e827"
      },
      "execution_count": 3,
      "outputs": [
        {
          "output_type": "execute_result",
          "data": {
            "text/plain": [
              "                                            msno  city  bd  gender  \\\n",
              "0   XQxgAYj3klVKjR3oxPPXYYFp4soD4TuBghkhMTD4oTw=     1   0     NaN   \n",
              "1   UizsfmJb9mV54qE9hCYyU07Va97c0lCRLEQX3ae+ztM=     1   0     NaN   \n",
              "2   D8nEhsIOBSoE6VthTaqDX8U6lqjJ7dLdr72mOyLya2A=     1   0     NaN   \n",
              "3   mCuD+tZ1hERA/o5GPqk38e041J8ZsBaLcu7nGoIIvhI=     1   0     NaN   \n",
              "4   q4HRBfVSssAFS9iRfxWrohxuk9kCYMKjHOEagUMV6rQ=     1   0     NaN   \n",
              "..                                           ...   ...  ..     ...   \n",
              "95  8sEEszoN7JW047C9Qt5XN29r7UJwsb5J6RWTz8gLlqE=     1   0     NaN   \n",
              "96  5aK/dB0N/7AuXaOmBdXsawoIgJ3I6332BH5tBvChWt4=    11  34  female   \n",
              "97  1yd9fOVZVhdmRiBQSGNNIkt1auPjBJ1nSHWhVHLR9Fg=    13   0     NaN   \n",
              "98  hZ4kF/3r+IOCcO+h0oPXypRkx17TF0LI0tq1qATx4/4=     4  32    male   \n",
              "99  H1iLsaODONTbpeZL5ZV/sco341Xf/oCQ1P71tiLO6mQ=     1   0     NaN   \n",
              "\n",
              "    registered_via  registration_init_time  expiration_date  \n",
              "0                7                20110820         20170920  \n",
              "1                7                20150628         20170622  \n",
              "2                4                20160411         20170712  \n",
              "3                9                20150906         20150907  \n",
              "4                4                20170126         20170613  \n",
              "..             ...                     ...              ...  \n",
              "95               7                20130604         20171004  \n",
              "96               9                20120627         20171022  \n",
              "97               4                20151107         20170930  \n",
              "98               3                20120606         20120613  \n",
              "99               7                20120705         20171003  \n",
              "\n",
              "[100 rows x 7 columns]"
            ],
            "text/html": [
              "\n",
              "  <div id=\"df-20f29382-59ef-4902-aa13-c091646a7c55\">\n",
              "    <div class=\"colab-df-container\">\n",
              "      <div>\n",
              "<style scoped>\n",
              "    .dataframe tbody tr th:only-of-type {\n",
              "        vertical-align: middle;\n",
              "    }\n",
              "\n",
              "    .dataframe tbody tr th {\n",
              "        vertical-align: top;\n",
              "    }\n",
              "\n",
              "    .dataframe thead th {\n",
              "        text-align: right;\n",
              "    }\n",
              "</style>\n",
              "<table border=\"1\" class=\"dataframe\">\n",
              "  <thead>\n",
              "    <tr style=\"text-align: right;\">\n",
              "      <th></th>\n",
              "      <th>msno</th>\n",
              "      <th>city</th>\n",
              "      <th>bd</th>\n",
              "      <th>gender</th>\n",
              "      <th>registered_via</th>\n",
              "      <th>registration_init_time</th>\n",
              "      <th>expiration_date</th>\n",
              "    </tr>\n",
              "  </thead>\n",
              "  <tbody>\n",
              "    <tr>\n",
              "      <th>0</th>\n",
              "      <td>XQxgAYj3klVKjR3oxPPXYYFp4soD4TuBghkhMTD4oTw=</td>\n",
              "      <td>1</td>\n",
              "      <td>0</td>\n",
              "      <td>NaN</td>\n",
              "      <td>7</td>\n",
              "      <td>20110820</td>\n",
              "      <td>20170920</td>\n",
              "    </tr>\n",
              "    <tr>\n",
              "      <th>1</th>\n",
              "      <td>UizsfmJb9mV54qE9hCYyU07Va97c0lCRLEQX3ae+ztM=</td>\n",
              "      <td>1</td>\n",
              "      <td>0</td>\n",
              "      <td>NaN</td>\n",
              "      <td>7</td>\n",
              "      <td>20150628</td>\n",
              "      <td>20170622</td>\n",
              "    </tr>\n",
              "    <tr>\n",
              "      <th>2</th>\n",
              "      <td>D8nEhsIOBSoE6VthTaqDX8U6lqjJ7dLdr72mOyLya2A=</td>\n",
              "      <td>1</td>\n",
              "      <td>0</td>\n",
              "      <td>NaN</td>\n",
              "      <td>4</td>\n",
              "      <td>20160411</td>\n",
              "      <td>20170712</td>\n",
              "    </tr>\n",
              "    <tr>\n",
              "      <th>3</th>\n",
              "      <td>mCuD+tZ1hERA/o5GPqk38e041J8ZsBaLcu7nGoIIvhI=</td>\n",
              "      <td>1</td>\n",
              "      <td>0</td>\n",
              "      <td>NaN</td>\n",
              "      <td>9</td>\n",
              "      <td>20150906</td>\n",
              "      <td>20150907</td>\n",
              "    </tr>\n",
              "    <tr>\n",
              "      <th>4</th>\n",
              "      <td>q4HRBfVSssAFS9iRfxWrohxuk9kCYMKjHOEagUMV6rQ=</td>\n",
              "      <td>1</td>\n",
              "      <td>0</td>\n",
              "      <td>NaN</td>\n",
              "      <td>4</td>\n",
              "      <td>20170126</td>\n",
              "      <td>20170613</td>\n",
              "    </tr>\n",
              "    <tr>\n",
              "      <th>...</th>\n",
              "      <td>...</td>\n",
              "      <td>...</td>\n",
              "      <td>...</td>\n",
              "      <td>...</td>\n",
              "      <td>...</td>\n",
              "      <td>...</td>\n",
              "      <td>...</td>\n",
              "    </tr>\n",
              "    <tr>\n",
              "      <th>95</th>\n",
              "      <td>8sEEszoN7JW047C9Qt5XN29r7UJwsb5J6RWTz8gLlqE=</td>\n",
              "      <td>1</td>\n",
              "      <td>0</td>\n",
              "      <td>NaN</td>\n",
              "      <td>7</td>\n",
              "      <td>20130604</td>\n",
              "      <td>20171004</td>\n",
              "    </tr>\n",
              "    <tr>\n",
              "      <th>96</th>\n",
              "      <td>5aK/dB0N/7AuXaOmBdXsawoIgJ3I6332BH5tBvChWt4=</td>\n",
              "      <td>11</td>\n",
              "      <td>34</td>\n",
              "      <td>female</td>\n",
              "      <td>9</td>\n",
              "      <td>20120627</td>\n",
              "      <td>20171022</td>\n",
              "    </tr>\n",
              "    <tr>\n",
              "      <th>97</th>\n",
              "      <td>1yd9fOVZVhdmRiBQSGNNIkt1auPjBJ1nSHWhVHLR9Fg=</td>\n",
              "      <td>13</td>\n",
              "      <td>0</td>\n",
              "      <td>NaN</td>\n",
              "      <td>4</td>\n",
              "      <td>20151107</td>\n",
              "      <td>20170930</td>\n",
              "    </tr>\n",
              "    <tr>\n",
              "      <th>98</th>\n",
              "      <td>hZ4kF/3r+IOCcO+h0oPXypRkx17TF0LI0tq1qATx4/4=</td>\n",
              "      <td>4</td>\n",
              "      <td>32</td>\n",
              "      <td>male</td>\n",
              "      <td>3</td>\n",
              "      <td>20120606</td>\n",
              "      <td>20120613</td>\n",
              "    </tr>\n",
              "    <tr>\n",
              "      <th>99</th>\n",
              "      <td>H1iLsaODONTbpeZL5ZV/sco341Xf/oCQ1P71tiLO6mQ=</td>\n",
              "      <td>1</td>\n",
              "      <td>0</td>\n",
              "      <td>NaN</td>\n",
              "      <td>7</td>\n",
              "      <td>20120705</td>\n",
              "      <td>20171003</td>\n",
              "    </tr>\n",
              "  </tbody>\n",
              "</table>\n",
              "<p>100 rows × 7 columns</p>\n",
              "</div>\n",
              "      <button class=\"colab-df-convert\" onclick=\"convertToInteractive('df-20f29382-59ef-4902-aa13-c091646a7c55')\"\n",
              "              title=\"Convert this dataframe to an interactive table.\"\n",
              "              style=\"display:none;\">\n",
              "        \n",
              "  <svg xmlns=\"http://www.w3.org/2000/svg\" height=\"24px\"viewBox=\"0 0 24 24\"\n",
              "       width=\"24px\">\n",
              "    <path d=\"M0 0h24v24H0V0z\" fill=\"none\"/>\n",
              "    <path d=\"M18.56 5.44l.94 2.06.94-2.06 2.06-.94-2.06-.94-.94-2.06-.94 2.06-2.06.94zm-11 1L8.5 8.5l.94-2.06 2.06-.94-2.06-.94L8.5 2.5l-.94 2.06-2.06.94zm10 10l.94 2.06.94-2.06 2.06-.94-2.06-.94-.94-2.06-.94 2.06-2.06.94z\"/><path d=\"M17.41 7.96l-1.37-1.37c-.4-.4-.92-.59-1.43-.59-.52 0-1.04.2-1.43.59L10.3 9.45l-7.72 7.72c-.78.78-.78 2.05 0 2.83L4 21.41c.39.39.9.59 1.41.59.51 0 1.02-.2 1.41-.59l7.78-7.78 2.81-2.81c.8-.78.8-2.07 0-2.86zM5.41 20L4 18.59l7.72-7.72 1.47 1.35L5.41 20z\"/>\n",
              "  </svg>\n",
              "      </button>\n",
              "      \n",
              "  <style>\n",
              "    .colab-df-container {\n",
              "      display:flex;\n",
              "      flex-wrap:wrap;\n",
              "      gap: 12px;\n",
              "    }\n",
              "\n",
              "    .colab-df-convert {\n",
              "      background-color: #E8F0FE;\n",
              "      border: none;\n",
              "      border-radius: 50%;\n",
              "      cursor: pointer;\n",
              "      display: none;\n",
              "      fill: #1967D2;\n",
              "      height: 32px;\n",
              "      padding: 0 0 0 0;\n",
              "      width: 32px;\n",
              "    }\n",
              "\n",
              "    .colab-df-convert:hover {\n",
              "      background-color: #E2EBFA;\n",
              "      box-shadow: 0px 1px 2px rgba(60, 64, 67, 0.3), 0px 1px 3px 1px rgba(60, 64, 67, 0.15);\n",
              "      fill: #174EA6;\n",
              "    }\n",
              "\n",
              "    [theme=dark] .colab-df-convert {\n",
              "      background-color: #3B4455;\n",
              "      fill: #D2E3FC;\n",
              "    }\n",
              "\n",
              "    [theme=dark] .colab-df-convert:hover {\n",
              "      background-color: #434B5C;\n",
              "      box-shadow: 0px 1px 3px 1px rgba(0, 0, 0, 0.15);\n",
              "      filter: drop-shadow(0px 1px 2px rgba(0, 0, 0, 0.3));\n",
              "      fill: #FFFFFF;\n",
              "    }\n",
              "  </style>\n",
              "\n",
              "      <script>\n",
              "        const buttonEl =\n",
              "          document.querySelector('#df-20f29382-59ef-4902-aa13-c091646a7c55 button.colab-df-convert');\n",
              "        buttonEl.style.display =\n",
              "          google.colab.kernel.accessAllowed ? 'block' : 'none';\n",
              "\n",
              "        async function convertToInteractive(key) {\n",
              "          const element = document.querySelector('#df-20f29382-59ef-4902-aa13-c091646a7c55');\n",
              "          const dataTable =\n",
              "            await google.colab.kernel.invokeFunction('convertToInteractive',\n",
              "                                                     [key], {});\n",
              "          if (!dataTable) return;\n",
              "\n",
              "          const docLinkHtml = 'Like what you see? Visit the ' +\n",
              "            '<a target=\"_blank\" href=https://colab.research.google.com/notebooks/data_table.ipynb>data table notebook</a>'\n",
              "            + ' to learn more about interactive tables.';\n",
              "          element.innerHTML = '';\n",
              "          dataTable['output_type'] = 'display_data';\n",
              "          await google.colab.output.renderOutput(dataTable, element);\n",
              "          const docLink = document.createElement('div');\n",
              "          docLink.innerHTML = docLinkHtml;\n",
              "          element.appendChild(docLink);\n",
              "        }\n",
              "      </script>\n",
              "    </div>\n",
              "  </div>\n",
              "  "
            ]
          },
          "metadata": {},
          "execution_count": 3
        }
      ]
    },
    {
      "cell_type": "markdown",
      "source": [
        "members dataframe - Member serial no, "
      ],
      "metadata": {
        "id": "TTUoNJ3Yu9tr"
      }
    },
    {
      "cell_type": "code",
      "source": [
        "songextrainfo.head(100)"
      ],
      "metadata": {
        "colab": {
          "base_uri": "https://localhost:8080/",
          "height": 424
        },
        "id": "hGfDBLsAvZUM",
        "outputId": "b8fbc396-bf70-4cca-bb79-6a9ec20ab763"
      },
      "execution_count": 4,
      "outputs": [
        {
          "output_type": "execute_result",
          "data": {
            "text/plain": [
              "                                         song_id               name  \\\n",
              "0   LP7pLJoJFBvyuUwvu+oLzjT+bI+UeBPURCecJsX1jjs=                 我們   \n",
              "1   ClazTFnk6r0Bnuie44bocdNMM3rdlrq0bCGAsGUWcHE=    Let Me Love You   \n",
              "2   u2ja/bZE3zhCGxvbbOB3zOoUjx27u40cf5g09UXMoKQ=                原諒我   \n",
              "3   92Fqsy0+p6+RHe2EoLKjHahORHR1Kq1TBJoClW9v+Ts=            Classic   \n",
              "4   0QFmz/+rJy1Q56C1DuYqT9hKKqi5TUqx0sN0IwvoHrw=               愛投羅網   \n",
              "..                                           ...                ...   \n",
              "95  BzLojXj3nde+kOyOFx0Q0zDxyxbitlsdfhhg2Q7xDjU=    What Time Is It   \n",
              "96  5T18vNgsFtCKs03RiXei/IdH+aJudCEp1WanSK1eDjY=              最懂得愛你   \n",
              "97  jgkHcQGMojHLaYUWGxXhw/NaPsxD05Z3X3OVea1HwxI=         愛的鼓勵 (Woo)   \n",
              "98  wClbvD0nyZ///xIZwcpgnZVq5R6AXZJPnAJ1bUo6obU=   你和我 (You and Me)   \n",
              "99  r3e6EZvbBrEJRjNkuaayAORJLu1OFGgB9IJPWs3TJCw=  民謠‧Ej Lucka Lucka   \n",
              "\n",
              "            isrc  \n",
              "0   TWUM71200043  \n",
              "1   QMZSY1600015  \n",
              "2   TWA530887303  \n",
              "3   USSM11301446  \n",
              "4   TWA471306001  \n",
              "..           ...  \n",
              "95  USWD10731999  \n",
              "96  TWB519805906  \n",
              "97  TWA531480009  \n",
              "98  JPU901603290  \n",
              "99           NaN  \n",
              "\n",
              "[100 rows x 3 columns]"
            ],
            "text/html": [
              "\n",
              "  <div id=\"df-043fcffb-c7c7-439d-b935-ee044f059ecf\">\n",
              "    <div class=\"colab-df-container\">\n",
              "      <div>\n",
              "<style scoped>\n",
              "    .dataframe tbody tr th:only-of-type {\n",
              "        vertical-align: middle;\n",
              "    }\n",
              "\n",
              "    .dataframe tbody tr th {\n",
              "        vertical-align: top;\n",
              "    }\n",
              "\n",
              "    .dataframe thead th {\n",
              "        text-align: right;\n",
              "    }\n",
              "</style>\n",
              "<table border=\"1\" class=\"dataframe\">\n",
              "  <thead>\n",
              "    <tr style=\"text-align: right;\">\n",
              "      <th></th>\n",
              "      <th>song_id</th>\n",
              "      <th>name</th>\n",
              "      <th>isrc</th>\n",
              "    </tr>\n",
              "  </thead>\n",
              "  <tbody>\n",
              "    <tr>\n",
              "      <th>0</th>\n",
              "      <td>LP7pLJoJFBvyuUwvu+oLzjT+bI+UeBPURCecJsX1jjs=</td>\n",
              "      <td>我們</td>\n",
              "      <td>TWUM71200043</td>\n",
              "    </tr>\n",
              "    <tr>\n",
              "      <th>1</th>\n",
              "      <td>ClazTFnk6r0Bnuie44bocdNMM3rdlrq0bCGAsGUWcHE=</td>\n",
              "      <td>Let Me Love You</td>\n",
              "      <td>QMZSY1600015</td>\n",
              "    </tr>\n",
              "    <tr>\n",
              "      <th>2</th>\n",
              "      <td>u2ja/bZE3zhCGxvbbOB3zOoUjx27u40cf5g09UXMoKQ=</td>\n",
              "      <td>原諒我</td>\n",
              "      <td>TWA530887303</td>\n",
              "    </tr>\n",
              "    <tr>\n",
              "      <th>3</th>\n",
              "      <td>92Fqsy0+p6+RHe2EoLKjHahORHR1Kq1TBJoClW9v+Ts=</td>\n",
              "      <td>Classic</td>\n",
              "      <td>USSM11301446</td>\n",
              "    </tr>\n",
              "    <tr>\n",
              "      <th>4</th>\n",
              "      <td>0QFmz/+rJy1Q56C1DuYqT9hKKqi5TUqx0sN0IwvoHrw=</td>\n",
              "      <td>愛投羅網</td>\n",
              "      <td>TWA471306001</td>\n",
              "    </tr>\n",
              "    <tr>\n",
              "      <th>...</th>\n",
              "      <td>...</td>\n",
              "      <td>...</td>\n",
              "      <td>...</td>\n",
              "    </tr>\n",
              "    <tr>\n",
              "      <th>95</th>\n",
              "      <td>BzLojXj3nde+kOyOFx0Q0zDxyxbitlsdfhhg2Q7xDjU=</td>\n",
              "      <td>What Time Is It</td>\n",
              "      <td>USWD10731999</td>\n",
              "    </tr>\n",
              "    <tr>\n",
              "      <th>96</th>\n",
              "      <td>5T18vNgsFtCKs03RiXei/IdH+aJudCEp1WanSK1eDjY=</td>\n",
              "      <td>最懂得愛你</td>\n",
              "      <td>TWB519805906</td>\n",
              "    </tr>\n",
              "    <tr>\n",
              "      <th>97</th>\n",
              "      <td>jgkHcQGMojHLaYUWGxXhw/NaPsxD05Z3X3OVea1HwxI=</td>\n",
              "      <td>愛的鼓勵 (Woo)</td>\n",
              "      <td>TWA531480009</td>\n",
              "    </tr>\n",
              "    <tr>\n",
              "      <th>98</th>\n",
              "      <td>wClbvD0nyZ///xIZwcpgnZVq5R6AXZJPnAJ1bUo6obU=</td>\n",
              "      <td>你和我 (You and Me)</td>\n",
              "      <td>JPU901603290</td>\n",
              "    </tr>\n",
              "    <tr>\n",
              "      <th>99</th>\n",
              "      <td>r3e6EZvbBrEJRjNkuaayAORJLu1OFGgB9IJPWs3TJCw=</td>\n",
              "      <td>民謠‧Ej Lucka Lucka</td>\n",
              "      <td>NaN</td>\n",
              "    </tr>\n",
              "  </tbody>\n",
              "</table>\n",
              "<p>100 rows × 3 columns</p>\n",
              "</div>\n",
              "      <button class=\"colab-df-convert\" onclick=\"convertToInteractive('df-043fcffb-c7c7-439d-b935-ee044f059ecf')\"\n",
              "              title=\"Convert this dataframe to an interactive table.\"\n",
              "              style=\"display:none;\">\n",
              "        \n",
              "  <svg xmlns=\"http://www.w3.org/2000/svg\" height=\"24px\"viewBox=\"0 0 24 24\"\n",
              "       width=\"24px\">\n",
              "    <path d=\"M0 0h24v24H0V0z\" fill=\"none\"/>\n",
              "    <path d=\"M18.56 5.44l.94 2.06.94-2.06 2.06-.94-2.06-.94-.94-2.06-.94 2.06-2.06.94zm-11 1L8.5 8.5l.94-2.06 2.06-.94-2.06-.94L8.5 2.5l-.94 2.06-2.06.94zm10 10l.94 2.06.94-2.06 2.06-.94-2.06-.94-.94-2.06-.94 2.06-2.06.94z\"/><path d=\"M17.41 7.96l-1.37-1.37c-.4-.4-.92-.59-1.43-.59-.52 0-1.04.2-1.43.59L10.3 9.45l-7.72 7.72c-.78.78-.78 2.05 0 2.83L4 21.41c.39.39.9.59 1.41.59.51 0 1.02-.2 1.41-.59l7.78-7.78 2.81-2.81c.8-.78.8-2.07 0-2.86zM5.41 20L4 18.59l7.72-7.72 1.47 1.35L5.41 20z\"/>\n",
              "  </svg>\n",
              "      </button>\n",
              "      \n",
              "  <style>\n",
              "    .colab-df-container {\n",
              "      display:flex;\n",
              "      flex-wrap:wrap;\n",
              "      gap: 12px;\n",
              "    }\n",
              "\n",
              "    .colab-df-convert {\n",
              "      background-color: #E8F0FE;\n",
              "      border: none;\n",
              "      border-radius: 50%;\n",
              "      cursor: pointer;\n",
              "      display: none;\n",
              "      fill: #1967D2;\n",
              "      height: 32px;\n",
              "      padding: 0 0 0 0;\n",
              "      width: 32px;\n",
              "    }\n",
              "\n",
              "    .colab-df-convert:hover {\n",
              "      background-color: #E2EBFA;\n",
              "      box-shadow: 0px 1px 2px rgba(60, 64, 67, 0.3), 0px 1px 3px 1px rgba(60, 64, 67, 0.15);\n",
              "      fill: #174EA6;\n",
              "    }\n",
              "\n",
              "    [theme=dark] .colab-df-convert {\n",
              "      background-color: #3B4455;\n",
              "      fill: #D2E3FC;\n",
              "    }\n",
              "\n",
              "    [theme=dark] .colab-df-convert:hover {\n",
              "      background-color: #434B5C;\n",
              "      box-shadow: 0px 1px 3px 1px rgba(0, 0, 0, 0.15);\n",
              "      filter: drop-shadow(0px 1px 2px rgba(0, 0, 0, 0.3));\n",
              "      fill: #FFFFFF;\n",
              "    }\n",
              "  </style>\n",
              "\n",
              "      <script>\n",
              "        const buttonEl =\n",
              "          document.querySelector('#df-043fcffb-c7c7-439d-b935-ee044f059ecf button.colab-df-convert');\n",
              "        buttonEl.style.display =\n",
              "          google.colab.kernel.accessAllowed ? 'block' : 'none';\n",
              "\n",
              "        async function convertToInteractive(key) {\n",
              "          const element = document.querySelector('#df-043fcffb-c7c7-439d-b935-ee044f059ecf');\n",
              "          const dataTable =\n",
              "            await google.colab.kernel.invokeFunction('convertToInteractive',\n",
              "                                                     [key], {});\n",
              "          if (!dataTable) return;\n",
              "\n",
              "          const docLinkHtml = 'Like what you see? Visit the ' +\n",
              "            '<a target=\"_blank\" href=https://colab.research.google.com/notebooks/data_table.ipynb>data table notebook</a>'\n",
              "            + ' to learn more about interactive tables.';\n",
              "          element.innerHTML = '';\n",
              "          dataTable['output_type'] = 'display_data';\n",
              "          await google.colab.output.renderOutput(dataTable, element);\n",
              "          const docLink = document.createElement('div');\n",
              "          docLink.innerHTML = docLinkHtml;\n",
              "          element.appendChild(docLink);\n",
              "        }\n",
              "      </script>\n",
              "    </div>\n",
              "  </div>\n",
              "  "
            ]
          },
          "metadata": {},
          "execution_count": 4
        }
      ]
    },
    {
      "cell_type": "markdown",
      "source": [
        "Song_extra_info - Contains unique song_id, name of the song, isrc uniquely determines the song."
      ],
      "metadata": {
        "id": "01YfeK-xvfDw"
      }
    },
    {
      "cell_type": "code",
      "source": [
        "song.head(100)"
      ],
      "metadata": {
        "colab": {
          "base_uri": "https://localhost:8080/",
          "height": 537
        },
        "id": "MZLYJ9Buvc3g",
        "outputId": "8bc93121-04a1-41f0-e982-71ff10075937"
      },
      "execution_count": 5,
      "outputs": [
        {
          "output_type": "execute_result",
          "data": {
            "text/plain": [
              "                                         song_id  song_length  genre_ids  \\\n",
              "0   CXoTN1eb7AI+DntdU1vbcwGRV4SCIDxZu+YD8JP8r4E=     247640.0        465   \n",
              "1   o0kFgae9QtnYgRkVPqLJwa05zIhRlUjfF7O1tDw0ZDU=     197328.0        444   \n",
              "2   DwVvVurfpuz+XPuFvucclVQEyPqcpUkHR0ne1RQzPs0=     231781.0        465   \n",
              "3   dKMBWoZyScdxSkihKG+Vf47nc18N9q4m58+b4e7dSSE=     273554.0        465   \n",
              "4   W3bqWd3T+VeHFzHAUfARgW9AvVRaF4N5Yzm4Mr6Eo/o=     140329.0        726   \n",
              "..                                           ...          ...        ...   \n",
              "95  /XuPT2n3/VjGZuKKCxEwj97F6DRWiyBmFQpoZN8I5/M=     219324.0  1609|2107   \n",
              "96  XCLTSwcKdd4emAdtdyYPKU8XPCJwh0GH2JwQhI4Bf0U=     186906.0       2022   \n",
              "97  Z0J/qtjv7A5dtkS+xgQ173lvH/s47INk3vbzdC0Y99Y=     235937.0        465   \n",
              "98  O80yuLYpg2y/512HcLB+gzaH/waW4mC50B1q3mg2qio=     166321.0        921   \n",
              "99  +uLozC5Uy/kiXdW76c/Jcyj/edSaCqmohhVUhaSD8p0=     169377.0        921   \n",
              "\n",
              "                       artist_name                            composer  \\\n",
              "0                 張信哲 (Jeff Chang)                                  董貞   \n",
              "1                        BLACKPINK  TEDDY|  FUTURE BOUNCE|  Bekuh BOOM   \n",
              "2                     SUPER JUNIOR                                 NaN   \n",
              "3                            S.H.E                                 湯小康   \n",
              "4                             貴族精選                         Traditional   \n",
              "..                             ...                                 ...   \n",
              "95  Kyary Pamyu Pamyu (きゃりーぱみゅぱみゅ)                     Yasutaka Nakata   \n",
              "96                         Skillet        John L. Cooper| Korey Cooper   \n",
              "97                梁靜茹 (Fish Leong)                                 NaN   \n",
              "98                  Alan Silvestri                      Alan Silvestri   \n",
              "99                 Various Artists                                 NaN   \n",
              "\n",
              "           lyricist  language  \n",
              "0               何啟弘       3.0  \n",
              "1             TEDDY      31.0  \n",
              "2               NaN      31.0  \n",
              "3               徐世珍       3.0  \n",
              "4       Traditional      52.0  \n",
              "..              ...       ...  \n",
              "95  Yasutaka Nakata      17.0  \n",
              "96              NaN      52.0  \n",
              "97              NaN       3.0  \n",
              "98              NaN      52.0  \n",
              "99              NaN      52.0  \n",
              "\n",
              "[100 rows x 7 columns]"
            ],
            "text/html": [
              "\n",
              "  <div id=\"df-41699335-fd78-4914-ae88-15ebfaa827e1\">\n",
              "    <div class=\"colab-df-container\">\n",
              "      <div>\n",
              "<style scoped>\n",
              "    .dataframe tbody tr th:only-of-type {\n",
              "        vertical-align: middle;\n",
              "    }\n",
              "\n",
              "    .dataframe tbody tr th {\n",
              "        vertical-align: top;\n",
              "    }\n",
              "\n",
              "    .dataframe thead th {\n",
              "        text-align: right;\n",
              "    }\n",
              "</style>\n",
              "<table border=\"1\" class=\"dataframe\">\n",
              "  <thead>\n",
              "    <tr style=\"text-align: right;\">\n",
              "      <th></th>\n",
              "      <th>song_id</th>\n",
              "      <th>song_length</th>\n",
              "      <th>genre_ids</th>\n",
              "      <th>artist_name</th>\n",
              "      <th>composer</th>\n",
              "      <th>lyricist</th>\n",
              "      <th>language</th>\n",
              "    </tr>\n",
              "  </thead>\n",
              "  <tbody>\n",
              "    <tr>\n",
              "      <th>0</th>\n",
              "      <td>CXoTN1eb7AI+DntdU1vbcwGRV4SCIDxZu+YD8JP8r4E=</td>\n",
              "      <td>247640.0</td>\n",
              "      <td>465</td>\n",
              "      <td>張信哲 (Jeff Chang)</td>\n",
              "      <td>董貞</td>\n",
              "      <td>何啟弘</td>\n",
              "      <td>3.0</td>\n",
              "    </tr>\n",
              "    <tr>\n",
              "      <th>1</th>\n",
              "      <td>o0kFgae9QtnYgRkVPqLJwa05zIhRlUjfF7O1tDw0ZDU=</td>\n",
              "      <td>197328.0</td>\n",
              "      <td>444</td>\n",
              "      <td>BLACKPINK</td>\n",
              "      <td>TEDDY|  FUTURE BOUNCE|  Bekuh BOOM</td>\n",
              "      <td>TEDDY</td>\n",
              "      <td>31.0</td>\n",
              "    </tr>\n",
              "    <tr>\n",
              "      <th>2</th>\n",
              "      <td>DwVvVurfpuz+XPuFvucclVQEyPqcpUkHR0ne1RQzPs0=</td>\n",
              "      <td>231781.0</td>\n",
              "      <td>465</td>\n",
              "      <td>SUPER JUNIOR</td>\n",
              "      <td>NaN</td>\n",
              "      <td>NaN</td>\n",
              "      <td>31.0</td>\n",
              "    </tr>\n",
              "    <tr>\n",
              "      <th>3</th>\n",
              "      <td>dKMBWoZyScdxSkihKG+Vf47nc18N9q4m58+b4e7dSSE=</td>\n",
              "      <td>273554.0</td>\n",
              "      <td>465</td>\n",
              "      <td>S.H.E</td>\n",
              "      <td>湯小康</td>\n",
              "      <td>徐世珍</td>\n",
              "      <td>3.0</td>\n",
              "    </tr>\n",
              "    <tr>\n",
              "      <th>4</th>\n",
              "      <td>W3bqWd3T+VeHFzHAUfARgW9AvVRaF4N5Yzm4Mr6Eo/o=</td>\n",
              "      <td>140329.0</td>\n",
              "      <td>726</td>\n",
              "      <td>貴族精選</td>\n",
              "      <td>Traditional</td>\n",
              "      <td>Traditional</td>\n",
              "      <td>52.0</td>\n",
              "    </tr>\n",
              "    <tr>\n",
              "      <th>...</th>\n",
              "      <td>...</td>\n",
              "      <td>...</td>\n",
              "      <td>...</td>\n",
              "      <td>...</td>\n",
              "      <td>...</td>\n",
              "      <td>...</td>\n",
              "      <td>...</td>\n",
              "    </tr>\n",
              "    <tr>\n",
              "      <th>95</th>\n",
              "      <td>/XuPT2n3/VjGZuKKCxEwj97F6DRWiyBmFQpoZN8I5/M=</td>\n",
              "      <td>219324.0</td>\n",
              "      <td>1609|2107</td>\n",
              "      <td>Kyary Pamyu Pamyu (きゃりーぱみゅぱみゅ)</td>\n",
              "      <td>Yasutaka Nakata</td>\n",
              "      <td>Yasutaka Nakata</td>\n",
              "      <td>17.0</td>\n",
              "    </tr>\n",
              "    <tr>\n",
              "      <th>96</th>\n",
              "      <td>XCLTSwcKdd4emAdtdyYPKU8XPCJwh0GH2JwQhI4Bf0U=</td>\n",
              "      <td>186906.0</td>\n",
              "      <td>2022</td>\n",
              "      <td>Skillet</td>\n",
              "      <td>John L. Cooper| Korey Cooper</td>\n",
              "      <td>NaN</td>\n",
              "      <td>52.0</td>\n",
              "    </tr>\n",
              "    <tr>\n",
              "      <th>97</th>\n",
              "      <td>Z0J/qtjv7A5dtkS+xgQ173lvH/s47INk3vbzdC0Y99Y=</td>\n",
              "      <td>235937.0</td>\n",
              "      <td>465</td>\n",
              "      <td>梁靜茹 (Fish Leong)</td>\n",
              "      <td>NaN</td>\n",
              "      <td>NaN</td>\n",
              "      <td>3.0</td>\n",
              "    </tr>\n",
              "    <tr>\n",
              "      <th>98</th>\n",
              "      <td>O80yuLYpg2y/512HcLB+gzaH/waW4mC50B1q3mg2qio=</td>\n",
              "      <td>166321.0</td>\n",
              "      <td>921</td>\n",
              "      <td>Alan Silvestri</td>\n",
              "      <td>Alan Silvestri</td>\n",
              "      <td>NaN</td>\n",
              "      <td>52.0</td>\n",
              "    </tr>\n",
              "    <tr>\n",
              "      <th>99</th>\n",
              "      <td>+uLozC5Uy/kiXdW76c/Jcyj/edSaCqmohhVUhaSD8p0=</td>\n",
              "      <td>169377.0</td>\n",
              "      <td>921</td>\n",
              "      <td>Various Artists</td>\n",
              "      <td>NaN</td>\n",
              "      <td>NaN</td>\n",
              "      <td>52.0</td>\n",
              "    </tr>\n",
              "  </tbody>\n",
              "</table>\n",
              "<p>100 rows × 7 columns</p>\n",
              "</div>\n",
              "      <button class=\"colab-df-convert\" onclick=\"convertToInteractive('df-41699335-fd78-4914-ae88-15ebfaa827e1')\"\n",
              "              title=\"Convert this dataframe to an interactive table.\"\n",
              "              style=\"display:none;\">\n",
              "        \n",
              "  <svg xmlns=\"http://www.w3.org/2000/svg\" height=\"24px\"viewBox=\"0 0 24 24\"\n",
              "       width=\"24px\">\n",
              "    <path d=\"M0 0h24v24H0V0z\" fill=\"none\"/>\n",
              "    <path d=\"M18.56 5.44l.94 2.06.94-2.06 2.06-.94-2.06-.94-.94-2.06-.94 2.06-2.06.94zm-11 1L8.5 8.5l.94-2.06 2.06-.94-2.06-.94L8.5 2.5l-.94 2.06-2.06.94zm10 10l.94 2.06.94-2.06 2.06-.94-2.06-.94-.94-2.06-.94 2.06-2.06.94z\"/><path d=\"M17.41 7.96l-1.37-1.37c-.4-.4-.92-.59-1.43-.59-.52 0-1.04.2-1.43.59L10.3 9.45l-7.72 7.72c-.78.78-.78 2.05 0 2.83L4 21.41c.39.39.9.59 1.41.59.51 0 1.02-.2 1.41-.59l7.78-7.78 2.81-2.81c.8-.78.8-2.07 0-2.86zM5.41 20L4 18.59l7.72-7.72 1.47 1.35L5.41 20z\"/>\n",
              "  </svg>\n",
              "      </button>\n",
              "      \n",
              "  <style>\n",
              "    .colab-df-container {\n",
              "      display:flex;\n",
              "      flex-wrap:wrap;\n",
              "      gap: 12px;\n",
              "    }\n",
              "\n",
              "    .colab-df-convert {\n",
              "      background-color: #E8F0FE;\n",
              "      border: none;\n",
              "      border-radius: 50%;\n",
              "      cursor: pointer;\n",
              "      display: none;\n",
              "      fill: #1967D2;\n",
              "      height: 32px;\n",
              "      padding: 0 0 0 0;\n",
              "      width: 32px;\n",
              "    }\n",
              "\n",
              "    .colab-df-convert:hover {\n",
              "      background-color: #E2EBFA;\n",
              "      box-shadow: 0px 1px 2px rgba(60, 64, 67, 0.3), 0px 1px 3px 1px rgba(60, 64, 67, 0.15);\n",
              "      fill: #174EA6;\n",
              "    }\n",
              "\n",
              "    [theme=dark] .colab-df-convert {\n",
              "      background-color: #3B4455;\n",
              "      fill: #D2E3FC;\n",
              "    }\n",
              "\n",
              "    [theme=dark] .colab-df-convert:hover {\n",
              "      background-color: #434B5C;\n",
              "      box-shadow: 0px 1px 3px 1px rgba(0, 0, 0, 0.15);\n",
              "      filter: drop-shadow(0px 1px 2px rgba(0, 0, 0, 0.3));\n",
              "      fill: #FFFFFF;\n",
              "    }\n",
              "  </style>\n",
              "\n",
              "      <script>\n",
              "        const buttonEl =\n",
              "          document.querySelector('#df-41699335-fd78-4914-ae88-15ebfaa827e1 button.colab-df-convert');\n",
              "        buttonEl.style.display =\n",
              "          google.colab.kernel.accessAllowed ? 'block' : 'none';\n",
              "\n",
              "        async function convertToInteractive(key) {\n",
              "          const element = document.querySelector('#df-41699335-fd78-4914-ae88-15ebfaa827e1');\n",
              "          const dataTable =\n",
              "            await google.colab.kernel.invokeFunction('convertToInteractive',\n",
              "                                                     [key], {});\n",
              "          if (!dataTable) return;\n",
              "\n",
              "          const docLinkHtml = 'Like what you see? Visit the ' +\n",
              "            '<a target=\"_blank\" href=https://colab.research.google.com/notebooks/data_table.ipynb>data table notebook</a>'\n",
              "            + ' to learn more about interactive tables.';\n",
              "          element.innerHTML = '';\n",
              "          dataTable['output_type'] = 'display_data';\n",
              "          await google.colab.output.renderOutput(dataTable, element);\n",
              "          const docLink = document.createElement('div');\n",
              "          docLink.innerHTML = docLinkHtml;\n",
              "          element.appendChild(docLink);\n",
              "        }\n",
              "      </script>\n",
              "    </div>\n",
              "  </div>\n",
              "  "
            ]
          },
          "metadata": {},
          "execution_count": 5
        }
      ]
    },
    {
      "cell_type": "code",
      "source": [
        "train.head(100)"
      ],
      "metadata": {
        "colab": {
          "base_uri": "https://localhost:8080/",
          "height": 522
        },
        "id": "KbtVLBI7v04N",
        "outputId": "c34ba3f6-c29b-4b3e-b44a-7e285685141a"
      },
      "execution_count": 6,
      "outputs": [
        {
          "output_type": "execute_result",
          "data": {
            "text/plain": [
              "                                            msno  \\\n",
              "0   FGtllVqz18RPiwJj/edr2gV78zirAiY/9SmYvia+kCg=   \n",
              "1   Xumu+NIjS6QYVxDS4/t3SawvJ7viT9hPKXmf0RtLNx8=   \n",
              "2   Xumu+NIjS6QYVxDS4/t3SawvJ7viT9hPKXmf0RtLNx8=   \n",
              "3   Xumu+NIjS6QYVxDS4/t3SawvJ7viT9hPKXmf0RtLNx8=   \n",
              "4   FGtllVqz18RPiwJj/edr2gV78zirAiY/9SmYvia+kCg=   \n",
              "..                                           ...   \n",
              "95  Eaq21N7ijazDjnqU5v1jjWewJopGxgZxkKr4GIq7JTs=   \n",
              "96  pNPe9+kUnGJem0nHfYPdQ/Jx5yNlGLTJLshSohjkSdA=   \n",
              "97  pNPe9+kUnGJem0nHfYPdQ/Jx5yNlGLTJLshSohjkSdA=   \n",
              "98  pNPe9+kUnGJem0nHfYPdQ/Jx5yNlGLTJLshSohjkSdA=   \n",
              "99  pNPe9+kUnGJem0nHfYPdQ/Jx5yNlGLTJLshSohjkSdA=   \n",
              "\n",
              "                                         song_id source_system_tab  \\\n",
              "0   BBzumQNXUHKdEBOB7mAJuzok+IJA1c2Ryg/yzTF6tik=           explore   \n",
              "1   bhp/MpSNoqoxOIB+/l8WPqu6jldth4DIpCm3ayXnJqM=        my library   \n",
              "2   JNWfrrC7zNN7BdMpsISKa4Mw+xVJYNnxXh3/Epw7QgY=        my library   \n",
              "3   2A87tzfnJTSWqD7gIZHisolhe4DMdzkbd6LzO1KHjNs=        my library   \n",
              "4   3qm6XTZ6MOCU11x8FIVbAGH5l5uMkT3/ZalWG1oo2Gc=           explore   \n",
              "..                                           ...               ...   \n",
              "95  BwDDym6Tp7EnGudWBGJyjONZeX0/4ndu5PETiPWzav8=        my library   \n",
              "96  b+OlR6qF0gzG++m+sYrOnf7bJF6WmXv51xGLBpmugxg=        my library   \n",
              "97  9tNXaK/yKJfTcoWLRFw6HXplizDxq4bFvzs3scmesCU=        my library   \n",
              "98  dKsoBHe5cVhyQSU8CimXs4ysaAky4RNgBwIafHaLkik=        my library   \n",
              "99  3W6VBSN09a/Vh9w1Fwmdus4H4xxmde/yu0RBgMcTtZM=        my library   \n",
              "\n",
              "     source_screen_name      source_type  target  \n",
              "0               Explore  online-playlist     1.0  \n",
              "1   Local playlist more   local-playlist     1.0  \n",
              "2   Local playlist more   local-playlist     1.0  \n",
              "3   Local playlist more   local-playlist     1.0  \n",
              "4               Explore  online-playlist     1.0  \n",
              "..                  ...              ...     ...  \n",
              "95                  NaN    local-library     1.0  \n",
              "96  Local playlist more    local-library     1.0  \n",
              "97  Local playlist more    local-library     1.0  \n",
              "98  Local playlist more    local-library     1.0  \n",
              "99  Local playlist more    local-library     1.0  \n",
              "\n",
              "[100 rows x 6 columns]"
            ],
            "text/html": [
              "\n",
              "  <div id=\"df-400d11e3-3f53-4ff9-bdcf-f59b37e58734\">\n",
              "    <div class=\"colab-df-container\">\n",
              "      <div>\n",
              "<style scoped>\n",
              "    .dataframe tbody tr th:only-of-type {\n",
              "        vertical-align: middle;\n",
              "    }\n",
              "\n",
              "    .dataframe tbody tr th {\n",
              "        vertical-align: top;\n",
              "    }\n",
              "\n",
              "    .dataframe thead th {\n",
              "        text-align: right;\n",
              "    }\n",
              "</style>\n",
              "<table border=\"1\" class=\"dataframe\">\n",
              "  <thead>\n",
              "    <tr style=\"text-align: right;\">\n",
              "      <th></th>\n",
              "      <th>msno</th>\n",
              "      <th>song_id</th>\n",
              "      <th>source_system_tab</th>\n",
              "      <th>source_screen_name</th>\n",
              "      <th>source_type</th>\n",
              "      <th>target</th>\n",
              "    </tr>\n",
              "  </thead>\n",
              "  <tbody>\n",
              "    <tr>\n",
              "      <th>0</th>\n",
              "      <td>FGtllVqz18RPiwJj/edr2gV78zirAiY/9SmYvia+kCg=</td>\n",
              "      <td>BBzumQNXUHKdEBOB7mAJuzok+IJA1c2Ryg/yzTF6tik=</td>\n",
              "      <td>explore</td>\n",
              "      <td>Explore</td>\n",
              "      <td>online-playlist</td>\n",
              "      <td>1.0</td>\n",
              "    </tr>\n",
              "    <tr>\n",
              "      <th>1</th>\n",
              "      <td>Xumu+NIjS6QYVxDS4/t3SawvJ7viT9hPKXmf0RtLNx8=</td>\n",
              "      <td>bhp/MpSNoqoxOIB+/l8WPqu6jldth4DIpCm3ayXnJqM=</td>\n",
              "      <td>my library</td>\n",
              "      <td>Local playlist more</td>\n",
              "      <td>local-playlist</td>\n",
              "      <td>1.0</td>\n",
              "    </tr>\n",
              "    <tr>\n",
              "      <th>2</th>\n",
              "      <td>Xumu+NIjS6QYVxDS4/t3SawvJ7viT9hPKXmf0RtLNx8=</td>\n",
              "      <td>JNWfrrC7zNN7BdMpsISKa4Mw+xVJYNnxXh3/Epw7QgY=</td>\n",
              "      <td>my library</td>\n",
              "      <td>Local playlist more</td>\n",
              "      <td>local-playlist</td>\n",
              "      <td>1.0</td>\n",
              "    </tr>\n",
              "    <tr>\n",
              "      <th>3</th>\n",
              "      <td>Xumu+NIjS6QYVxDS4/t3SawvJ7viT9hPKXmf0RtLNx8=</td>\n",
              "      <td>2A87tzfnJTSWqD7gIZHisolhe4DMdzkbd6LzO1KHjNs=</td>\n",
              "      <td>my library</td>\n",
              "      <td>Local playlist more</td>\n",
              "      <td>local-playlist</td>\n",
              "      <td>1.0</td>\n",
              "    </tr>\n",
              "    <tr>\n",
              "      <th>4</th>\n",
              "      <td>FGtllVqz18RPiwJj/edr2gV78zirAiY/9SmYvia+kCg=</td>\n",
              "      <td>3qm6XTZ6MOCU11x8FIVbAGH5l5uMkT3/ZalWG1oo2Gc=</td>\n",
              "      <td>explore</td>\n",
              "      <td>Explore</td>\n",
              "      <td>online-playlist</td>\n",
              "      <td>1.0</td>\n",
              "    </tr>\n",
              "    <tr>\n",
              "      <th>...</th>\n",
              "      <td>...</td>\n",
              "      <td>...</td>\n",
              "      <td>...</td>\n",
              "      <td>...</td>\n",
              "      <td>...</td>\n",
              "      <td>...</td>\n",
              "    </tr>\n",
              "    <tr>\n",
              "      <th>95</th>\n",
              "      <td>Eaq21N7ijazDjnqU5v1jjWewJopGxgZxkKr4GIq7JTs=</td>\n",
              "      <td>BwDDym6Tp7EnGudWBGJyjONZeX0/4ndu5PETiPWzav8=</td>\n",
              "      <td>my library</td>\n",
              "      <td>NaN</td>\n",
              "      <td>local-library</td>\n",
              "      <td>1.0</td>\n",
              "    </tr>\n",
              "    <tr>\n",
              "      <th>96</th>\n",
              "      <td>pNPe9+kUnGJem0nHfYPdQ/Jx5yNlGLTJLshSohjkSdA=</td>\n",
              "      <td>b+OlR6qF0gzG++m+sYrOnf7bJF6WmXv51xGLBpmugxg=</td>\n",
              "      <td>my library</td>\n",
              "      <td>Local playlist more</td>\n",
              "      <td>local-library</td>\n",
              "      <td>1.0</td>\n",
              "    </tr>\n",
              "    <tr>\n",
              "      <th>97</th>\n",
              "      <td>pNPe9+kUnGJem0nHfYPdQ/Jx5yNlGLTJLshSohjkSdA=</td>\n",
              "      <td>9tNXaK/yKJfTcoWLRFw6HXplizDxq4bFvzs3scmesCU=</td>\n",
              "      <td>my library</td>\n",
              "      <td>Local playlist more</td>\n",
              "      <td>local-library</td>\n",
              "      <td>1.0</td>\n",
              "    </tr>\n",
              "    <tr>\n",
              "      <th>98</th>\n",
              "      <td>pNPe9+kUnGJem0nHfYPdQ/Jx5yNlGLTJLshSohjkSdA=</td>\n",
              "      <td>dKsoBHe5cVhyQSU8CimXs4ysaAky4RNgBwIafHaLkik=</td>\n",
              "      <td>my library</td>\n",
              "      <td>Local playlist more</td>\n",
              "      <td>local-library</td>\n",
              "      <td>1.0</td>\n",
              "    </tr>\n",
              "    <tr>\n",
              "      <th>99</th>\n",
              "      <td>pNPe9+kUnGJem0nHfYPdQ/Jx5yNlGLTJLshSohjkSdA=</td>\n",
              "      <td>3W6VBSN09a/Vh9w1Fwmdus4H4xxmde/yu0RBgMcTtZM=</td>\n",
              "      <td>my library</td>\n",
              "      <td>Local playlist more</td>\n",
              "      <td>local-library</td>\n",
              "      <td>1.0</td>\n",
              "    </tr>\n",
              "  </tbody>\n",
              "</table>\n",
              "<p>100 rows × 6 columns</p>\n",
              "</div>\n",
              "      <button class=\"colab-df-convert\" onclick=\"convertToInteractive('df-400d11e3-3f53-4ff9-bdcf-f59b37e58734')\"\n",
              "              title=\"Convert this dataframe to an interactive table.\"\n",
              "              style=\"display:none;\">\n",
              "        \n",
              "  <svg xmlns=\"http://www.w3.org/2000/svg\" height=\"24px\"viewBox=\"0 0 24 24\"\n",
              "       width=\"24px\">\n",
              "    <path d=\"M0 0h24v24H0V0z\" fill=\"none\"/>\n",
              "    <path d=\"M18.56 5.44l.94 2.06.94-2.06 2.06-.94-2.06-.94-.94-2.06-.94 2.06-2.06.94zm-11 1L8.5 8.5l.94-2.06 2.06-.94-2.06-.94L8.5 2.5l-.94 2.06-2.06.94zm10 10l.94 2.06.94-2.06 2.06-.94-2.06-.94-.94-2.06-.94 2.06-2.06.94z\"/><path d=\"M17.41 7.96l-1.37-1.37c-.4-.4-.92-.59-1.43-.59-.52 0-1.04.2-1.43.59L10.3 9.45l-7.72 7.72c-.78.78-.78 2.05 0 2.83L4 21.41c.39.39.9.59 1.41.59.51 0 1.02-.2 1.41-.59l7.78-7.78 2.81-2.81c.8-.78.8-2.07 0-2.86zM5.41 20L4 18.59l7.72-7.72 1.47 1.35L5.41 20z\"/>\n",
              "  </svg>\n",
              "      </button>\n",
              "      \n",
              "  <style>\n",
              "    .colab-df-container {\n",
              "      display:flex;\n",
              "      flex-wrap:wrap;\n",
              "      gap: 12px;\n",
              "    }\n",
              "\n",
              "    .colab-df-convert {\n",
              "      background-color: #E8F0FE;\n",
              "      border: none;\n",
              "      border-radius: 50%;\n",
              "      cursor: pointer;\n",
              "      display: none;\n",
              "      fill: #1967D2;\n",
              "      height: 32px;\n",
              "      padding: 0 0 0 0;\n",
              "      width: 32px;\n",
              "    }\n",
              "\n",
              "    .colab-df-convert:hover {\n",
              "      background-color: #E2EBFA;\n",
              "      box-shadow: 0px 1px 2px rgba(60, 64, 67, 0.3), 0px 1px 3px 1px rgba(60, 64, 67, 0.15);\n",
              "      fill: #174EA6;\n",
              "    }\n",
              "\n",
              "    [theme=dark] .colab-df-convert {\n",
              "      background-color: #3B4455;\n",
              "      fill: #D2E3FC;\n",
              "    }\n",
              "\n",
              "    [theme=dark] .colab-df-convert:hover {\n",
              "      background-color: #434B5C;\n",
              "      box-shadow: 0px 1px 3px 1px rgba(0, 0, 0, 0.15);\n",
              "      filter: drop-shadow(0px 1px 2px rgba(0, 0, 0, 0.3));\n",
              "      fill: #FFFFFF;\n",
              "    }\n",
              "  </style>\n",
              "\n",
              "      <script>\n",
              "        const buttonEl =\n",
              "          document.querySelector('#df-400d11e3-3f53-4ff9-bdcf-f59b37e58734 button.colab-df-convert');\n",
              "        buttonEl.style.display =\n",
              "          google.colab.kernel.accessAllowed ? 'block' : 'none';\n",
              "\n",
              "        async function convertToInteractive(key) {\n",
              "          const element = document.querySelector('#df-400d11e3-3f53-4ff9-bdcf-f59b37e58734');\n",
              "          const dataTable =\n",
              "            await google.colab.kernel.invokeFunction('convertToInteractive',\n",
              "                                                     [key], {});\n",
              "          if (!dataTable) return;\n",
              "\n",
              "          const docLinkHtml = 'Like what you see? Visit the ' +\n",
              "            '<a target=\"_blank\" href=https://colab.research.google.com/notebooks/data_table.ipynb>data table notebook</a>'\n",
              "            + ' to learn more about interactive tables.';\n",
              "          element.innerHTML = '';\n",
              "          dataTable['output_type'] = 'display_data';\n",
              "          await google.colab.output.renderOutput(dataTable, element);\n",
              "          const docLink = document.createElement('div');\n",
              "          docLink.innerHTML = docLinkHtml;\n",
              "          element.appendChild(docLink);\n",
              "        }\n",
              "      </script>\n",
              "    </div>\n",
              "  </div>\n",
              "  "
            ]
          },
          "metadata": {},
          "execution_count": 6
        }
      ]
    },
    {
      "cell_type": "markdown",
      "source": [
        "Train dataset - member serialno., song_id of the the song the members listens to, target - says whether the song is listened more than once in the month"
      ],
      "metadata": {
        "id": "AuSyBXzNwG30"
      }
    },
    {
      "cell_type": "code",
      "source": [
        "m1 = pd.merge(train,song, on='song_id',how='left')\n",
        "m2 = pd.merge(m1,songextrainfo, on='song_id',how='left')\n",
        "msongs = pd.merge(m2,members, on='msno',how='left')\n",
        "#del m1,m2,members,songextrainfo,song,train\n",
        "print('Columns of the merge dataset (msongs) are: \\n',msongs.columns)"
      ],
      "metadata": {
        "colab": {
          "base_uri": "https://localhost:8080/"
        },
        "id": "Wm_b23XzwDJg",
        "outputId": "cec17255-efb0-4069-d33c-713425192bb3"
      },
      "execution_count": 7,
      "outputs": [
        {
          "output_type": "stream",
          "name": "stdout",
          "text": [
            "Columns of the merge dataset (msongs) are: \n",
            " Index(['msno', 'song_id', 'source_system_tab', 'source_screen_name',\n",
            "       'source_type', 'target', 'song_length', 'genre_ids', 'artist_name',\n",
            "       'composer', 'lyricist', 'language', 'name', 'isrc', 'city', 'bd',\n",
            "       'gender', 'registered_via', 'registration_init_time',\n",
            "       'expiration_date'],\n",
            "      dtype='object')\n"
          ]
        }
      ]
    },
    {
      "cell_type": "code",
      "source": [
        "print(msongs.head(10))"
      ],
      "metadata": {
        "colab": {
          "base_uri": "https://localhost:8080/"
        },
        "id": "1PfiRJI3wtzg",
        "outputId": "c3fdc307-8672-4741-b0d0-0c00a81d3288"
      },
      "execution_count": 8,
      "outputs": [
        {
          "output_type": "stream",
          "name": "stdout",
          "text": [
            "                                           msno  \\\n",
            "0  FGtllVqz18RPiwJj/edr2gV78zirAiY/9SmYvia+kCg=   \n",
            "1  Xumu+NIjS6QYVxDS4/t3SawvJ7viT9hPKXmf0RtLNx8=   \n",
            "2  Xumu+NIjS6QYVxDS4/t3SawvJ7viT9hPKXmf0RtLNx8=   \n",
            "3  Xumu+NIjS6QYVxDS4/t3SawvJ7viT9hPKXmf0RtLNx8=   \n",
            "4  FGtllVqz18RPiwJj/edr2gV78zirAiY/9SmYvia+kCg=   \n",
            "5  FGtllVqz18RPiwJj/edr2gV78zirAiY/9SmYvia+kCg=   \n",
            "6  Xumu+NIjS6QYVxDS4/t3SawvJ7viT9hPKXmf0RtLNx8=   \n",
            "7  FGtllVqz18RPiwJj/edr2gV78zirAiY/9SmYvia+kCg=   \n",
            "8  uHqAtShXTRXju5GE8ri3ITsVFepPf8jUoCF7ffNOuqE=   \n",
            "9  uHqAtShXTRXju5GE8ri3ITsVFepPf8jUoCF7ffNOuqE=   \n",
            "\n",
            "                                        song_id source_system_tab  \\\n",
            "0  BBzumQNXUHKdEBOB7mAJuzok+IJA1c2Ryg/yzTF6tik=           explore   \n",
            "1  bhp/MpSNoqoxOIB+/l8WPqu6jldth4DIpCm3ayXnJqM=        my library   \n",
            "2  JNWfrrC7zNN7BdMpsISKa4Mw+xVJYNnxXh3/Epw7QgY=        my library   \n",
            "3  2A87tzfnJTSWqD7gIZHisolhe4DMdzkbd6LzO1KHjNs=        my library   \n",
            "4  3qm6XTZ6MOCU11x8FIVbAGH5l5uMkT3/ZalWG1oo2Gc=           explore   \n",
            "5  3Hg5kugV1S0wzEVLAEfqjIV5UHzb7bCrdBRQlGygLvU=           explore   \n",
            "6  VkILU0H1h3NMmk9MQrXouNudGk5n8Ls5cqRRuBxeTh4=        my library   \n",
            "7  bPIvRTzfHxH5LgHrStll+tYwSQNVV8PySgA3M1PfTgc=           explore   \n",
            "8  /bU6IRSK+YNlNbaTkxo7bhsb2EDLPrnksdX3ggcZNhI=        my library   \n",
            "9  EbI7xoNxI+3QSsiHxL13zBdgHIJOwa3srHd7cDcnJ0g=        my library   \n",
            "\n",
            "    source_screen_name      source_type  target  song_length genre_ids  \\\n",
            "0              Explore  online-playlist     1.0          NaN       NaN   \n",
            "1  Local playlist more   local-playlist     1.0          NaN       NaN   \n",
            "2  Local playlist more   local-playlist     1.0          NaN       NaN   \n",
            "3  Local playlist more   local-playlist     1.0          NaN       NaN   \n",
            "4              Explore  online-playlist     1.0          NaN       NaN   \n",
            "5              Explore  online-playlist     1.0     247803.0      1259   \n",
            "6  Local playlist more   local-playlist     1.0          NaN       NaN   \n",
            "7              Explore  online-playlist     1.0          NaN       NaN   \n",
            "8  Local playlist more    local-library     1.0          NaN       NaN   \n",
            "9  Local playlist more    local-library     1.0          NaN       NaN   \n",
            "\n",
            "  artist_name                  composer lyricist  language               name  \\\n",
            "0         NaN                       NaN      NaN       NaN                NaN   \n",
            "1         NaN                       NaN      NaN       NaN                NaN   \n",
            "2         NaN                       NaN      NaN       NaN                NaN   \n",
            "3         NaN                       NaN      NaN       NaN                NaN   \n",
            "4         NaN                       NaN      NaN       NaN  Sleep Without You   \n",
            "5   Desiigner  Sidney Selby| Adnan Khan      NaN      52.0                NaN   \n",
            "6         NaN                       NaN      NaN       NaN                NaN   \n",
            "7         NaN                       NaN      NaN       NaN                NaN   \n",
            "8         NaN                       NaN      NaN       NaN                NaN   \n",
            "9         NaN                       NaN      NaN       NaN                NaN   \n",
            "\n",
            "           isrc  city    bd  gender  registered_via  registration_init_time  \\\n",
            "0           NaN   1.0   0.0     NaN             7.0              20120102.0   \n",
            "1           NaN  13.0  24.0  female             9.0              20110525.0   \n",
            "2           NaN  13.0  24.0  female             9.0              20110525.0   \n",
            "3           NaN  13.0  24.0  female             9.0              20110525.0   \n",
            "4  QM3E21606003   1.0   0.0     NaN             7.0              20120102.0   \n",
            "5           NaN   1.0   0.0     NaN             7.0              20120102.0   \n",
            "6           NaN  13.0  24.0  female             9.0              20110525.0   \n",
            "7           NaN   1.0   0.0     NaN             7.0              20120102.0   \n",
            "8           NaN  15.0  26.0    male             9.0              20111107.0   \n",
            "9           NaN  15.0  26.0    male             9.0              20111107.0   \n",
            "\n",
            "   expiration_date  \n",
            "0       20171005.0  \n",
            "1       20170911.0  \n",
            "2       20170911.0  \n",
            "3       20170911.0  \n",
            "4       20171005.0  \n",
            "5       20171005.0  \n",
            "6       20170911.0  \n",
            "7       20171005.0  \n",
            "8       20180304.0  \n",
            "9       20180304.0  \n"
          ]
        }
      ]
    },
    {
      "cell_type": "markdown",
      "source": [
        "Analysing the data\n",
        "\n",
        "\n",
        "---\n",
        "\n",
        "\n",
        "\n",
        "---\n",
        "\n"
      ],
      "metadata": {
        "id": "988eON7Fxp3W"
      }
    },
    {
      "cell_type": "code",
      "source": [
        "msongs.shape"
      ],
      "metadata": {
        "colab": {
          "base_uri": "https://localhost:8080/"
        },
        "id": "UGisIkUSxWdo",
        "outputId": "50bd5fad-13c4-4ba5-bd5d-e60e551ef0c9"
      },
      "execution_count": 9,
      "outputs": [
        {
          "output_type": "execute_result",
          "data": {
            "text/plain": [
              "(70272, 20)"
            ]
          },
          "metadata": {},
          "execution_count": 9
        }
      ]
    },
    {
      "cell_type": "code",
      "source": [
        "#Algorithm to find the top listened songs.\n",
        "t_songs =msongs[msongs['target']==1]\n",
        "t_songs['rat']=1\n",
        "top_songs=t_songs.groupby(by=['name'])['rat'].sum()\n",
        "#print(msongs.columns)\n",
        "#print(t_songs[12:12])\n",
        "sorted_top = top_songs.sort_values(ascending=False)\n",
        "print(sorted_top.head())"
      ],
      "metadata": {
        "colab": {
          "base_uri": "https://localhost:8080/"
        },
        "id": "Ucs-xBUvylVk",
        "outputId": "766dffdc-f538-43da-9187-f97cecdd714f"
      },
      "execution_count": null,
      "outputs": [
        {
          "output_type": "stream",
          "name": "stdout",
          "text": [
            "name\n",
            "你，好不好？ (How Have You Been?)    365\n",
            "不該                             331\n",
            "默                              294\n",
            "好愛好散 (Blue Love Theme)         280\n",
            "Closer                         267\n",
            "Name: rat, dtype: int64\n"
          ]
        },
        {
          "output_type": "stream",
          "name": "stderr",
          "text": [
            "/usr/local/lib/python3.7/dist-packages/ipykernel_launcher.py:2: SettingWithCopyWarning: \n",
            "A value is trying to be set on a copy of a slice from a DataFrame.\n",
            "Try using .loc[row_indexer,col_indexer] = value instead\n",
            "\n",
            "See the caveats in the documentation: https://pandas.pydata.org/pandas-docs/stable/user_guide/indexing.html#returning-a-view-versus-a-copy\n",
            "  \n"
          ]
        }
      ]
    },
    {
      "cell_type": "code",
      "source": [
        "#Algorithm to find the least listened songs.\n",
        "t_songs =msongs[msongs['target']==0]\n",
        "t_songs['rat']=1\n",
        "top_songs=t_songs.groupby(by=['name'])['rat'].sum()\n",
        "#print(msongs.columns)\n",
        "#print(t_songs[12:12])\n",
        "sorted_top = top_songs.sort_values(ascending=False)\n",
        "print(sorted_top.tail())"
      ],
      "metadata": {
        "colab": {
          "base_uri": "https://localhost:8080/"
        },
        "id": "nY2oqNvK4VVd",
        "outputId": "5daee24e-5d7c-4878-b1ff-3bef6a8bac4b"
      },
      "execution_count": 10,
      "outputs": [
        {
          "output_type": "stream",
          "name": "stdout",
          "text": [
            "name\n",
            "Susan說                 1\n",
            "Sway                   1\n",
            "Sway It| Hula Girl     1\n",
            "Sweet Child O' Mine    1\n",
            "희망 / 별이삼우물정            1\n",
            "Name: rat, dtype: int64\n"
          ]
        },
        {
          "output_type": "stream",
          "name": "stderr",
          "text": [
            "<ipython-input-10-f55def61092f>:3: SettingWithCopyWarning: \n",
            "A value is trying to be set on a copy of a slice from a DataFrame.\n",
            "Try using .loc[row_indexer,col_indexer] = value instead\n",
            "\n",
            "See the caveats in the documentation: https://pandas.pydata.org/pandas-docs/stable/user_guide/indexing.html#returning-a-view-versus-a-copy\n",
            "  t_songs['rat']=1\n"
          ]
        }
      ]
    },
    {
      "cell_type": "code",
      "source": [
        "#Getting the sum of null values\n",
        "print(msongs.isnull().sum())"
      ],
      "metadata": {
        "colab": {
          "base_uri": "https://localhost:8080/"
        },
        "id": "KuTFq1Q7wxL6",
        "outputId": "7af97928-09bc-486a-8ebc-f84f620d9406"
      },
      "execution_count": null,
      "outputs": [
        {
          "output_type": "stream",
          "name": "stdout",
          "text": [
            "msno                          0\n",
            "song_id                       1\n",
            "source_system_tab           316\n",
            "source_screen_name         4371\n",
            "source_type                 208\n",
            "target                        1\n",
            "song_length               55101\n",
            "genre_ids                 55813\n",
            "artist_name               55101\n",
            "composer                  64764\n",
            "lyricist                  73721\n",
            "language                  55101\n",
            "name                      59004\n",
            "isrc                      62953\n",
            "city                          1\n",
            "bd                            1\n",
            "gender                    39343\n",
            "registered_via                1\n",
            "registration_init_time        1\n",
            "expiration_date               1\n",
            "dtype: int64\n"
          ]
        }
      ]
    },
    {
      "cell_type": "markdown",
      "source": [
        "Data Cleaning"
      ],
      "metadata": {
        "id": "yYST5hnfyTjt"
      }
    },
    {
      "cell_type": "code",
      "source": [
        "#Finding the duplicates\n",
        "msongs.duplicated().sum()"
      ],
      "metadata": {
        "colab": {
          "base_uri": "https://localhost:8080/"
        },
        "id": "ZeWC1K6DxTla",
        "outputId": "11babba9-06f2-4044-f059-9228535e00b5"
      },
      "execution_count": 11,
      "outputs": [
        {
          "output_type": "execute_result",
          "data": {
            "text/plain": [
              "0"
            ]
          },
          "metadata": {},
          "execution_count": 11
        }
      ]
    },
    {
      "cell_type": "code",
      "source": [
        "msongs.isnull().mean()"
      ],
      "metadata": {
        "colab": {
          "base_uri": "https://localhost:8080/"
        },
        "id": "1an3yB-f4mH9",
        "outputId": "749975e7-506e-4314-e79d-2db506a18f51"
      },
      "execution_count": 12,
      "outputs": [
        {
          "output_type": "execute_result",
          "data": {
            "text/plain": [
              "msno                      0.000000\n",
              "song_id                   0.000014\n",
              "source_system_tab         0.002960\n",
              "source_screen_name        0.037227\n",
              "source_type               0.001765\n",
              "target                    0.000014\n",
              "song_length               0.621243\n",
              "genre_ids                 0.626238\n",
              "artist_name               0.621243\n",
              "composer                  0.699226\n",
              "lyricist                  0.768912\n",
              "language                  0.621243\n",
              "name                      0.698927\n",
              "isrc                      0.726406\n",
              "city                      0.000014\n",
              "bd                        0.000014\n",
              "gender                    0.382741\n",
              "registered_via            0.000014\n",
              "registration_init_time    0.000014\n",
              "expiration_date           0.000014\n",
              "dtype: float64"
            ]
          },
          "metadata": {},
          "execution_count": 12
        }
      ]
    },
    {
      "cell_type": "code",
      "source": [
        "#Quantifying the missing data\n",
        "msongs.isnull().mean().plot.bar(figsize=(12,6))\n",
        "plt.ylabel('Percentage of missing values')\n",
        "plt.xlabel('Variables')\n",
        "plt.title('Quantifying missing data')"
      ],
      "metadata": {
        "colab": {
          "base_uri": "https://localhost:8080/",
          "height": 517
        },
        "id": "MBjNIdF-53Mz",
        "outputId": "23c64b5a-3c73-484d-d1f8-ecb99fe6983a"
      },
      "execution_count": 13,
      "outputs": [
        {
          "output_type": "execute_result",
          "data": {
            "text/plain": [
              "Text(0.5, 1.0, 'Quantifying missing data')"
            ]
          },
          "metadata": {},
          "execution_count": 13
        },
        {
          "output_type": "display_data",
          "data": {
            "text/plain": [
              "<Figure size 864x432 with 1 Axes>"
            ],
            "image/png": "[encoded data removed]"
          },
          "metadata": {
            "needs_background": "light"
          }
        }
      ]
    },
    {
      "cell_type": "code",
      "source": [
        "#Splitting the integer valued columns.\n",
        "integer_columns=msongs.select_dtypes(include=['int64','float64']).columns.tolist()\n",
        "print(integer_columns)"
      ],
      "metadata": {
        "colab": {
          "base_uri": "https://localhost:8080/"
        },
        "id": "Q1R3rzTFDz4X",
        "outputId": "30fa0b53-4cfa-4a72-9f99-9e0128a888ce"
      },
      "execution_count": 14,
      "outputs": [
        {
          "output_type": "stream",
          "name": "stdout",
          "text": [
            "['target', 'song_length', 'language', 'city', 'bd', 'registered_via', 'registration_init_time', 'expiration_date']\n"
          ]
        }
      ]
    },
    {
      "cell_type": "markdown",
      "source": [
        "Filling nullvalues\n",
        "\n",
        "---\n",
        "\n",
        "\n",
        "\n",
        "---\n",
        "\n"
      ],
      "metadata": {
        "id": "9c1dELNBwYcr"
      }
    },
    {
      "cell_type": "code",
      "source": [
        "#Filling the integer data having outliers(skewed data) with mode and no outliers(non-skewed) with mean.\n",
        "#fig, ax = plt.subplots(figsize=(12,8))\n",
        "sns.boxplot(msongs.language)\n",
        "#msongs.boxplot('target')\n",
        "#msongs.boxplot(column=['target', 'song_length', 'language', 'city', 'bd', 'registered_via', 'registration_init_time', 'expiration_date'])"
      ],
      "metadata": {
        "colab": {
          "base_uri": "https://localhost:8080/",
          "height": 351
        },
        "id": "ECHV-t7P6E3M",
        "outputId": "0beb9676-3401-4037-fd70-1cb3cc6c08fe"
      },
      "execution_count": 15,
      "outputs": [
        {
          "output_type": "stream",
          "name": "stderr",
          "text": [
            "/usr/local/lib/python3.8/dist-packages/seaborn/_decorators.py:36: FutureWarning: Pass the following variable as a keyword arg: x. From version 0.12, the only valid positional argument will be `data`, and passing other arguments without an explicit keyword will result in an error or misinterpretation.\n",
            "  warnings.warn(\n"
          ]
        },
        {
          "output_type": "execute_result",
          "data": {
            "text/plain": [
              "<matplotlib.axes._subplots.AxesSubplot at 0x7fe2602365b0>"
            ]
          },
          "metadata": {},
          "execution_count": 15
        },
        {
          "output_type": "display_data",
          "data": {
            "text/plain": [
              "<Figure size 432x288 with 1 Axes>"
            ],
            "image/png": "[encoded data removed]"
          },
          "metadata": {
            "needs_background": "light"
          }
        }
      ]
    },
    {
      "cell_type": "code",
      "source": [
        "msongs['language'].fillna(msongs['language'].mode()[0], inplace = True)"
      ],
      "metadata": {
        "id": "NHh6aDYIEGsF"
      },
      "execution_count": 16,
      "outputs": []
    },
    {
      "cell_type": "code",
      "source": [
        "sns.boxplot(msongs.song_length)"
      ],
      "metadata": {
        "colab": {
          "base_uri": "https://localhost:8080/",
          "height": 352
        },
        "id": "OihY1a7AA0iG",
        "outputId": "d0c42fb3-d79d-46b2-fe31-fdd9f9784eb7"
      },
      "execution_count": 17,
      "outputs": [
        {
          "output_type": "stream",
          "name": "stderr",
          "text": [
            "/usr/local/lib/python3.8/dist-packages/seaborn/_decorators.py:36: FutureWarning: Pass the following variable as a keyword arg: x. From version 0.12, the only valid positional argument will be `data`, and passing other arguments without an explicit keyword will result in an error or misinterpretation.\n",
            "  warnings.warn(\n"
          ]
        },
        {
          "output_type": "execute_result",
          "data": {
            "text/plain": [
              "<matplotlib.axes._subplots.AxesSubplot at 0x7fe25fd54a00>"
            ]
          },
          "metadata": {},
          "execution_count": 17
        },
        {
          "output_type": "display_data",
          "data": {
            "text/plain": [
              "<Figure size 432x288 with 1 Axes>"
            ],
            "image/png": "[encoded data removed]"
          },
          "metadata": {
            "needs_background": "light"
          }
        }
      ]
    },
    {
      "cell_type": "code",
      "source": [
        "msongs['song_length'].fillna(msongs['song_length'].mode()[0], inplace = True)"
      ],
      "metadata": {
        "id": "dEL0QOGuFLAM"
      },
      "execution_count": 18,
      "outputs": []
    },
    {
      "cell_type": "code",
      "source": [
        "sns.boxplot(msongs.city)"
      ],
      "metadata": {
        "colab": {
          "base_uri": "https://localhost:8080/",
          "height": 351
        },
        "id": "umke652qCLyO",
        "outputId": "2b418858-cd70-4c4b-ce37-ca4aee3ba47b"
      },
      "execution_count": 19,
      "outputs": [
        {
          "output_type": "stream",
          "name": "stderr",
          "text": [
            "/usr/local/lib/python3.8/dist-packages/seaborn/_decorators.py:36: FutureWarning: Pass the following variable as a keyword arg: x. From version 0.12, the only valid positional argument will be `data`, and passing other arguments without an explicit keyword will result in an error or misinterpretation.\n",
            "  warnings.warn(\n"
          ]
        },
        {
          "output_type": "execute_result",
          "data": {
            "text/plain": [
              "<matplotlib.axes._subplots.AxesSubplot at 0x7fe25fd36250>"
            ]
          },
          "metadata": {},
          "execution_count": 19
        },
        {
          "output_type": "display_data",
          "data": {
            "text/plain": [
              "<Figure size 432x288 with 1 Axes>"
            ],
            "image/png": "[encoded data removed]"
          },
          "metadata": {
            "needs_background": "light"
          }
        }
      ]
    },
    {
      "cell_type": "code",
      "source": [
        "msongs['city'].fillna(msongs['city'].mean(), inplace = True)"
      ],
      "metadata": {
        "id": "wjbfWkp4Fbva"
      },
      "execution_count": 20,
      "outputs": []
    },
    {
      "cell_type": "code",
      "source": [
        "sns.boxplot(msongs.bd)"
      ],
      "metadata": {
        "colab": {
          "base_uri": "https://localhost:8080/",
          "height": 351
        },
        "id": "fjZ49JnJCXhu",
        "outputId": "870a63e3-9dfb-4329-c314-20e79a95f059"
      },
      "execution_count": 21,
      "outputs": [
        {
          "output_type": "stream",
          "name": "stderr",
          "text": [
            "/usr/local/lib/python3.8/dist-packages/seaborn/_decorators.py:36: FutureWarning: Pass the following variable as a keyword arg: x. From version 0.12, the only valid positional argument will be `data`, and passing other arguments without an explicit keyword will result in an error or misinterpretation.\n",
            "  warnings.warn(\n"
          ]
        },
        {
          "output_type": "execute_result",
          "data": {
            "text/plain": [
              "<matplotlib.axes._subplots.AxesSubplot at 0x7fe25fc8e0d0>"
            ]
          },
          "metadata": {},
          "execution_count": 21
        },
        {
          "output_type": "display_data",
          "data": {
            "text/plain": [
              "<Figure size 432x288 with 1 Axes>"
            ],
            "image/png": "[encoded data removed]"
          },
          "metadata": {
            "needs_background": "light"
          }
        }
      ]
    },
    {
      "cell_type": "code",
      "source": [
        "msongs['bd'].fillna(msongs['bd'].mode(), inplace = True)"
      ],
      "metadata": {
        "id": "Tyz8FRaBFidX"
      },
      "execution_count": 22,
      "outputs": []
    },
    {
      "cell_type": "code",
      "source": [
        "sns.boxplot(msongs.registered_via)"
      ],
      "metadata": {
        "colab": {
          "base_uri": "https://localhost:8080/",
          "height": 352
        },
        "id": "9qmNNEVhCXse",
        "outputId": "9264c23b-a04d-4738-cdb4-77541f046fa4"
      },
      "execution_count": 23,
      "outputs": [
        {
          "output_type": "stream",
          "name": "stderr",
          "text": [
            "/usr/local/lib/python3.8/dist-packages/seaborn/_decorators.py:36: FutureWarning: Pass the following variable as a keyword arg: x. From version 0.12, the only valid positional argument will be `data`, and passing other arguments without an explicit keyword will result in an error or misinterpretation.\n",
            "  warnings.warn(\n"
          ]
        },
        {
          "output_type": "execute_result",
          "data": {
            "text/plain": [
              "<matplotlib.axes._subplots.AxesSubplot at 0x7fe25fc47e20>"
            ]
          },
          "metadata": {},
          "execution_count": 23
        },
        {
          "output_type": "display_data",
          "data": {
            "text/plain": [
              "<Figure size 432x288 with 1 Axes>"
            ],
            "image/png": "[encoded data removed]"
          },
          "metadata": {
            "needs_background": "light"
          }
        }
      ]
    },
    {
      "cell_type": "code",
      "source": [
        "msongs['registered_via'].fillna(msongs['registered_via'].mean(), inplace = True)"
      ],
      "metadata": {
        "id": "D0BJ3cyYFx7w"
      },
      "execution_count": 24,
      "outputs": []
    },
    {
      "cell_type": "code",
      "source": [
        "sns.boxplot(msongs.registration_init_time)"
      ],
      "metadata": {
        "colab": {
          "base_uri": "https://localhost:8080/",
          "height": 352
        },
        "id": "kMqKfY8UCX31",
        "outputId": "0cfdee55-eee5-4af4-a16f-95d3adabf7da"
      },
      "execution_count": 25,
      "outputs": [
        {
          "output_type": "stream",
          "name": "stderr",
          "text": [
            "/usr/local/lib/python3.8/dist-packages/seaborn/_decorators.py:36: FutureWarning: Pass the following variable as a keyword arg: x. From version 0.12, the only valid positional argument will be `data`, and passing other arguments without an explicit keyword will result in an error or misinterpretation.\n",
            "  warnings.warn(\n"
          ]
        },
        {
          "output_type": "execute_result",
          "data": {
            "text/plain": [
              "<matplotlib.axes._subplots.AxesSubplot at 0x7fe25fb8b9a0>"
            ]
          },
          "metadata": {},
          "execution_count": 25
        },
        {
          "output_type": "display_data",
          "data": {
            "text/plain": [
              "<Figure size 432x288 with 1 Axes>"
            ],
            "image/png": "[encoded data removed]"
          },
          "metadata": {
            "needs_background": "light"
          }
        }
      ]
    },
    {
      "cell_type": "code",
      "source": [
        "msongs['registration_init_time'].fillna(msongs['registration_init_time'].mean(), inplace = True)"
      ],
      "metadata": {
        "id": "w4fbf5k9F54A"
      },
      "execution_count": 26,
      "outputs": []
    },
    {
      "cell_type": "code",
      "source": [
        "sns.boxplot(msongs.expiration_date)"
      ],
      "metadata": {
        "colab": {
          "base_uri": "https://localhost:8080/",
          "height": 352
        },
        "id": "R9Xsa__1CYCR",
        "outputId": "5f66b344-1ddd-4c33-8e7f-96627493889a"
      },
      "execution_count": 27,
      "outputs": [
        {
          "output_type": "stream",
          "name": "stderr",
          "text": [
            "/usr/local/lib/python3.8/dist-packages/seaborn/_decorators.py:36: FutureWarning: Pass the following variable as a keyword arg: x. From version 0.12, the only valid positional argument will be `data`, and passing other arguments without an explicit keyword will result in an error or misinterpretation.\n",
            "  warnings.warn(\n"
          ]
        },
        {
          "output_type": "execute_result",
          "data": {
            "text/plain": [
              "<matplotlib.axes._subplots.AxesSubplot at 0x7fe25fb67f40>"
            ]
          },
          "metadata": {},
          "execution_count": 27
        },
        {
          "output_type": "display_data",
          "data": {
            "text/plain": [
              "<Figure size 432x288 with 1 Axes>"
            ],
            "image/png": "[encoded data removed]"
          },
          "metadata": {
            "needs_background": "light"
          }
        }
      ]
    },
    {
      "cell_type": "code",
      "source": [
        "msongs['expiration_date'].fillna(msongs['expiration_date'].mode(), inplace = True)"
      ],
      "metadata": {
        "id": "nmKHGsvHGFkl"
      },
      "execution_count": 28,
      "outputs": []
    },
    {
      "cell_type": "code",
      "source": [
        "print(msongs.isnull().sum())"
      ],
      "metadata": {
        "colab": {
          "base_uri": "https://localhost:8080/"
        },
        "id": "vGsVYO-ACYQi",
        "outputId": "431d8707-8091-449d-a990-b6b947a14733"
      },
      "execution_count": 29,
      "outputs": [
        {
          "output_type": "stream",
          "name": "stdout",
          "text": [
            "msno                          0\n",
            "song_id                       1\n",
            "source_system_tab           208\n",
            "source_screen_name         2616\n",
            "source_type                 124\n",
            "target                        1\n",
            "song_length                   0\n",
            "genre_ids                 44007\n",
            "artist_name               43656\n",
            "composer                  49136\n",
            "lyricist                  54033\n",
            "language                      0\n",
            "name                      49115\n",
            "isrc                      51046\n",
            "city                          0\n",
            "bd                            1\n",
            "gender                    26896\n",
            "registered_via                0\n",
            "registration_init_time        0\n",
            "expiration_date               1\n",
            "dtype: int64\n"
          ]
        }
      ]
    },
    {
      "cell_type": "code",
      "source": [
        "msongs['song_id'].fillna(msongs['song_id'].mode()[0], inplace = True)\n",
        "msongs['source_system_tab'].fillna(msongs['source_system_tab'].mode()[0], inplace = True)\n",
        "msongs['source_screen_name'].fillna(msongs['source_screen_name'].mode()[0], inplace = True)\n",
        "msongs['source_type'].fillna(msongs['source_type'].mode()[0], inplace = True)\n",
        "msongs['genre_ids'].fillna(msongs['genre_ids'].mode()[0], inplace = True)\n",
        "msongs['artist_name'].fillna(msongs['artist_name'].mode()[0], inplace = True)\n",
        "msongs['composer'].fillna(msongs['composer'].mode()[0], inplace = True)\n",
        "msongs['lyricist'].fillna(msongs['lyricist'].mode()[0], inplace = True)\n",
        "msongs['name'].fillna(msongs['name'].mode()[0], inplace = True)\n",
        "msongs['isrc'].fillna(msongs['isrc'].mode()[0], inplace = True)\n",
        "msongs['gender'].fillna(msongs['gender'].mode()[0], inplace = True)\n",
        "msongs['expiration_date'].fillna(msongs['expiration_date'].mode()[0], inplace = True)\n",
        "msongs['target'].fillna(6, inplace = True)\n",
        "msongs['bd'].fillna(6, inplace = True)\n"
      ],
      "metadata": {
        "id": "CGfFsOv-8EN7"
      },
      "execution_count": 30,
      "outputs": []
    },
    {
      "cell_type": "code",
      "source": [
        "print(msongs.isnull().sum())"
      ],
      "metadata": {
        "colab": {
          "base_uri": "https://localhost:8080/"
        },
        "id": "N_XHPhShCPoy",
        "outputId": "c533bcea-92d8-44e4-bcc5-21cb12290c3e"
      },
      "execution_count": 31,
      "outputs": [
        {
          "output_type": "stream",
          "name": "stdout",
          "text": [
            "msno                      0\n",
            "song_id                   0\n",
            "source_system_tab         0\n",
            "source_screen_name        0\n",
            "source_type               0\n",
            "target                    0\n",
            "song_length               0\n",
            "genre_ids                 0\n",
            "artist_name               0\n",
            "composer                  0\n",
            "lyricist                  0\n",
            "language                  0\n",
            "name                      0\n",
            "isrc                      0\n",
            "city                      0\n",
            "bd                        0\n",
            "gender                    0\n",
            "registered_via            0\n",
            "registration_init_time    0\n",
            "expiration_date           0\n",
            "dtype: int64\n"
          ]
        }
      ]
    },
    {
      "cell_type": "markdown",
      "source": [
        "Normalization\n",
        "\n",
        "---\n",
        "\n",
        "\n",
        "\n",
        "---\n",
        "\n"
      ],
      "metadata": {
        "id": "ytCPMz5F3nHq"
      }
    },
    {
      "cell_type": "code",
      "source": [
        "cateogry_columns=msongs.select_dtypes(include=['object']).columns.tolist()"
      ],
      "metadata": {
        "id": "ebjvCI6xckN5"
      },
      "execution_count": 32,
      "outputs": []
    },
    {
      "cell_type": "code",
      "source": [
        "le = LabelEncoder()\n",
        "ohe = OneHotEncoder()\n",
        "for i in cateogry_columns:\n",
        "  msongs[i] = le.fit_transform(msongs[i])"
      ],
      "metadata": {
        "id": "Uv9zvE-3Ce6g"
      },
      "execution_count": 33,
      "outputs": []
    },
    {
      "cell_type": "code",
      "source": [],
      "metadata": {
        "id": "Qw7gVj8_DU3v"
      },
      "execution_count": null,
      "outputs": []
    },
    {
      "cell_type": "markdown",
      "source": [
        "EDA"
      ],
      "metadata": {
        "id": "c3_5iPE5W1Aq"
      }
    },
    {
      "cell_type": "code",
      "source": [
        "msongs.info()"
      ],
      "metadata": {
        "colab": {
          "base_uri": "https://localhost:8080/"
        },
        "id": "EalujTasXXlG",
        "outputId": "e1e5dc4a-c693-41eb-a0ac-3b644089e062"
      },
      "execution_count": 34,
      "outputs": [
        {
          "output_type": "stream",
          "name": "stdout",
          "text": [
            "<class 'pandas.core.frame.DataFrame'>\n",
            "Int64Index: 70272 entries, 0 to 70271\n",
            "Data columns (total 20 columns):\n",
            " #   Column                  Non-Null Count  Dtype  \n",
            "---  ------                  --------------  -----  \n",
            " 0   msno                    70272 non-null  int64  \n",
            " 1   song_id                 70272 non-null  int64  \n",
            " 2   source_system_tab       70272 non-null  int64  \n",
            " 3   source_screen_name      70272 non-null  int64  \n",
            " 4   source_type             70272 non-null  int64  \n",
            " 5   target                  70272 non-null  float64\n",
            " 6   song_length             70272 non-null  float64\n",
            " 7   genre_ids               70272 non-null  int64  \n",
            " 8   artist_name             70272 non-null  int64  \n",
            " 9   composer                70272 non-null  int64  \n",
            " 10  lyricist                70272 non-null  int64  \n",
            " 11  language                70272 non-null  float64\n",
            " 12  name                    70272 non-null  int64  \n",
            " 13  isrc                    70272 non-null  int64  \n",
            " 14  city                    70272 non-null  float64\n",
            " 15  bd                      70272 non-null  float64\n",
            " 16  gender                  70272 non-null  int64  \n",
            " 17  registered_via          70272 non-null  float64\n",
            " 18  registration_init_time  70272 non-null  float64\n",
            " 19  expiration_date         70272 non-null  float64\n",
            "dtypes: float64(8), int64(12)\n",
            "memory usage: 11.3 MB\n"
          ]
        }
      ]
    },
    {
      "cell_type": "code",
      "source": [
        "msongs.describe()"
      ],
      "metadata": {
        "colab": {
          "base_uri": "https://localhost:8080/",
          "height": 364
        },
        "id": "4ZW-BHcyW3rY",
        "outputId": "c6b571c7-5fde-4b2e-8502-7d3cf4b3f1f5"
      },
      "execution_count": 35,
      "outputs": [
        {
          "output_type": "execute_result",
          "data": {
            "text/plain": [
              "               msno       song_id  source_system_tab  source_screen_name  \\\n",
              "count  70272.000000  70272.000000       70272.000000        70272.000000   \n",
              "mean    2585.454633  11429.287511           2.550860            7.194487   \n",
              "std     1495.469600   6664.717484           1.439458            2.411830   \n",
              "min        0.000000      0.000000           0.000000            0.000000   \n",
              "25%     1281.000000   5676.000000           3.000000            7.000000   \n",
              "50%     2577.000000  11318.000000           3.000000            7.000000   \n",
              "75%     3868.000000  17133.250000           3.000000            7.000000   \n",
              "max     5214.000000  23077.000000           7.000000           17.000000   \n",
              "\n",
              "        source_type        target   song_length     genre_ids   artist_name  \\\n",
              "count  70272.000000  70272.000000  7.027200e+04  70272.000000  70272.000000   \n",
              "mean       3.924010      0.756589  2.293893e+05     63.838542   1572.469775   \n",
              "std        1.577736      0.429641  3.371357e+04     11.947872    445.419612   \n",
              "min        0.000000      0.000000  5.944000e+03      0.000000      0.000000   \n",
              "25%        3.000000      1.000000  2.193240e+05     65.000000   1658.000000   \n",
              "50%        4.000000      1.000000  2.193240e+05     65.000000   1658.000000   \n",
              "75%        5.000000      1.000000  2.248620e+05     65.000000   1658.000000   \n",
              "max       10.000000      6.000000  2.216960e+06    122.000000   2478.000000   \n",
              "\n",
              "           composer      lyricist      language          name          isrc  \\\n",
              "count  70272.000000  70272.000000  70272.000000  70272.000000  70272.000000   \n",
              "mean    2497.910377   1421.824695      8.507912   5410.022683   3887.650359   \n",
              "std      612.174237    295.050860     14.483090   1617.516789    931.791722   \n",
              "min        0.000000      0.000000     -1.000000      0.000000      0.000000   \n",
              "25%     2664.000000   1472.000000      3.000000   5403.750000   4200.000000   \n",
              "50%     2664.000000   1472.000000      3.000000   6258.000000   4200.000000   \n",
              "75%     2664.000000   1472.000000      3.000000   6258.000000   4200.000000   \n",
              "max     3560.000000   2173.000000     59.000000   6306.000000   5741.000000   \n",
              "\n",
              "               city            bd        gender  registered_via  \\\n",
              "count  70272.000000  70272.000000  70272.000000    70272.000000   \n",
              "mean       7.720397     17.770976      0.299166        6.833331   \n",
              "std        6.492697     16.088980      0.457896        2.279848   \n",
              "min        1.000000    -43.000000      0.000000        3.000000   \n",
              "25%        1.000000      0.000000      0.000000        4.000000   \n",
              "50%        5.000000     22.000000      0.000000        7.000000   \n",
              "75%       13.000000     29.000000      1.000000        9.000000   \n",
              "max       22.000000   1030.000000      1.000000       13.000000   \n",
              "\n",
              "       registration_init_time  expiration_date  \n",
              "count            7.027200e+04     7.027200e+04  \n",
              "mean             2.012658e+07     2.017162e+07  \n",
              "std              2.962644e+04     3.343472e+03  \n",
              "min              2.004033e+07     2.015052e+07  \n",
              "25%              2.011061e+07     2.017091e+07  \n",
              "50%              2.013082e+07     2.017093e+07  \n",
              "75%              2.015091e+07     2.017101e+07  \n",
              "max              2.016120e+07     2.019123e+07  "
            ],
            "text/html": [
              "\n",
              "  <div id=\"df-a12243c1-95d8-46a7-b93d-a60b195d92fa\">\n",
              "    <div class=\"colab-df-container\">\n",
              "      <div>\n",
              "<style scoped>\n",
              "    .dataframe tbody tr th:only-of-type {\n",
              "        vertical-align: middle;\n",
              "    }\n",
              "\n",
              "    .dataframe tbody tr th {\n",
              "        vertical-align: top;\n",
              "    }\n",
              "\n",
              "    .dataframe thead th {\n",
              "        text-align: right;\n",
              "    }\n",
              "</style>\n",
              "<table border=\"1\" class=\"dataframe\">\n",
              "  <thead>\n",
              "    <tr style=\"text-align: right;\">\n",
              "      <th></th>\n",
              "      <th>msno</th>\n",
              "      <th>song_id</th>\n",
              "      <th>source_system_tab</th>\n",
              "      <th>source_screen_name</th>\n",
              "      <th>source_type</th>\n",
              "      <th>target</th>\n",
              "      <th>song_length</th>\n",
              "      <th>genre_ids</th>\n",
              "      <th>artist_name</th>\n",
              "      <th>composer</th>\n",
              "      <th>lyricist</th>\n",
              "      <th>language</th>\n",
              "      <th>name</th>\n",
              "      <th>isrc</th>\n",
              "      <th>city</th>\n",
              "      <th>bd</th>\n",
              "      <th>gender</th>\n",
              "      <th>registered_via</th>\n",
              "      <th>registration_init_time</th>\n",
              "      <th>expiration_date</th>\n",
              "    </tr>\n",
              "  </thead>\n",
              "  <tbody>\n",
              "    <tr>\n",
              "      <th>count</th>\n",
              "      <td>70272.000000</td>\n",
              "      <td>70272.000000</td>\n",
              "      <td>70272.000000</td>\n",
              "      <td>70272.000000</td>\n",
              "      <td>70272.000000</td>\n",
              "      <td>70272.000000</td>\n",
              "      <td>7.027200e+04</td>\n",
              "      <td>70272.000000</td>\n",
              "      <td>70272.000000</td>\n",
              "      <td>70272.000000</td>\n",
              "      <td>70272.000000</td>\n",
              "      <td>70272.000000</td>\n",
              "      <td>70272.000000</td>\n",
              "      <td>70272.000000</td>\n",
              "      <td>70272.000000</td>\n",
              "      <td>70272.000000</td>\n",
              "      <td>70272.000000</td>\n",
              "      <td>70272.000000</td>\n",
              "      <td>7.027200e+04</td>\n",
              "      <td>7.027200e+04</td>\n",
              "    </tr>\n",
              "    <tr>\n",
              "      <th>mean</th>\n",
              "      <td>2585.454633</td>\n",
              "      <td>11429.287511</td>\n",
              "      <td>2.550860</td>\n",
              "      <td>7.194487</td>\n",
              "      <td>3.924010</td>\n",
              "      <td>0.756589</td>\n",
              "      <td>2.293893e+05</td>\n",
              "      <td>63.838542</td>\n",
              "      <td>1572.469775</td>\n",
              "      <td>2497.910377</td>\n",
              "      <td>1421.824695</td>\n",
              "      <td>8.507912</td>\n",
              "      <td>5410.022683</td>\n",
              "      <td>3887.650359</td>\n",
              "      <td>7.720397</td>\n",
              "      <td>17.770976</td>\n",
              "      <td>0.299166</td>\n",
              "      <td>6.833331</td>\n",
              "      <td>2.012658e+07</td>\n",
              "      <td>2.017162e+07</td>\n",
              "    </tr>\n",
              "    <tr>\n",
              "      <th>std</th>\n",
              "      <td>1495.469600</td>\n",
              "      <td>6664.717484</td>\n",
              "      <td>1.439458</td>\n",
              "      <td>2.411830</td>\n",
              "      <td>1.577736</td>\n",
              "      <td>0.429641</td>\n",
              "      <td>3.371357e+04</td>\n",
              "      <td>11.947872</td>\n",
              "      <td>445.419612</td>\n",
              "      <td>612.174237</td>\n",
              "      <td>295.050860</td>\n",
              "      <td>14.483090</td>\n",
              "      <td>1617.516789</td>\n",
              "      <td>931.791722</td>\n",
              "      <td>6.492697</td>\n",
              "      <td>16.088980</td>\n",
              "      <td>0.457896</td>\n",
              "      <td>2.279848</td>\n",
              "      <td>2.962644e+04</td>\n",
              "      <td>3.343472e+03</td>\n",
              "    </tr>\n",
              "    <tr>\n",
              "      <th>min</th>\n",
              "      <td>0.000000</td>\n",
              "      <td>0.000000</td>\n",
              "      <td>0.000000</td>\n",
              "      <td>0.000000</td>\n",
              "      <td>0.000000</td>\n",
              "      <td>0.000000</td>\n",
              "      <td>5.944000e+03</td>\n",
              "      <td>0.000000</td>\n",
              "      <td>0.000000</td>\n",
              "      <td>0.000000</td>\n",
              "      <td>0.000000</td>\n",
              "      <td>-1.000000</td>\n",
              "      <td>0.000000</td>\n",
              "      <td>0.000000</td>\n",
              "      <td>1.000000</td>\n",
              "      <td>-43.000000</td>\n",
              "      <td>0.000000</td>\n",
              "      <td>3.000000</td>\n",
              "      <td>2.004033e+07</td>\n",
              "      <td>2.015052e+07</td>\n",
              "    </tr>\n",
              "    <tr>\n",
              "      <th>25%</th>\n",
              "      <td>1281.000000</td>\n",
              "      <td>5676.000000</td>\n",
              "      <td>3.000000</td>\n",
              "      <td>7.000000</td>\n",
              "      <td>3.000000</td>\n",
              "      <td>1.000000</td>\n",
              "      <td>2.193240e+05</td>\n",
              "      <td>65.000000</td>\n",
              "      <td>1658.000000</td>\n",
              "      <td>2664.000000</td>\n",
              "      <td>1472.000000</td>\n",
              "      <td>3.000000</td>\n",
              "      <td>5403.750000</td>\n",
              "      <td>4200.000000</td>\n",
              "      <td>1.000000</td>\n",
              "      <td>0.000000</td>\n",
              "      <td>0.000000</td>\n",
              "      <td>4.000000</td>\n",
              "      <td>2.011061e+07</td>\n",
              "      <td>2.017091e+07</td>\n",
              "    </tr>\n",
              "    <tr>\n",
              "      <th>50%</th>\n",
              "      <td>2577.000000</td>\n",
              "      <td>11318.000000</td>\n",
              "      <td>3.000000</td>\n",
              "      <td>7.000000</td>\n",
              "      <td>4.000000</td>\n",
              "      <td>1.000000</td>\n",
              "      <td>2.193240e+05</td>\n",
              "      <td>65.000000</td>\n",
              "      <td>1658.000000</td>\n",
              "      <td>2664.000000</td>\n",
              "      <td>1472.000000</td>\n",
              "      <td>3.000000</td>\n",
              "      <td>6258.000000</td>\n",
              "      <td>4200.000000</td>\n",
              "      <td>5.000000</td>\n",
              "      <td>22.000000</td>\n",
              "      <td>0.000000</td>\n",
              "      <td>7.000000</td>\n",
              "      <td>2.013082e+07</td>\n",
              "      <td>2.017093e+07</td>\n",
              "    </tr>\n",
              "    <tr>\n",
              "      <th>75%</th>\n",
              "      <td>3868.000000</td>\n",
              "      <td>17133.250000</td>\n",
              "      <td>3.000000</td>\n",
              "      <td>7.000000</td>\n",
              "      <td>5.000000</td>\n",
              "      <td>1.000000</td>\n",
              "      <td>2.248620e+05</td>\n",
              "      <td>65.000000</td>\n",
              "      <td>1658.000000</td>\n",
              "      <td>2664.000000</td>\n",
              "      <td>1472.000000</td>\n",
              "      <td>3.000000</td>\n",
              "      <td>6258.000000</td>\n",
              "      <td>4200.000000</td>\n",
              "      <td>13.000000</td>\n",
              "      <td>29.000000</td>\n",
              "      <td>1.000000</td>\n",
              "      <td>9.000000</td>\n",
              "      <td>2.015091e+07</td>\n",
              "      <td>2.017101e+07</td>\n",
              "    </tr>\n",
              "    <tr>\n",
              "      <th>max</th>\n",
              "      <td>5214.000000</td>\n",
              "      <td>23077.000000</td>\n",
              "      <td>7.000000</td>\n",
              "      <td>17.000000</td>\n",
              "      <td>10.000000</td>\n",
              "      <td>6.000000</td>\n",
              "      <td>2.216960e+06</td>\n",
              "      <td>122.000000</td>\n",
              "      <td>2478.000000</td>\n",
              "      <td>3560.000000</td>\n",
              "      <td>2173.000000</td>\n",
              "      <td>59.000000</td>\n",
              "      <td>6306.000000</td>\n",
              "      <td>5741.000000</td>\n",
              "      <td>22.000000</td>\n",
              "      <td>1030.000000</td>\n",
              "      <td>1.000000</td>\n",
              "      <td>13.000000</td>\n",
              "      <td>2.016120e+07</td>\n",
              "      <td>2.019123e+07</td>\n",
              "    </tr>\n",
              "  </tbody>\n",
              "</table>\n",
              "</div>\n",
              "      <button class=\"colab-df-convert\" onclick=\"convertToInteractive('df-a12243c1-95d8-46a7-b93d-a60b195d92fa')\"\n",
              "              title=\"Convert this dataframe to an interactive table.\"\n",
              "              style=\"display:none;\">\n",
              "        \n",
              "  <svg xmlns=\"http://www.w3.org/2000/svg\" height=\"24px\"viewBox=\"0 0 24 24\"\n",
              "       width=\"24px\">\n",
              "    <path d=\"M0 0h24v24H0V0z\" fill=\"none\"/>\n",
              "    <path d=\"M18.56 5.44l.94 2.06.94-2.06 2.06-.94-2.06-.94-.94-2.06-.94 2.06-2.06.94zm-11 1L8.5 8.5l.94-2.06 2.06-.94-2.06-.94L8.5 2.5l-.94 2.06-2.06.94zm10 10l.94 2.06.94-2.06 2.06-.94-2.06-.94-.94-2.06-.94 2.06-2.06.94z\"/><path d=\"M17.41 7.96l-1.37-1.37c-.4-.4-.92-.59-1.43-.59-.52 0-1.04.2-1.43.59L10.3 9.45l-7.72 7.72c-.78.78-.78 2.05 0 2.83L4 21.41c.39.39.9.59 1.41.59.51 0 1.02-.2 1.41-.59l7.78-7.78 2.81-2.81c.8-.78.8-2.07 0-2.86zM5.41 20L4 18.59l7.72-7.72 1.47 1.35L5.41 20z\"/>\n",
              "  </svg>\n",
              "      </button>\n",
              "      \n",
              "  <style>\n",
              "    .colab-df-container {\n",
              "      display:flex;\n",
              "      flex-wrap:wrap;\n",
              "      gap: 12px;\n",
              "    }\n",
              "\n",
              "    .colab-df-convert {\n",
              "      background-color: #E8F0FE;\n",
              "      border: none;\n",
              "      border-radius: 50%;\n",
              "      cursor: pointer;\n",
              "      display: none;\n",
              "      fill: #1967D2;\n",
              "      height: 32px;\n",
              "      padding: 0 0 0 0;\n",
              "      width: 32px;\n",
              "    }\n",
              "\n",
              "    .colab-df-convert:hover {\n",
              "      background-color: #E2EBFA;\n",
              "      box-shadow: 0px 1px 2px rgba(60, 64, 67, 0.3), 0px 1px 3px 1px rgba(60, 64, 67, 0.15);\n",
              "      fill: #174EA6;\n",
              "    }\n",
              "\n",
              "    [theme=dark] .colab-df-convert {\n",
              "      background-color: #3B4455;\n",
              "      fill: #D2E3FC;\n",
              "    }\n",
              "\n",
              "    [theme=dark] .colab-df-convert:hover {\n",
              "      background-color: #434B5C;\n",
              "      box-shadow: 0px 1px 3px 1px rgba(0, 0, 0, 0.15);\n",
              "      filter: drop-shadow(0px 1px 2px rgba(0, 0, 0, 0.3));\n",
              "      fill: #FFFFFF;\n",
              "    }\n",
              "  </style>\n",
              "\n",
              "      <script>\n",
              "        const buttonEl =\n",
              "          document.querySelector('#df-a12243c1-95d8-46a7-b93d-a60b195d92fa button.colab-df-convert');\n",
              "        buttonEl.style.display =\n",
              "          google.colab.kernel.accessAllowed ? 'block' : 'none';\n",
              "\n",
              "        async function convertToInteractive(key) {\n",
              "          const element = document.querySelector('#df-a12243c1-95d8-46a7-b93d-a60b195d92fa');\n",
              "          const dataTable =\n",
              "            await google.colab.kernel.invokeFunction('convertToInteractive',\n",
              "                                                     [key], {});\n",
              "          if (!dataTable) return;\n",
              "\n",
              "          const docLinkHtml = 'Like what you see? Visit the ' +\n",
              "            '<a target=\"_blank\" href=https://colab.research.google.com/notebooks/data_table.ipynb>data table notebook</a>'\n",
              "            + ' to learn more about interactive tables.';\n",
              "          element.innerHTML = '';\n",
              "          dataTable['output_type'] = 'display_data';\n",
              "          await google.colab.output.renderOutput(dataTable, element);\n",
              "          const docLink = document.createElement('div');\n",
              "          docLink.innerHTML = docLinkHtml;\n",
              "          element.appendChild(docLink);\n",
              "        }\n",
              "      </script>\n",
              "    </div>\n",
              "  </div>\n",
              "  "
            ]
          },
          "metadata": {},
          "execution_count": 35
        }
      ]
    },
    {
      "cell_type": "code",
      "source": [
        "print('Duplicate values: ',msongs.duplicated().sum())"
      ],
      "metadata": {
        "colab": {
          "base_uri": "https://localhost:8080/"
        },
        "id": "_ZGMcAP3XeTH",
        "outputId": "a6a08879-7650-451c-ff0c-05f4052982f6"
      },
      "execution_count": 36,
      "outputs": [
        {
          "output_type": "stream",
          "name": "stdout",
          "text": [
            "Duplicate values:  0\n"
          ]
        }
      ]
    },
    {
      "cell_type": "code",
      "source": [],
      "metadata": {
        "id": "4DWQjQPPCHzU"
      },
      "execution_count": null,
      "outputs": []
    },
    {
      "cell_type": "code",
      "source": [
        "print(msongs.corr())"
      ],
      "metadata": {
        "colab": {
          "base_uri": "https://localhost:8080/"
        },
        "id": "7sK3NKjkXrZs",
        "outputId": "cb8aead7-c7dd-4951-fc38-1b013ebb37dc"
      },
      "execution_count": 37,
      "outputs": [
        {
          "output_type": "stream",
          "name": "stdout",
          "text": [
            "                            msno   song_id  source_system_tab  \\\n",
            "msno                    1.000000 -0.003554           0.010764   \n",
            "song_id                -0.003554  1.000000           0.010113   \n",
            "source_system_tab       0.010764  0.010113           1.000000   \n",
            "source_screen_name      0.024544  0.000845           0.053600   \n",
            "source_type            -0.016142  0.004576          -0.191103   \n",
            "target                  0.010109 -0.009476           0.066648   \n",
            "song_length             0.004507  0.006455           0.003081   \n",
            "genre_ids               0.004052  0.012793           0.038110   \n",
            "artist_name             0.000030  0.002514           0.006481   \n",
            "composer                0.002669 -0.017597           0.033443   \n",
            "lyricist                0.005453 -0.008875           0.023768   \n",
            "language                0.004771  0.007505          -0.028464   \n",
            "name                    0.001936 -0.020489           0.000077   \n",
            "isrc                    0.004711 -0.015491          -0.017069   \n",
            "city                    0.028625 -0.008752           0.013602   \n",
            "bd                     -0.021687 -0.002481          -0.019605   \n",
            "gender                 -0.023931 -0.009945          -0.009774   \n",
            "registered_via         -0.002614 -0.006004           0.021923   \n",
            "registration_init_time -0.009512  0.005157          -0.002331   \n",
            "expiration_date         0.001365  0.000230           0.035629   \n",
            "\n",
            "                        source_screen_name  source_type    target  \\\n",
            "msno                              0.024544    -0.016142  0.010109   \n",
            "song_id                           0.000845     0.004576 -0.009476   \n",
            "source_system_tab                 0.053600    -0.191103  0.066648   \n",
            "source_screen_name                1.000000     0.156918 -0.081305   \n",
            "source_type                       0.156918     1.000000 -0.162653   \n",
            "target                           -0.081305    -0.162653  1.000000   \n",
            "song_length                       0.005907     0.008642  0.009257   \n",
            "genre_ids                         0.000720    -0.017797  0.004353   \n",
            "artist_name                       0.000664     0.010569 -0.006670   \n",
            "composer                         -0.002327    -0.007701  0.002965   \n",
            "lyricist                         -0.000150    -0.000355 -0.008088   \n",
            "language                          0.006527     0.001168 -0.004908   \n",
            "name                             -0.003627     0.004858  0.008493   \n",
            "isrc                              0.002145    -0.000553  0.004121   \n",
            "city                              0.001603    -0.000836  0.017957   \n",
            "bd                               -0.018715     0.038038  0.006871   \n",
            "gender                           -0.027945     0.012499  0.024177   \n",
            "registered_via                   -0.000034     0.011529 -0.009541   \n",
            "registration_init_time            0.002190    -0.021555 -0.013427   \n",
            "expiration_date                  -0.037849    -0.021776  0.068449   \n",
            "\n",
            "                        song_length  genre_ids  artist_name  composer  \\\n",
            "msno                       0.004507   0.004052     0.000030  0.002669   \n",
            "song_id                    0.006455   0.012793     0.002514 -0.017597   \n",
            "source_system_tab          0.003081   0.038110     0.006481  0.033443   \n",
            "source_screen_name         0.005907   0.000720     0.000664 -0.002327   \n",
            "source_type                0.008642  -0.017797     0.010569 -0.007701   \n",
            "target                     0.009257   0.004353    -0.006670  0.002965   \n",
            "song_length                1.000000  -0.014732     0.068042 -0.025878   \n",
            "genre_ids                 -0.014732   1.000000     0.172916  0.190911   \n",
            "artist_name                0.068042   0.172916     1.000000  0.360924   \n",
            "composer                  -0.025878   0.190911     0.360924  1.000000   \n",
            "lyricist                  -0.005761   0.086135     0.239020  0.631283   \n",
            "language                  -0.039667  -0.309528    -0.624238 -0.496186   \n",
            "name                       0.048514   0.045894     0.063267  0.015490   \n",
            "isrc                       0.001015  -0.010656    -0.019612 -0.029955   \n",
            "city                      -0.003729  -0.006866     0.003336  0.000252   \n",
            "bd                         0.009077  -0.001760     0.005428 -0.002903   \n",
            "gender                     0.012934  -0.017669     0.008038 -0.001747   \n",
            "registered_via             0.006529   0.005066     0.004680  0.002278   \n",
            "registration_init_time    -0.006223  -0.008907    -0.007575 -0.000553   \n",
            "expiration_date            0.001153   0.009342    -0.004947 -0.002438   \n",
            "\n",
            "                        lyricist  language      name      isrc      city  \\\n",
            "msno                    0.005453  0.004771  0.001936  0.004711  0.028625   \n",
            "song_id                -0.008875  0.007505 -0.020489 -0.015491 -0.008752   \n",
            "source_system_tab       0.023768 -0.028464  0.000077 -0.017069  0.013602   \n",
            "source_screen_name     -0.000150  0.006527 -0.003627  0.002145  0.001603   \n",
            "source_type            -0.000355  0.001168  0.004858 -0.000553 -0.000836   \n",
            "target                 -0.008088 -0.004908  0.008493  0.004121  0.017957   \n",
            "song_length            -0.005761 -0.039667  0.048514  0.001015 -0.003729   \n",
            "genre_ids               0.086135 -0.309528  0.045894 -0.010656 -0.006866   \n",
            "artist_name             0.239020 -0.624238  0.063267 -0.019612  0.003336   \n",
            "composer                0.631283 -0.496186  0.015490 -0.029955  0.000252   \n",
            "lyricist                1.000000 -0.268203  0.004724 -0.006819 -0.004574   \n",
            "language               -0.268203  1.000000 -0.071530  0.056648 -0.002483   \n",
            "name                    0.004724 -0.071530  1.000000  0.391274  0.005524   \n",
            "isrc                   -0.006819  0.056648  0.391274  1.000000 -0.003515   \n",
            "city                   -0.004574 -0.002483  0.005524 -0.003515  1.000000   \n",
            "bd                     -0.006122 -0.004184  0.001583 -0.003843  0.520227   \n",
            "gender                 -0.003004 -0.009845  0.005971 -0.005855  0.325924   \n",
            "registered_via          0.008740 -0.010602  0.003433 -0.001127  0.027220   \n",
            "registration_init_time -0.005091  0.010079  0.000748 -0.001947 -0.276528   \n",
            "expiration_date        -0.000601  0.003457 -0.006849 -0.005481  0.153862   \n",
            "\n",
            "                              bd    gender  registered_via  \\\n",
            "msno                   -0.021687 -0.023931       -0.002614   \n",
            "song_id                -0.002481 -0.009945       -0.006004   \n",
            "source_system_tab      -0.019605 -0.009774        0.021923   \n",
            "source_screen_name     -0.018715 -0.027945       -0.000034   \n",
            "source_type             0.038038  0.012499        0.011529   \n",
            "target                  0.006871  0.024177       -0.009541   \n",
            "song_length             0.009077  0.012934        0.006529   \n",
            "genre_ids              -0.001760 -0.017669        0.005066   \n",
            "artist_name             0.005428  0.008038        0.004680   \n",
            "composer               -0.002903 -0.001747        0.002278   \n",
            "lyricist               -0.006122 -0.003004        0.008740   \n",
            "language               -0.004184 -0.009845       -0.010602   \n",
            "name                    0.001583  0.005971        0.003433   \n",
            "isrc                   -0.003843 -0.005855       -0.001127   \n",
            "city                    0.520227  0.325924        0.027220   \n",
            "bd                      1.000000  0.408198        0.094451   \n",
            "gender                  0.408198  1.000000       -0.023421   \n",
            "registered_via          0.094451 -0.023421        1.000000   \n",
            "registration_init_time -0.404305 -0.194537       -0.436509   \n",
            "expiration_date         0.133107  0.071143        0.084707   \n",
            "\n",
            "                        registration_init_time  expiration_date  \n",
            "msno                                 -0.009512         0.001365  \n",
            "song_id                               0.005157         0.000230  \n",
            "source_system_tab                    -0.002331         0.035629  \n",
            "source_screen_name                    0.002190        -0.037849  \n",
            "source_type                          -0.021555        -0.021776  \n",
            "target                               -0.013427         0.068449  \n",
            "song_length                          -0.006223         0.001153  \n",
            "genre_ids                            -0.008907         0.009342  \n",
            "artist_name                          -0.007575        -0.004947  \n",
            "composer                             -0.000553        -0.002438  \n",
            "lyricist                             -0.005091        -0.000601  \n",
            "language                              0.010079         0.003457  \n",
            "name                                  0.000748        -0.006849  \n",
            "isrc                                 -0.001947        -0.005481  \n",
            "city                                 -0.276528         0.153862  \n",
            "bd                                   -0.404305         0.133107  \n",
            "gender                               -0.194537         0.071143  \n",
            "registered_via                       -0.436509         0.084707  \n",
            "registration_init_time                1.000000        -0.075051  \n",
            "expiration_date                      -0.075051         1.000000  \n"
          ]
        }
      ]
    },
    {
      "cell_type": "code",
      "source": [
        "plt.figure(figsize=(10,10))\n",
        "sns.heatmap(msongs.corr())"
      ],
      "metadata": {
        "colab": {
          "base_uri": "https://localhost:8080/",
          "height": 709
        },
        "id": "UBR6W1z-YT-N",
        "outputId": "2b28f948-7b75-46d6-a68b-6e8b5d0c417a"
      },
      "execution_count": 38,
      "outputs": [
        {
          "output_type": "execute_result",
          "data": {
            "text/plain": [
              "<matplotlib.axes._subplots.AxesSubplot at 0x7fe25facd250>"
            ]
          },
          "metadata": {},
          "execution_count": 38
        },
        {
          "output_type": "display_data",
          "data": {
            "text/plain": [
              "<Figure size 720x720 with 2 Axes>"
            ],
            "image/png": "[encoded data removed]"
          },
          "metadata": {
            "needs_background": "light"
          }
        }
      ]
    },
    {
      "cell_type": "markdown",
      "source": [
        "Visualization"
      ],
      "metadata": {
        "id": "xq9zdTwbiQDS"
      }
    },
    {
      "cell_type": "code",
      "source": [
        "plt.figure(figsize=(12,10))\n",
        "sns.countplot(train['source_system_tab'],hue=train['target'])"
      ],
      "metadata": {
        "colab": {
          "base_uri": "https://localhost:8080/",
          "height": 678
        },
        "id": "-xEGdVXMiVZu",
        "outputId": "6af5ce36-1519-4d24-beef-9940666337ab"
      },
      "execution_count": 39,
      "outputs": [
        {
          "output_type": "stream",
          "name": "stderr",
          "text": [
            "/usr/local/lib/python3.8/dist-packages/seaborn/_decorators.py:36: FutureWarning: Pass the following variable as a keyword arg: x. From version 0.12, the only valid positional argument will be `data`, and passing other arguments without an explicit keyword will result in an error or misinterpretation.\n",
            "  warnings.warn(\n"
          ]
        },
        {
          "output_type": "execute_result",
          "data": {
            "text/plain": [
              "<matplotlib.axes._subplots.AxesSubplot at 0x7fe25d20af40>"
            ]
          },
          "metadata": {},
          "execution_count": 39
        },
        {
          "output_type": "display_data",
          "data": {
            "text/plain": [
              "<Figure size 864x720 with 1 Axes>"
            ],
            "image/png": "[encoded data removed]"
          },
          "metadata": {
            "needs_background": "light"
          }
        }
      ]
    },
    {
      "cell_type": "code",
      "source": [
        "plt.figure(figsize=(12,10))\n",
        "g=sns.countplot(train['source_type'],hue=train['target'])\n",
        "locs, labels = plt.xticks()\n",
        "g.set_xticklabels(labels,rotation=45)"
      ],
      "metadata": {
        "colab": {
          "base_uri": "https://localhost:8080/",
          "height": 919
        },
        "id": "OXUsHN9QkSaX",
        "outputId": "1af3de67-27ac-4887-989e-aa19449d627b"
      },
      "execution_count": 40,
      "outputs": [
        {
          "output_type": "stream",
          "name": "stderr",
          "text": [
            "/usr/local/lib/python3.8/dist-packages/seaborn/_decorators.py:36: FutureWarning: Pass the following variable as a keyword arg: x. From version 0.12, the only valid positional argument will be `data`, and passing other arguments without an explicit keyword will result in an error or misinterpretation.\n",
            "  warnings.warn(\n"
          ]
        },
        {
          "output_type": "execute_result",
          "data": {
            "text/plain": [
              "[Text(0, 0, 'online-playlist'),\n",
              " Text(0, 0, 'local-playlist'),\n",
              " Text(0, 0, 'local-library'),\n",
              " Text(0, 0, 'top-hits-for-artist'),\n",
              " Text(0, 0, 'album'),\n",
              " Text(0, 0, 'song-based-playlist'),\n",
              " Text(0, 0, 'radio'),\n",
              " Text(0, 0, 'song'),\n",
              " Text(0, 0, 'listen-with'),\n",
              " Text(0, 0, 'artist'),\n",
              " Text(0, 0, 'topic-article-playlist')]"
            ]
          },
          "metadata": {},
          "execution_count": 40
        },
        {
          "output_type": "display_data",
          "data": {
            "text/plain": [
              "<Figure size 864x720 with 1 Axes>"
            ],
            "image/png": "[encoded data removed]"
          },
          "metadata": {
            "needs_background": "light"
          }
        }
      ]
    },
    {
      "cell_type": "code",
      "source": [
        "fig, ax = plt.subplots(figsize=(12,8))\n",
        "ax=sns.countplot(x=\"gender\",data=msongs,palette=['#705898','#7038F8','yellow'],hue=\"target\")\n",
        "plt.xlabel(\"male female participation\")\n",
        "plt.ylabel(\"count\")\n",
        "plt.title(\"male female participation vs target \")\n",
        "plt.xticks(rotation='90')\n",
        "plt.legend(loc='upper left')\n",
        "plt.show()"
      ],
      "metadata": {
        "colab": {
          "base_uri": "https://localhost:8080/",
          "height": 509
        },
        "id": "qiDTMQ8lmvO2",
        "outputId": "f180e0c9-6c5c-42f5-a4e1-b246785e642a"
      },
      "execution_count": 41,
      "outputs": [
        {
          "output_type": "display_data",
          "data": {
            "text/plain": [
              "<Figure size 864x576 with 1 Axes>"
            ],
            "image/png": "[encoded data removed]"
          },
          "metadata": {
            "needs_background": "light"
          }
        }
      ]
    },
    {
      "cell_type": "code",
      "source": [
        "fig, ax = plt.subplots(figsize=(12,8))\n",
        "ax=sns.boxplot(x=\"gender\",y=\"city\",data=msongs,palette=['blue','orange','green'],hue=\"target\")\n",
        "plt.xlabel(\"gender\")\n",
        "plt.ylabel(\"city\")\n",
        "plt.title(\"city vs registered_via  \")\n",
        "plt.show()"
      ],
      "metadata": {
        "colab": {
          "base_uri": "https://localhost:8080/",
          "height": 513
        },
        "id": "3ECfIsqApq5b",
        "outputId": "65d87ae4-273f-4010-b8a9-14509d04c12c"
      },
      "execution_count": 42,
      "outputs": [
        {
          "output_type": "display_data",
          "data": {
            "text/plain": [
              "<Figure size 864x576 with 1 Axes>"
            ],
            "image/png": "[encoded data removed]"
          },
          "metadata": {
            "needs_background": "light"
          }
        }
      ]
    },
    {
      "cell_type": "code",
      "source": [
        "fig, ax = plt.subplots(figsize=(12,8))\n",
        "ax=sns.boxplot(x=\"bd\",y=\"gender\",data=msongs,palette=['blue','orange','green'])\n",
        "plt.xlabel(\"bd age group\")\n",
        "plt.ylabel(\"gender\")\n",
        "plt.title(\"bd age group vs gender \")\n",
        "plt.show()"
      ],
      "metadata": {
        "colab": {
          "base_uri": "https://localhost:8080/",
          "height": 513
        },
        "id": "PJeKz7PwrNi-",
        "outputId": "6d8f1991-eb53-4eee-acbe-ef135a05e64b"
      },
      "execution_count": 43,
      "outputs": [
        {
          "output_type": "display_data",
          "data": {
            "text/plain": [
              "<Figure size 864x576 with 1 Axes>"
            ],
            "image/png": "[encoded data removed]"
          },
          "metadata": {
            "needs_background": "light"
          }
        }
      ]
    },
    {
      "cell_type": "markdown",
      "source": [
        "Model Selection\n",
        "\n",
        "---\n",
        "\n",
        "\n",
        "\n",
        "---\n",
        "\n"
      ],
      "metadata": {
        "id": "haLpt9jwp92s"
      }
    },
    {
      "cell_type": "code",
      "source": [
        "X = msongs.drop('target', axis = 1)\n",
        "y = msongs.target\n",
        "X_train, X_test, Y_train, Y_test = train_test_split(X, y, test_size = 0.25, random_state = 0)"
      ],
      "metadata": {
        "id": "ZXe6Vx-P77Z0"
      },
      "execution_count": 47,
      "outputs": []
    },
    {
      "cell_type": "code",
      "source": [
        "## 1) K-Nearest-Neighbours\n",
        "\n",
        "from sklearn.neighbors import KNeighborsClassifier\n",
        "\n",
        "knn_model=KNeighborsClassifier(n_neighbors=3)\n",
        "\n",
        "knn_model.fit(X_train,Y_train)\n",
        "\n",
        "knn_pred = knn_model.predict(X_test)\n",
        "Knn_preds = pd.DataFrame({\"Predicted\":knn_pred,\"Actual\":Y_test})\n",
        "Knn_preds\n",
        "\n"
      ],
      "metadata": {
        "id": "kGgQZ8cMGvB2",
        "colab": {
          "base_uri": "https://localhost:8080/",
          "height": 424
        },
        "outputId": "876cccd9-3f94-4d65-8772-5d3d06cc387f"
      },
      "execution_count": 74,
      "outputs": [
        {
          "output_type": "execute_result",
          "data": {
            "text/plain": [
              "       Predicted  Actual\n",
              "21617        1.0     0.0\n",
              "34029        1.0     1.0\n",
              "34957        1.0     1.0\n",
              "24416        1.0     1.0\n",
              "17811        1.0     0.0\n",
              "...          ...     ...\n",
              "21055        1.0     1.0\n",
              "12308        1.0     1.0\n",
              "61307        1.0     0.0\n",
              "31571        0.0     1.0\n",
              "19008        1.0     1.0\n",
              "\n",
              "[17568 rows x 2 columns]"
            ],
            "text/html": [
              "\n",
              "  <div id=\"df-1c2b7348-3f1c-429a-9c17-b2165773d141\">\n",
              "    <div class=\"colab-df-container\">\n",
              "      <div>\n",
              "<style scoped>\n",
              "    .dataframe tbody tr th:only-of-type {\n",
              "        vertical-align: middle;\n",
              "    }\n",
              "\n",
              "    .dataframe tbody tr th {\n",
              "        vertical-align: top;\n",
              "    }\n",
              "\n",
              "    .dataframe thead th {\n",
              "        text-align: right;\n",
              "    }\n",
              "</style>\n",
              "<table border=\"1\" class=\"dataframe\">\n",
              "  <thead>\n",
              "    <tr style=\"text-align: right;\">\n",
              "      <th></th>\n",
              "      <th>Predicted</th>\n",
              "      <th>Actual</th>\n",
              "    </tr>\n",
              "  </thead>\n",
              "  <tbody>\n",
              "    <tr>\n",
              "      <th>21617</th>\n",
              "      <td>1.0</td>\n",
              "      <td>0.0</td>\n",
              "    </tr>\n",
              "    <tr>\n",
              "      <th>34029</th>\n",
              "      <td>1.0</td>\n",
              "      <td>1.0</td>\n",
              "    </tr>\n",
              "    <tr>\n",
              "      <th>34957</th>\n",
              "      <td>1.0</td>\n",
              "      <td>1.0</td>\n",
              "    </tr>\n",
              "    <tr>\n",
              "      <th>24416</th>\n",
              "      <td>1.0</td>\n",
              "      <td>1.0</td>\n",
              "    </tr>\n",
              "    <tr>\n",
              "      <th>17811</th>\n",
              "      <td>1.0</td>\n",
              "      <td>0.0</td>\n",
              "    </tr>\n",
              "    <tr>\n",
              "      <th>...</th>\n",
              "      <td>...</td>\n",
              "      <td>...</td>\n",
              "    </tr>\n",
              "    <tr>\n",
              "      <th>21055</th>\n",
              "      <td>1.0</td>\n",
              "      <td>1.0</td>\n",
              "    </tr>\n",
              "    <tr>\n",
              "      <th>12308</th>\n",
              "      <td>1.0</td>\n",
              "      <td>1.0</td>\n",
              "    </tr>\n",
              "    <tr>\n",
              "      <th>61307</th>\n",
              "      <td>1.0</td>\n",
              "      <td>0.0</td>\n",
              "    </tr>\n",
              "    <tr>\n",
              "      <th>31571</th>\n",
              "      <td>0.0</td>\n",
              "      <td>1.0</td>\n",
              "    </tr>\n",
              "    <tr>\n",
              "      <th>19008</th>\n",
              "      <td>1.0</td>\n",
              "      <td>1.0</td>\n",
              "    </tr>\n",
              "  </tbody>\n",
              "</table>\n",
              "<p>17568 rows × 2 columns</p>\n",
              "</div>\n",
              "      <button class=\"colab-df-convert\" onclick=\"convertToInteractive('df-1c2b7348-3f1c-429a-9c17-b2165773d141')\"\n",
              "              title=\"Convert this dataframe to an interactive table.\"\n",
              "              style=\"display:none;\">\n",
              "        \n",
              "  <svg xmlns=\"http://www.w3.org/2000/svg\" height=\"24px\"viewBox=\"0 0 24 24\"\n",
              "       width=\"24px\">\n",
              "    <path d=\"M0 0h24v24H0V0z\" fill=\"none\"/>\n",
              "    <path d=\"M18.56 5.44l.94 2.06.94-2.06 2.06-.94-2.06-.94-.94-2.06-.94 2.06-2.06.94zm-11 1L8.5 8.5l.94-2.06 2.06-.94-2.06-.94L8.5 2.5l-.94 2.06-2.06.94zm10 10l.94 2.06.94-2.06 2.06-.94-2.06-.94-.94-2.06-.94 2.06-2.06.94z\"/><path d=\"M17.41 7.96l-1.37-1.37c-.4-.4-.92-.59-1.43-.59-.52 0-1.04.2-1.43.59L10.3 9.45l-7.72 7.72c-.78.78-.78 2.05 0 2.83L4 21.41c.39.39.9.59 1.41.59.51 0 1.02-.2 1.41-.59l7.78-7.78 2.81-2.81c.8-.78.8-2.07 0-2.86zM5.41 20L4 18.59l7.72-7.72 1.47 1.35L5.41 20z\"/>\n",
              "  </svg>\n",
              "      </button>\n",
              "      \n",
              "  <style>\n",
              "    .colab-df-container {\n",
              "      display:flex;\n",
              "      flex-wrap:wrap;\n",
              "      gap: 12px;\n",
              "    }\n",
              "\n",
              "    .colab-df-convert {\n",
              "      background-color: #E8F0FE;\n",
              "      border: none;\n",
              "      border-radius: 50%;\n",
              "      cursor: pointer;\n",
              "      display: none;\n",
              "      fill: #1967D2;\n",
              "      height: 32px;\n",
              "      padding: 0 0 0 0;\n",
              "      width: 32px;\n",
              "    }\n",
              "\n",
              "    .colab-df-convert:hover {\n",
              "      background-color: #E2EBFA;\n",
              "      box-shadow: 0px 1px 2px rgba(60, 64, 67, 0.3), 0px 1px 3px 1px rgba(60, 64, 67, 0.15);\n",
              "      fill: #174EA6;\n",
              "    }\n",
              "\n",
              "    [theme=dark] .colab-df-convert {\n",
              "      background-color: #3B4455;\n",
              "      fill: #D2E3FC;\n",
              "    }\n",
              "\n",
              "    [theme=dark] .colab-df-convert:hover {\n",
              "      background-color: #434B5C;\n",
              "      box-shadow: 0px 1px 3px 1px rgba(0, 0, 0, 0.15);\n",
              "      filter: drop-shadow(0px 1px 2px rgba(0, 0, 0, 0.3));\n",
              "      fill: #FFFFFF;\n",
              "    }\n",
              "  </style>\n",
              "\n",
              "      <script>\n",
              "        const buttonEl =\n",
              "          document.querySelector('#df-1c2b7348-3f1c-429a-9c17-b2165773d141 button.colab-df-convert');\n",
              "        buttonEl.style.display =\n",
              "          google.colab.kernel.accessAllowed ? 'block' : 'none';\n",
              "\n",
              "        async function convertToInteractive(key) {\n",
              "          const element = document.querySelector('#df-1c2b7348-3f1c-429a-9c17-b2165773d141');\n",
              "          const dataTable =\n",
              "            await google.colab.kernel.invokeFunction('convertToInteractive',\n",
              "                                                     [key], {});\n",
              "          if (!dataTable) return;\n",
              "\n",
              "          const docLinkHtml = 'Like what you see? Visit the ' +\n",
              "            '<a target=\"_blank\" href=https://colab.research.google.com/notebooks/data_table.ipynb>data table notebook</a>'\n",
              "            + ' to learn more about interactive tables.';\n",
              "          element.innerHTML = '';\n",
              "          dataTable['output_type'] = 'display_data';\n",
              "          await google.colab.output.renderOutput(dataTable, element);\n",
              "          const docLink = document.createElement('div');\n",
              "          docLink.innerHTML = docLinkHtml;\n",
              "          element.appendChild(docLink);\n",
              "        }\n",
              "      </script>\n",
              "    </div>\n",
              "  </div>\n",
              "  "
            ]
          },
          "metadata": {},
          "execution_count": 74
        }
      ]
    },
    {
      "cell_type": "code",
      "source": [
        "Knn_TP = len(Knn_preds[(Knn_preds[\"Predicted\"]==Knn_preds[\"Actual\"])&(Knn_preds[\"Predicted\"]==1)])\n",
        "Knn_FP = len(Knn_preds[(Knn_preds[\"Predicted\"]!=Knn_preds[\"Actual\"])&(Knn_preds[\"Predicted\"]==1)])\n",
        "Knn_FN = len(Knn_preds[(Knn_preds[\"Predicted\"]!=Knn_preds[\"Actual\"])&(Knn_preds[\"Predicted\"]==0)])\n",
        "Knn_TN = len(Knn_preds[(Knn_preds[\"Predicted\"]==Knn_preds[\"Actual\"])&(Knn_preds[\"Predicted\"]==0)])\n",
        "print(Knn_TP,Knn_FP,Knn_FN,Knn_TN)\n",
        "print(\"Rightly Classified: \",(Knn_TP+Knn_TN),\"/\",(Knn_TP+Knn_FP+Knn_FN+Knn_TN))\n",
        "print(\"Wrongly Classified: \",(Knn_FP+Knn_FN),\"/\",(Knn_TP+Knn_FP+Knn_FN+Knn_TN))\n",
        "\n"
      ],
      "metadata": {
        "colab": {
          "base_uri": "https://localhost:8080/"
        },
        "id": "kaYjZ4osC1aC",
        "outputId": "75c5ced1-4922-4695-9e9f-303dcb614b81"
      },
      "execution_count": 75,
      "outputs": [
        {
          "output_type": "stream",
          "name": "stdout",
          "text": [
            "11446 3532 1752 838\n",
            "Rightly Classified:  12284 / 17568\n",
            "Wrongly Classified:  5284 / 17568\n"
          ]
        }
      ]
    },
    {
      "cell_type": "code",
      "source": [
        "confusion_matrix = metrics.confusion_matrix(Y_test, knn_pred)\n",
        "cm_display = metrics.ConfusionMatrixDisplay(confusion_matrix = confusion_matrix, display_labels = [False, True])\n",
        "cm_display.plot()\n",
        "plt.show()\n",
        "knn_accuracy = accuracy_score(knn_pred, Y_test)\n",
        "print('\\nAccuracy on using  KNN algorithm is: ',knn_accuracy*100);"
      ],
      "metadata": {
        "colab": {
          "base_uri": "https://localhost:8080/",
          "height": 314
        },
        "id": "YnSgLdGadYO-",
        "outputId": "2ce0a726-457b-4aa8-bcfe-6830ff0c2ee5"
      },
      "execution_count": 77,
      "outputs": [
        {
          "output_type": "display_data",
          "data": {
            "text/plain": [
              "<Figure size 432x288 with 2 Axes>"
            ],
            "image/png": "[encoded data removed]"
          },
          "metadata": {
            "needs_background": "light"
          }
        },
        {
          "output_type": "stream",
          "name": "stdout",
          "text": [
            "\n",
            "Accuracy on using  KNN algorithm is:  69.92258652094718\n"
          ]
        }
      ]
    },
    {
      "cell_type": "code",
      "source": [
        "print(classification_report(Y_test, knn_pred))"
      ],
      "metadata": {
        "colab": {
          "base_uri": "https://localhost:8080/"
        },
        "id": "eooYxq3AR3mz",
        "outputId": "fadbed7b-d634-4626-d6bd-98d6e0e11d50"
      },
      "execution_count": 76,
      "outputs": [
        {
          "output_type": "stream",
          "name": "stdout",
          "text": [
            "              precision    recall  f1-score   support\n",
            "\n",
            "         0.0       0.32      0.19      0.24      4370\n",
            "         1.0       0.76      0.87      0.81     13198\n",
            "\n",
            "    accuracy                           0.70     17568\n",
            "   macro avg       0.54      0.53      0.53     17568\n",
            "weighted avg       0.65      0.70      0.67     17568\n",
            "\n"
          ]
        }
      ]
    },
    {
      "cell_type": "markdown",
      "source": [
        "##KNN (k=10)"
      ],
      "metadata": {
        "id": "W_Typ-rIZg3a"
      }
    },
    {
      "cell_type": "code",
      "source": [
        "\n",
        "KNN_model1 = KNeighborsClassifier(n_neighbors=10)\n",
        "KNN_model1.fit(X_train,Y_train)\n",
        "KNN_y_preds = KNN_model1.predict(X_test)\n",
        "KNN_preds = pd.DataFrame({\"Predicted\":KNN_y_preds,\"Actual\":Y_test})\n",
        "KNN_preds"
      ],
      "metadata": {
        "colab": {
          "base_uri": "https://localhost:8080/",
          "height": 424
        },
        "id": "0gGBa0TuZYcR",
        "outputId": "12d3d67c-3bde-4131-e76c-b64b053e7555"
      },
      "execution_count": 104,
      "outputs": [
        {
          "output_type": "execute_result",
          "data": {
            "text/plain": [
              "       Predicted  Actual\n",
              "21617        1.0     0.0\n",
              "34029        1.0     1.0\n",
              "34957        1.0     1.0\n",
              "24416        0.0     1.0\n",
              "17811        1.0     0.0\n",
              "...          ...     ...\n",
              "21055        1.0     1.0\n",
              "12308        1.0     1.0\n",
              "61307        1.0     0.0\n",
              "31571        1.0     1.0\n",
              "19008        1.0     1.0\n",
              "\n",
              "[17568 rows x 2 columns]"
            ],
            "text/html": [
              "\n",
              "  <div id=\"df-a297dc9e-5a98-4cb4-96c2-91666498e060\">\n",
              "    <div class=\"colab-df-container\">\n",
              "      <div>\n",
              "<style scoped>\n",
              "    .dataframe tbody tr th:only-of-type {\n",
              "        vertical-align: middle;\n",
              "    }\n",
              "\n",
              "    .dataframe tbody tr th {\n",
              "        vertical-align: top;\n",
              "    }\n",
              "\n",
              "    .dataframe thead th {\n",
              "        text-align: right;\n",
              "    }\n",
              "</style>\n",
              "<table border=\"1\" class=\"dataframe\">\n",
              "  <thead>\n",
              "    <tr style=\"text-align: right;\">\n",
              "      <th></th>\n",
              "      <th>Predicted</th>\n",
              "      <th>Actual</th>\n",
              "    </tr>\n",
              "  </thead>\n",
              "  <tbody>\n",
              "    <tr>\n",
              "      <th>21617</th>\n",
              "      <td>1.0</td>\n",
              "      <td>0.0</td>\n",
              "    </tr>\n",
              "    <tr>\n",
              "      <th>34029</th>\n",
              "      <td>1.0</td>\n",
              "      <td>1.0</td>\n",
              "    </tr>\n",
              "    <tr>\n",
              "      <th>34957</th>\n",
              "      <td>1.0</td>\n",
              "      <td>1.0</td>\n",
              "    </tr>\n",
              "    <tr>\n",
              "      <th>24416</th>\n",
              "      <td>0.0</td>\n",
              "      <td>1.0</td>\n",
              "    </tr>\n",
              "    <tr>\n",
              "      <th>17811</th>\n",
              "      <td>1.0</td>\n",
              "      <td>0.0</td>\n",
              "    </tr>\n",
              "    <tr>\n",
              "      <th>...</th>\n",
              "      <td>...</td>\n",
              "      <td>...</td>\n",
              "    </tr>\n",
              "    <tr>\n",
              "      <th>21055</th>\n",
              "      <td>1.0</td>\n",
              "      <td>1.0</td>\n",
              "    </tr>\n",
              "    <tr>\n",
              "      <th>12308</th>\n",
              "      <td>1.0</td>\n",
              "      <td>1.0</td>\n",
              "    </tr>\n",
              "    <tr>\n",
              "      <th>61307</th>\n",
              "      <td>1.0</td>\n",
              "      <td>0.0</td>\n",
              "    </tr>\n",
              "    <tr>\n",
              "      <th>31571</th>\n",
              "      <td>1.0</td>\n",
              "      <td>1.0</td>\n",
              "    </tr>\n",
              "    <tr>\n",
              "      <th>19008</th>\n",
              "      <td>1.0</td>\n",
              "      <td>1.0</td>\n",
              "    </tr>\n",
              "  </tbody>\n",
              "</table>\n",
              "<p>17568 rows × 2 columns</p>\n",
              "</div>\n",
              "      <button class=\"colab-df-convert\" onclick=\"convertToInteractive('df-a297dc9e-5a98-4cb4-96c2-91666498e060')\"\n",
              "              title=\"Convert this dataframe to an interactive table.\"\n",
              "              style=\"display:none;\">\n",
              "        \n",
              "  <svg xmlns=\"http://www.w3.org/2000/svg\" height=\"24px\"viewBox=\"0 0 24 24\"\n",
              "       width=\"24px\">\n",
              "    <path d=\"M0 0h24v24H0V0z\" fill=\"none\"/>\n",
              "    <path d=\"M18.56 5.44l.94 2.06.94-2.06 2.06-.94-2.06-.94-.94-2.06-.94 2.06-2.06.94zm-11 1L8.5 8.5l.94-2.06 2.06-.94-2.06-.94L8.5 2.5l-.94 2.06-2.06.94zm10 10l.94 2.06.94-2.06 2.06-.94-2.06-.94-.94-2.06-.94 2.06-2.06.94z\"/><path d=\"M17.41 7.96l-1.37-1.37c-.4-.4-.92-.59-1.43-.59-.52 0-1.04.2-1.43.59L10.3 9.45l-7.72 7.72c-.78.78-.78 2.05 0 2.83L4 21.41c.39.39.9.59 1.41.59.51 0 1.02-.2 1.41-.59l7.78-7.78 2.81-2.81c.8-.78.8-2.07 0-2.86zM5.41 20L4 18.59l7.72-7.72 1.47 1.35L5.41 20z\"/>\n",
              "  </svg>\n",
              "      </button>\n",
              "      \n",
              "  <style>\n",
              "    .colab-df-container {\n",
              "      display:flex;\n",
              "      flex-wrap:wrap;\n",
              "      gap: 12px;\n",
              "    }\n",
              "\n",
              "    .colab-df-convert {\n",
              "      background-color: #E8F0FE;\n",
              "      border: none;\n",
              "      border-radius: 50%;\n",
              "      cursor: pointer;\n",
              "      display: none;\n",
              "      fill: #1967D2;\n",
              "      height: 32px;\n",
              "      padding: 0 0 0 0;\n",
              "      width: 32px;\n",
              "    }\n",
              "\n",
              "    .colab-df-convert:hover {\n",
              "      background-color: #E2EBFA;\n",
              "      box-shadow: 0px 1px 2px rgba(60, 64, 67, 0.3), 0px 1px 3px 1px rgba(60, 64, 67, 0.15);\n",
              "      fill: #174EA6;\n",
              "    }\n",
              "\n",
              "    [theme=dark] .colab-df-convert {\n",
              "      background-color: #3B4455;\n",
              "      fill: #D2E3FC;\n",
              "    }\n",
              "\n",
              "    [theme=dark] .colab-df-convert:hover {\n",
              "      background-color: #434B5C;\n",
              "      box-shadow: 0px 1px 3px 1px rgba(0, 0, 0, 0.15);\n",
              "      filter: drop-shadow(0px 1px 2px rgba(0, 0, 0, 0.3));\n",
              "      fill: #FFFFFF;\n",
              "    }\n",
              "  </style>\n",
              "\n",
              "      <script>\n",
              "        const buttonEl =\n",
              "          document.querySelector('#df-a297dc9e-5a98-4cb4-96c2-91666498e060 button.colab-df-convert');\n",
              "        buttonEl.style.display =\n",
              "          google.colab.kernel.accessAllowed ? 'block' : 'none';\n",
              "\n",
              "        async function convertToInteractive(key) {\n",
              "          const element = document.querySelector('#df-a297dc9e-5a98-4cb4-96c2-91666498e060');\n",
              "          const dataTable =\n",
              "            await google.colab.kernel.invokeFunction('convertToInteractive',\n",
              "                                                     [key], {});\n",
              "          if (!dataTable) return;\n",
              "\n",
              "          const docLinkHtml = 'Like what you see? Visit the ' +\n",
              "            '<a target=\"_blank\" href=https://colab.research.google.com/notebooks/data_table.ipynb>data table notebook</a>'\n",
              "            + ' to learn more about interactive tables.';\n",
              "          element.innerHTML = '';\n",
              "          dataTable['output_type'] = 'display_data';\n",
              "          await google.colab.output.renderOutput(dataTable, element);\n",
              "          const docLink = document.createElement('div');\n",
              "          docLink.innerHTML = docLinkHtml;\n",
              "          element.appendChild(docLink);\n",
              "        }\n",
              "      </script>\n",
              "    </div>\n",
              "  </div>\n",
              "  "
            ]
          },
          "metadata": {},
          "execution_count": 104
        }
      ]
    },
    {
      "cell_type": "code",
      "source": [
        "KNN_TP1 = len(KNN_preds[(KNN_preds[\"Predicted\"]==KNN_preds[\"Actual\"])&(KNN_preds[\"Predicted\"]==1)])\n",
        "KNN_FP1 = len(KNN_preds[(KNN_preds[\"Predicted\"]!=KNN_preds[\"Actual\"])&(KNN_preds[\"Predicted\"]==1)])\n",
        "KNN_FN1 = len(KNN_preds[(KNN_preds[\"Predicted\"]!=KNN_preds[\"Actual\"])&(KNN_preds[\"Predicted\"]==0)])\n",
        "KNN_TN1 = len(KNN_preds[(KNN_preds[\"Predicted\"]==KNN_preds[\"Actual\"])&(KNN_preds[\"Predicted\"]==0)])\n",
        "print(KNN_TP1,KNN_FP1,KNN_FN1,KNN_TN1)\n",
        "print(\"Rightly Classified: \",(KNN_TP1+KNN_TN1),\"/\",(KNN_TP1+KNN_FP1+KNN_FN1+KNN_TN1))\n",
        "print(\"Wrongly Classified: \",(KNN_FP1+KNN_FN1),\"/\",(KNN_TP1+KNN_FP1+KNN_FN1+KNN_TN1))\n",
        "\n",
        "KNN_Accuracy1 = (KNN_TP1+KNN_TN1)/(KNN_TP1+KNN_FP1+KNN_FN1+KNN_TN1)\n",
        "KNN_Precision1 = (KNN_TP1)/(KNN_TP1+KNN_FP1)\n",
        "KNN_Recall1 = (KNN_TP1)/(KNN_TP1+KNN_FN1)\n",
        "KNN_Specificity1 = (KNN_TN1)/(KNN_TN1+KNN_FP1)\n",
        "KNN_F11 = (2*KNN_Precision1*KNN_Recall1)/(KNN_Precision1+KNN_Recall1)"
      ],
      "metadata": {
        "colab": {
          "base_uri": "https://localhost:8080/"
        },
        "id": "4uMIlCGWZk0R",
        "outputId": "2619ac12-327d-4e11-eeda-aadace559dcd"
      },
      "execution_count": 105,
      "outputs": [
        {
          "output_type": "stream",
          "name": "stdout",
          "text": [
            "12240 3842 958 528\n",
            "Rightly Classified:  12768 / 17568\n",
            "Wrongly Classified:  4800 / 17568\n"
          ]
        }
      ]
    },
    {
      "cell_type": "code",
      "source": [
        "confusion_matrix = metrics.confusion_matrix(Y_test, KNN_y_preds)\n",
        "cm_display = metrics.ConfusionMatrixDisplay(confusion_matrix = confusion_matrix, display_labels = [False, True])\n",
        "cm_display.plot()\n",
        "plt.show()\n"
      ],
      "metadata": {
        "colab": {
          "base_uri": "https://localhost:8080/",
          "height": 279
        },
        "id": "a-ie7R08Zsu1",
        "outputId": "9a43e8f8-dd62-41c9-9ec4-475e4ff8b5d1"
      },
      "execution_count": 106,
      "outputs": [
        {
          "output_type": "display_data",
          "data": {
            "text/plain": [
              "<Figure size 432x288 with 2 Axes>"
            ],
            "image/png": "[encoded data removed]"
          },
          "metadata": {
            "needs_background": "light"
          }
        }
      ]
    },
    {
      "cell_type": "code",
      "source": [
        "\n",
        "print(classification_report(Y_test, KNN_y_preds))"
      ],
      "metadata": {
        "colab": {
          "base_uri": "https://localhost:8080/"
        },
        "id": "wadR_QAIZ059",
        "outputId": "d0c62a0d-ed45-4789-cfbe-709e6d842926"
      },
      "execution_count": 107,
      "outputs": [
        {
          "output_type": "stream",
          "name": "stdout",
          "text": [
            "              precision    recall  f1-score   support\n",
            "\n",
            "         0.0       0.36      0.12      0.18      4370\n",
            "         1.0       0.76      0.93      0.84     13198\n",
            "\n",
            "    accuracy                           0.73     17568\n",
            "   macro avg       0.56      0.52      0.51     17568\n",
            "weighted avg       0.66      0.73      0.67     17568\n",
            "\n"
          ]
        }
      ]
    },
    {
      "cell_type": "markdown",
      "source": [
        " ###KNN (k=50) "
      ],
      "metadata": {
        "id": "fyRN2ku9Z-mO"
      }
    },
    {
      "cell_type": "code",
      "source": [
        "KNN_model2 = KNeighborsClassifier(n_neighbors=50)\n",
        "KNN_model2.fit(X_train,Y_train)\n",
        "KNN_y_preds = KNN_model2.predict(X_test)\n",
        "KNN_preds = pd.DataFrame({\"Predicted\":KNN_y_preds,\"Actual\":Y_test})\n",
        "KNN_preds"
      ],
      "metadata": {
        "colab": {
          "base_uri": "https://localhost:8080/",
          "height": 424
        },
        "id": "MWIi-N9CZ7cS",
        "outputId": "8850b095-de0a-4eb8-d8e2-1a9aff1befc3"
      },
      "execution_count": 109,
      "outputs": [
        {
          "output_type": "execute_result",
          "data": {
            "text/plain": [
              "       Predicted  Actual\n",
              "21617        1.0     0.0\n",
              "34029        1.0     1.0\n",
              "34957        1.0     1.0\n",
              "24416        1.0     1.0\n",
              "17811        1.0     0.0\n",
              "...          ...     ...\n",
              "21055        1.0     1.0\n",
              "12308        1.0     1.0\n",
              "61307        1.0     0.0\n",
              "31571        1.0     1.0\n",
              "19008        1.0     1.0\n",
              "\n",
              "[17568 rows x 2 columns]"
            ],
            "text/html": [
              "\n",
              "  <div id=\"df-6652ccda-e41f-4a4a-9abf-ac45b74aee38\">\n",
              "    <div class=\"colab-df-container\">\n",
              "      <div>\n",
              "<style scoped>\n",
              "    .dataframe tbody tr th:only-of-type {\n",
              "        vertical-align: middle;\n",
              "    }\n",
              "\n",
              "    .dataframe tbody tr th {\n",
              "        vertical-align: top;\n",
              "    }\n",
              "\n",
              "    .dataframe thead th {\n",
              "        text-align: right;\n",
              "    }\n",
              "</style>\n",
              "<table border=\"1\" class=\"dataframe\">\n",
              "  <thead>\n",
              "    <tr style=\"text-align: right;\">\n",
              "      <th></th>\n",
              "      <th>Predicted</th>\n",
              "      <th>Actual</th>\n",
              "    </tr>\n",
              "  </thead>\n",
              "  <tbody>\n",
              "    <tr>\n",
              "      <th>21617</th>\n",
              "      <td>1.0</td>\n",
              "      <td>0.0</td>\n",
              "    </tr>\n",
              "    <tr>\n",
              "      <th>34029</th>\n",
              "      <td>1.0</td>\n",
              "      <td>1.0</td>\n",
              "    </tr>\n",
              "    <tr>\n",
              "      <th>34957</th>\n",
              "      <td>1.0</td>\n",
              "      <td>1.0</td>\n",
              "    </tr>\n",
              "    <tr>\n",
              "      <th>24416</th>\n",
              "      <td>1.0</td>\n",
              "      <td>1.0</td>\n",
              "    </tr>\n",
              "    <tr>\n",
              "      <th>17811</th>\n",
              "      <td>1.0</td>\n",
              "      <td>0.0</td>\n",
              "    </tr>\n",
              "    <tr>\n",
              "      <th>...</th>\n",
              "      <td>...</td>\n",
              "      <td>...</td>\n",
              "    </tr>\n",
              "    <tr>\n",
              "      <th>21055</th>\n",
              "      <td>1.0</td>\n",
              "      <td>1.0</td>\n",
              "    </tr>\n",
              "    <tr>\n",
              "      <th>12308</th>\n",
              "      <td>1.0</td>\n",
              "      <td>1.0</td>\n",
              "    </tr>\n",
              "    <tr>\n",
              "      <th>61307</th>\n",
              "      <td>1.0</td>\n",
              "      <td>0.0</td>\n",
              "    </tr>\n",
              "    <tr>\n",
              "      <th>31571</th>\n",
              "      <td>1.0</td>\n",
              "      <td>1.0</td>\n",
              "    </tr>\n",
              "    <tr>\n",
              "      <th>19008</th>\n",
              "      <td>1.0</td>\n",
              "      <td>1.0</td>\n",
              "    </tr>\n",
              "  </tbody>\n",
              "</table>\n",
              "<p>17568 rows × 2 columns</p>\n",
              "</div>\n",
              "      <button class=\"colab-df-convert\" onclick=\"convertToInteractive('df-6652ccda-e41f-4a4a-9abf-ac45b74aee38')\"\n",
              "              title=\"Convert this dataframe to an interactive table.\"\n",
              "              style=\"display:none;\">\n",
              "        \n",
              "  <svg xmlns=\"http://www.w3.org/2000/svg\" height=\"24px\"viewBox=\"0 0 24 24\"\n",
              "       width=\"24px\">\n",
              "    <path d=\"M0 0h24v24H0V0z\" fill=\"none\"/>\n",
              "    <path d=\"M18.56 5.44l.94 2.06.94-2.06 2.06-.94-2.06-.94-.94-2.06-.94 2.06-2.06.94zm-11 1L8.5 8.5l.94-2.06 2.06-.94-2.06-.94L8.5 2.5l-.94 2.06-2.06.94zm10 10l.94 2.06.94-2.06 2.06-.94-2.06-.94-.94-2.06-.94 2.06-2.06.94z\"/><path d=\"M17.41 7.96l-1.37-1.37c-.4-.4-.92-.59-1.43-.59-.52 0-1.04.2-1.43.59L10.3 9.45l-7.72 7.72c-.78.78-.78 2.05 0 2.83L4 21.41c.39.39.9.59 1.41.59.51 0 1.02-.2 1.41-.59l7.78-7.78 2.81-2.81c.8-.78.8-2.07 0-2.86zM5.41 20L4 18.59l7.72-7.72 1.47 1.35L5.41 20z\"/>\n",
              "  </svg>\n",
              "      </button>\n",
              "      \n",
              "  <style>\n",
              "    .colab-df-container {\n",
              "      display:flex;\n",
              "      flex-wrap:wrap;\n",
              "      gap: 12px;\n",
              "    }\n",
              "\n",
              "    .colab-df-convert {\n",
              "      background-color: #E8F0FE;\n",
              "      border: none;\n",
              "      border-radius: 50%;\n",
              "      cursor: pointer;\n",
              "      display: none;\n",
              "      fill: #1967D2;\n",
              "      height: 32px;\n",
              "      padding: 0 0 0 0;\n",
              "      width: 32px;\n",
              "    }\n",
              "\n",
              "    .colab-df-convert:hover {\n",
              "      background-color: #E2EBFA;\n",
              "      box-shadow: 0px 1px 2px rgba(60, 64, 67, 0.3), 0px 1px 3px 1px rgba(60, 64, 67, 0.15);\n",
              "      fill: #174EA6;\n",
              "    }\n",
              "\n",
              "    [theme=dark] .colab-df-convert {\n",
              "      background-color: #3B4455;\n",
              "      fill: #D2E3FC;\n",
              "    }\n",
              "\n",
              "    [theme=dark] .colab-df-convert:hover {\n",
              "      background-color: #434B5C;\n",
              "      box-shadow: 0px 1px 3px 1px rgba(0, 0, 0, 0.15);\n",
              "      filter: drop-shadow(0px 1px 2px rgba(0, 0, 0, 0.3));\n",
              "      fill: #FFFFFF;\n",
              "    }\n",
              "  </style>\n",
              "\n",
              "      <script>\n",
              "        const buttonEl =\n",
              "          document.querySelector('#df-6652ccda-e41f-4a4a-9abf-ac45b74aee38 button.colab-df-convert');\n",
              "        buttonEl.style.display =\n",
              "          google.colab.kernel.accessAllowed ? 'block' : 'none';\n",
              "\n",
              "        async function convertToInteractive(key) {\n",
              "          const element = document.querySelector('#df-6652ccda-e41f-4a4a-9abf-ac45b74aee38');\n",
              "          const dataTable =\n",
              "            await google.colab.kernel.invokeFunction('convertToInteractive',\n",
              "                                                     [key], {});\n",
              "          if (!dataTable) return;\n",
              "\n",
              "          const docLinkHtml = 'Like what you see? Visit the ' +\n",
              "            '<a target=\"_blank\" href=https://colab.research.google.com/notebooks/data_table.ipynb>data table notebook</a>'\n",
              "            + ' to learn more about interactive tables.';\n",
              "          element.innerHTML = '';\n",
              "          dataTable['output_type'] = 'display_data';\n",
              "          await google.colab.output.renderOutput(dataTable, element);\n",
              "          const docLink = document.createElement('div');\n",
              "          docLink.innerHTML = docLinkHtml;\n",
              "          element.appendChild(docLink);\n",
              "        }\n",
              "      </script>\n",
              "    </div>\n",
              "  </div>\n",
              "  "
            ]
          },
          "metadata": {},
          "execution_count": 109
        }
      ]
    },
    {
      "cell_type": "code",
      "source": [
        "KNN_TP2 = len(KNN_preds[(KNN_preds[\"Predicted\"]==KNN_preds[\"Actual\"])&(KNN_preds[\"Predicted\"]==1)])\n",
        "KNN_FP2 = len(KNN_preds[(KNN_preds[\"Predicted\"]!=KNN_preds[\"Actual\"])&(KNN_preds[\"Predicted\"]==1)])\n",
        "KNN_FN2 = len(KNN_preds[(KNN_preds[\"Predicted\"]!=KNN_preds[\"Actual\"])&(KNN_preds[\"Predicted\"]==0)])\n",
        "KNN_TN2 = len(KNN_preds[(KNN_preds[\"Predicted\"]==KNN_preds[\"Actual\"])&(KNN_preds[\"Predicted\"]==0)])\n",
        "print(KNN_TP2,KNN_FP2,KNN_FN2,KNN_TN2)\n",
        "print(\"Rightly Classified: \",(KNN_TP2+KNN_TN2),\"/\",(KNN_TP2+KNN_FP2+KNN_FN2+KNN_TN2))\n",
        "print(\"Wrongly Classified: \",(KNN_FP2+KNN_FN2),\"/\",(KNN_TP2+KNN_FP2+KNN_FN2+KNN_TN2))\n",
        "\n",
        "KNN_Accuracy2 = (KNN_TP2+KNN_TN2)/(KNN_TP2+KNN_FP2+KNN_FN2+KNN_TN2)\n",
        "KNN_Precision2 = (KNN_TP2)/(KNN_TP2+KNN_FP2)\n",
        "KNN_Recall2 = (KNN_TP2)/(KNN_TP2+KNN_FN2)\n",
        "KNN_Specificity2 = (KNN_TN2)/(KNN_TN2+KNN_FP2)\n",
        "KNN_F12 = (2*KNN_Precision2*KNN_Recall2)/(KNN_Precision2+KNN_Recall2)"
      ],
      "metadata": {
        "colab": {
          "base_uri": "https://localhost:8080/"
        },
        "id": "qodYGqL8aTlr",
        "outputId": "a3bfd11e-9aed-4fe2-8388-faec1b332dd0"
      },
      "execution_count": 110,
      "outputs": [
        {
          "output_type": "stream",
          "name": "stdout",
          "text": [
            "13147 4296 51 74\n",
            "Rightly Classified:  13221 / 17568\n",
            "Wrongly Classified:  4347 / 17568\n"
          ]
        }
      ]
    },
    {
      "cell_type": "code",
      "source": [
        "confusion_matrix = metrics.confusion_matrix(Y_test, KNN_y_preds)\n",
        "cm_display = metrics.ConfusionMatrixDisplay(confusion_matrix = confusion_matrix, display_labels = [False, True])\n",
        "cm_display.plot()\n",
        "plt.show()"
      ],
      "metadata": {
        "colab": {
          "base_uri": "https://localhost:8080/",
          "height": 279
        },
        "id": "Pi25ESZKaVKQ",
        "outputId": "c83917a8-b521-4d3c-96ae-d221bd8db7f0"
      },
      "execution_count": 111,
      "outputs": [
        {
          "output_type": "display_data",
          "data": {
            "text/plain": [
              "<Figure size 432x288 with 2 Axes>"
            ],
            "image/png": "[encoded data removed]"
          },
          "metadata": {
            "needs_background": "light"
          }
        }
      ]
    },
    {
      "cell_type": "code",
      "source": [
        "print(classification_report(Y_test, KNN_y_preds))"
      ],
      "metadata": {
        "colab": {
          "base_uri": "https://localhost:8080/"
        },
        "id": "-GeBUJSuabm4",
        "outputId": "df060f1d-39e5-4fa2-c210-d7fd0077a7e1"
      },
      "execution_count": 113,
      "outputs": [
        {
          "output_type": "stream",
          "name": "stdout",
          "text": [
            "              precision    recall  f1-score   support\n",
            "\n",
            "         0.0       0.59      0.02      0.03      4370\n",
            "         1.0       0.75      1.00      0.86     13198\n",
            "\n",
            "    accuracy                           0.75     17568\n",
            "   macro avg       0.67      0.51      0.45     17568\n",
            "weighted avg       0.71      0.75      0.65     17568\n",
            "\n"
          ]
        }
      ]
    },
    {
      "cell_type": "code",
      "source": [
        "## 2) Naive Bayes Model\n",
        "\n",
        "from sklearn.naive_bayes import GaussianNB\n",
        "\n",
        "nav_bayes_model = GaussianNB()\n",
        "\n",
        "nav_bayes_model.fit(X_train, Y_train)\n",
        "\n",
        "nav_bayes_pred = nav_bayes_model.predict(X_test)\n",
        "Nav_preds = pd.DataFrame({\"Predicted\":nav_bayes_pred,\"Actual\":Y_test})\n",
        "Nav_preds\n"
      ],
      "metadata": {
        "id": "gqUS5_nJ-oXm",
        "colab": {
          "base_uri": "https://localhost:8080/",
          "height": 424
        },
        "outputId": "4b61dcb8-0ac2-4390-82fa-90cb8ce34b54"
      },
      "execution_count": 70,
      "outputs": [
        {
          "output_type": "execute_result",
          "data": {
            "text/plain": [
              "       Predicted  Actual\n",
              "21617        0.0     0.0\n",
              "34029        1.0     1.0\n",
              "34957        1.0     1.0\n",
              "24416        1.0     1.0\n",
              "17811        0.0     0.0\n",
              "...          ...     ...\n",
              "21055        0.0     1.0\n",
              "12308        1.0     1.0\n",
              "61307        1.0     0.0\n",
              "31571        1.0     1.0\n",
              "19008        1.0     1.0\n",
              "\n",
              "[17568 rows x 2 columns]"
            ],
            "text/html": [
              "\n",
              "  <div id=\"df-061fb905-dae7-4b75-a235-6373142608e0\">\n",
              "    <div class=\"colab-df-container\">\n",
              "      <div>\n",
              "<style scoped>\n",
              "    .dataframe tbody tr th:only-of-type {\n",
              "        vertical-align: middle;\n",
              "    }\n",
              "\n",
              "    .dataframe tbody tr th {\n",
              "        vertical-align: top;\n",
              "    }\n",
              "\n",
              "    .dataframe thead th {\n",
              "        text-align: right;\n",
              "    }\n",
              "</style>\n",
              "<table border=\"1\" class=\"dataframe\">\n",
              "  <thead>\n",
              "    <tr style=\"text-align: right;\">\n",
              "      <th></th>\n",
              "      <th>Predicted</th>\n",
              "      <th>Actual</th>\n",
              "    </tr>\n",
              "  </thead>\n",
              "  <tbody>\n",
              "    <tr>\n",
              "      <th>21617</th>\n",
              "      <td>0.0</td>\n",
              "      <td>0.0</td>\n",
              "    </tr>\n",
              "    <tr>\n",
              "      <th>34029</th>\n",
              "      <td>1.0</td>\n",
              "      <td>1.0</td>\n",
              "    </tr>\n",
              "    <tr>\n",
              "      <th>34957</th>\n",
              "      <td>1.0</td>\n",
              "      <td>1.0</td>\n",
              "    </tr>\n",
              "    <tr>\n",
              "      <th>24416</th>\n",
              "      <td>1.0</td>\n",
              "      <td>1.0</td>\n",
              "    </tr>\n",
              "    <tr>\n",
              "      <th>17811</th>\n",
              "      <td>0.0</td>\n",
              "      <td>0.0</td>\n",
              "    </tr>\n",
              "    <tr>\n",
              "      <th>...</th>\n",
              "      <td>...</td>\n",
              "      <td>...</td>\n",
              "    </tr>\n",
              "    <tr>\n",
              "      <th>21055</th>\n",
              "      <td>0.0</td>\n",
              "      <td>1.0</td>\n",
              "    </tr>\n",
              "    <tr>\n",
              "      <th>12308</th>\n",
              "      <td>1.0</td>\n",
              "      <td>1.0</td>\n",
              "    </tr>\n",
              "    <tr>\n",
              "      <th>61307</th>\n",
              "      <td>1.0</td>\n",
              "      <td>0.0</td>\n",
              "    </tr>\n",
              "    <tr>\n",
              "      <th>31571</th>\n",
              "      <td>1.0</td>\n",
              "      <td>1.0</td>\n",
              "    </tr>\n",
              "    <tr>\n",
              "      <th>19008</th>\n",
              "      <td>1.0</td>\n",
              "      <td>1.0</td>\n",
              "    </tr>\n",
              "  </tbody>\n",
              "</table>\n",
              "<p>17568 rows × 2 columns</p>\n",
              "</div>\n",
              "      <button class=\"colab-df-convert\" onclick=\"convertToInteractive('df-061fb905-dae7-4b75-a235-6373142608e0')\"\n",
              "              title=\"Convert this dataframe to an interactive table.\"\n",
              "              style=\"display:none;\">\n",
              "        \n",
              "  <svg xmlns=\"http://www.w3.org/2000/svg\" height=\"24px\"viewBox=\"0 0 24 24\"\n",
              "       width=\"24px\">\n",
              "    <path d=\"M0 0h24v24H0V0z\" fill=\"none\"/>\n",
              "    <path d=\"M18.56 5.44l.94 2.06.94-2.06 2.06-.94-2.06-.94-.94-2.06-.94 2.06-2.06.94zm-11 1L8.5 8.5l.94-2.06 2.06-.94-2.06-.94L8.5 2.5l-.94 2.06-2.06.94zm10 10l.94 2.06.94-2.06 2.06-.94-2.06-.94-.94-2.06-.94 2.06-2.06.94z\"/><path d=\"M17.41 7.96l-1.37-1.37c-.4-.4-.92-.59-1.43-.59-.52 0-1.04.2-1.43.59L10.3 9.45l-7.72 7.72c-.78.78-.78 2.05 0 2.83L4 21.41c.39.39.9.59 1.41.59.51 0 1.02-.2 1.41-.59l7.78-7.78 2.81-2.81c.8-.78.8-2.07 0-2.86zM5.41 20L4 18.59l7.72-7.72 1.47 1.35L5.41 20z\"/>\n",
              "  </svg>\n",
              "      </button>\n",
              "      \n",
              "  <style>\n",
              "    .colab-df-container {\n",
              "      display:flex;\n",
              "      flex-wrap:wrap;\n",
              "      gap: 12px;\n",
              "    }\n",
              "\n",
              "    .colab-df-convert {\n",
              "      background-color: #E8F0FE;\n",
              "      border: none;\n",
              "      border-radius: 50%;\n",
              "      cursor: pointer;\n",
              "      display: none;\n",
              "      fill: #1967D2;\n",
              "      height: 32px;\n",
              "      padding: 0 0 0 0;\n",
              "      width: 32px;\n",
              "    }\n",
              "\n",
              "    .colab-df-convert:hover {\n",
              "      background-color: #E2EBFA;\n",
              "      box-shadow: 0px 1px 2px rgba(60, 64, 67, 0.3), 0px 1px 3px 1px rgba(60, 64, 67, 0.15);\n",
              "      fill: #174EA6;\n",
              "    }\n",
              "\n",
              "    [theme=dark] .colab-df-convert {\n",
              "      background-color: #3B4455;\n",
              "      fill: #D2E3FC;\n",
              "    }\n",
              "\n",
              "    [theme=dark] .colab-df-convert:hover {\n",
              "      background-color: #434B5C;\n",
              "      box-shadow: 0px 1px 3px 1px rgba(0, 0, 0, 0.15);\n",
              "      filter: drop-shadow(0px 1px 2px rgba(0, 0, 0, 0.3));\n",
              "      fill: #FFFFFF;\n",
              "    }\n",
              "  </style>\n",
              "\n",
              "      <script>\n",
              "        const buttonEl =\n",
              "          document.querySelector('#df-061fb905-dae7-4b75-a235-6373142608e0 button.colab-df-convert');\n",
              "        buttonEl.style.display =\n",
              "          google.colab.kernel.accessAllowed ? 'block' : 'none';\n",
              "\n",
              "        async function convertToInteractive(key) {\n",
              "          const element = document.querySelector('#df-061fb905-dae7-4b75-a235-6373142608e0');\n",
              "          const dataTable =\n",
              "            await google.colab.kernel.invokeFunction('convertToInteractive',\n",
              "                                                     [key], {});\n",
              "          if (!dataTable) return;\n",
              "\n",
              "          const docLinkHtml = 'Like what you see? Visit the ' +\n",
              "            '<a target=\"_blank\" href=https://colab.research.google.com/notebooks/data_table.ipynb>data table notebook</a>'\n",
              "            + ' to learn more about interactive tables.';\n",
              "          element.innerHTML = '';\n",
              "          dataTable['output_type'] = 'display_data';\n",
              "          await google.colab.output.renderOutput(dataTable, element);\n",
              "          const docLink = document.createElement('div');\n",
              "          docLink.innerHTML = docLinkHtml;\n",
              "          element.appendChild(docLink);\n",
              "        }\n",
              "      </script>\n",
              "    </div>\n",
              "  </div>\n",
              "  "
            ]
          },
          "metadata": {},
          "execution_count": 70
        }
      ]
    },
    {
      "cell_type": "code",
      "source": [
        "NAV_TP = len(Nav_preds[(Nav_preds[\"Predicted\"]==Nav_preds[\"Actual\"])&(Nav_preds[\"Predicted\"]==1)])\n",
        "NAV_FP = len(Nav_preds[(Nav_preds[\"Predicted\"]!=Nav_preds[\"Actual\"])&(Nav_preds[\"Predicted\"]==1)])\n",
        "NAV_FN = len(Nav_preds[(Nav_preds[\"Predicted\"]!=Nav_preds[\"Actual\"])&(Nav_preds[\"Predicted\"]==0)])\n",
        "NAV_TN = len(Nav_preds[(Nav_preds[\"Predicted\"]==Nav_preds[\"Actual\"])&(Nav_preds[\"Predicted\"]==0)])\n",
        "print(nav_TP,nav_FP,nav_FN,nav_TN)\n",
        "print(\"Rightly Classified: \",(nav_TP+nav_TN),\"/\",(nav_TP+nav_FP+nav_FN+nav_TN))\n",
        "print(\"Wrongly Classified: \",(nav_FP+Log_FN),\"/\",(nav_TP+nav_FP+nav_FN+nav_TN))\n",
        "NAV_Accuracy = (NAV_TP+NAV_TN)/(NAV_TP+NAV_FP+NAV_FN+NAV_TN)\n",
        "NAV_Precision = (NAV_TP)/(NAV_TP+NAV_FP)\n",
        "NAV_Recall = (NAV_TP)/(NAV_TP+NAV_FN)\n",
        "NAV_Specificity = (NAV_TN)/(NAV_TN+NAV_FP)\n",
        "NAV_F1 = (2*NAV_Precision*NAV_Recall)/(NAV_Precision+NAV_Recall)\n"
      ],
      "metadata": {
        "colab": {
          "base_uri": "https://localhost:8080/"
        },
        "id": "tkolLRbMF2du",
        "outputId": "c868e3ce-734a-432e-e5a6-b1bdc3bbce42"
      },
      "execution_count": 162,
      "outputs": [
        {
          "output_type": "stream",
          "name": "stdout",
          "text": [
            "11948 3042 1250 1328\n",
            "Rightly Classified:  13276 / 17568\n",
            "Wrongly Classified:  3042 / 17568\n"
          ]
        }
      ]
    },
    {
      "cell_type": "code",
      "source": [
        "confusion_matrix = metrics.confusion_matrix(Y_test, nav_bayes_pred)\n",
        "cm_display = metrics.ConfusionMatrixDisplay(confusion_matrix = confusion_matrix, display_labels = [False, True])\n",
        "cm_display.plot()\n",
        "plt.show()\n",
        "nav_bayes_accuracy = accuracy_score(nav_bayes_pred, Y_test)\n",
        "print('\\nAccuracy on using Navie Bayes model is: ',nav_bayes_accuracy*100)"
      ],
      "metadata": {
        "colab": {
          "base_uri": "https://localhost:8080/",
          "height": 314
        },
        "id": "VsGcl05-Zd8D",
        "outputId": "8676339a-97b5-4a7a-d9c6-0260125af58c"
      },
      "execution_count": 51,
      "outputs": [
        {
          "output_type": "display_data",
          "data": {
            "text/plain": [
              "<Figure size 432x288 with 2 Axes>"
            ],
            "image/png": "[encoded data removed]"
          },
          "metadata": {
            "needs_background": "light"
          }
        },
        {
          "output_type": "stream",
          "name": "stdout",
          "text": [
            "\n",
            "Accuracy on using Navie Bayes model is:  75.56921675774136\n"
          ]
        }
      ]
    },
    {
      "cell_type": "code",
      "source": [
        "print(classification_report(Y_test, nav_bayes_pred))"
      ],
      "metadata": {
        "colab": {
          "base_uri": "https://localhost:8080/"
        },
        "id": "DzYgDKQWHD-v",
        "outputId": "07cb9f93-50f3-44af-c235-596075e79d7e"
      },
      "execution_count": 72,
      "outputs": [
        {
          "output_type": "stream",
          "name": "stdout",
          "text": [
            "              precision    recall  f1-score   support\n",
            "\n",
            "         0.0       0.52      0.30      0.38      4370\n",
            "         1.0       0.80      0.91      0.85     13198\n",
            "\n",
            "    accuracy                           0.76     17568\n",
            "   macro avg       0.66      0.60      0.62     17568\n",
            "weighted avg       0.73      0.76      0.73     17568\n",
            "\n"
          ]
        }
      ]
    },
    {
      "cell_type": "code",
      "source": [
        "## 3) Logistic Regression\n",
        "log_reg_model = LogisticRegression()\n",
        "\n",
        "log_reg_model.fit(X_train, Y_train)\n",
        "\n",
        "log_reg_pred = log_reg_model.predict(X_test)\n",
        "Log_preds = pd.DataFrame({\"Predicted\":log_reg_pred,\"Actual\":Y_test})\n",
        "Log_preds\n"
      ],
      "metadata": {
        "colab": {
          "base_uri": "https://localhost:8080/",
          "height": 424
        },
        "id": "Ly1KIWEu-h0d",
        "outputId": "a8e58e04-8999-467e-de7c-01d3c2752231"
      },
      "execution_count": 64,
      "outputs": [
        {
          "output_type": "execute_result",
          "data": {
            "text/plain": [
              "       Predicted  Actual\n",
              "21617        1.0     0.0\n",
              "34029        1.0     1.0\n",
              "34957        1.0     1.0\n",
              "24416        1.0     1.0\n",
              "17811        1.0     0.0\n",
              "...          ...     ...\n",
              "21055        1.0     1.0\n",
              "12308        1.0     1.0\n",
              "61307        1.0     0.0\n",
              "31571        1.0     1.0\n",
              "19008        1.0     1.0\n",
              "\n",
              "[17568 rows x 2 columns]"
            ],
            "text/html": [
              "\n",
              "  <div id=\"df-b9e1a618-f8ef-4897-9a22-50713773b8a3\">\n",
              "    <div class=\"colab-df-container\">\n",
              "      <div>\n",
              "<style scoped>\n",
              "    .dataframe tbody tr th:only-of-type {\n",
              "        vertical-align: middle;\n",
              "    }\n",
              "\n",
              "    .dataframe tbody tr th {\n",
              "        vertical-align: top;\n",
              "    }\n",
              "\n",
              "    .dataframe thead th {\n",
              "        text-align: right;\n",
              "    }\n",
              "</style>\n",
              "<table border=\"1\" class=\"dataframe\">\n",
              "  <thead>\n",
              "    <tr style=\"text-align: right;\">\n",
              "      <th></th>\n",
              "      <th>Predicted</th>\n",
              "      <th>Actual</th>\n",
              "    </tr>\n",
              "  </thead>\n",
              "  <tbody>\n",
              "    <tr>\n",
              "      <th>21617</th>\n",
              "      <td>1.0</td>\n",
              "      <td>0.0</td>\n",
              "    </tr>\n",
              "    <tr>\n",
              "      <th>34029</th>\n",
              "      <td>1.0</td>\n",
              "      <td>1.0</td>\n",
              "    </tr>\n",
              "    <tr>\n",
              "      <th>34957</th>\n",
              "      <td>1.0</td>\n",
              "      <td>1.0</td>\n",
              "    </tr>\n",
              "    <tr>\n",
              "      <th>24416</th>\n",
              "      <td>1.0</td>\n",
              "      <td>1.0</td>\n",
              "    </tr>\n",
              "    <tr>\n",
              "      <th>17811</th>\n",
              "      <td>1.0</td>\n",
              "      <td>0.0</td>\n",
              "    </tr>\n",
              "    <tr>\n",
              "      <th>...</th>\n",
              "      <td>...</td>\n",
              "      <td>...</td>\n",
              "    </tr>\n",
              "    <tr>\n",
              "      <th>21055</th>\n",
              "      <td>1.0</td>\n",
              "      <td>1.0</td>\n",
              "    </tr>\n",
              "    <tr>\n",
              "      <th>12308</th>\n",
              "      <td>1.0</td>\n",
              "      <td>1.0</td>\n",
              "    </tr>\n",
              "    <tr>\n",
              "      <th>61307</th>\n",
              "      <td>1.0</td>\n",
              "      <td>0.0</td>\n",
              "    </tr>\n",
              "    <tr>\n",
              "      <th>31571</th>\n",
              "      <td>1.0</td>\n",
              "      <td>1.0</td>\n",
              "    </tr>\n",
              "    <tr>\n",
              "      <th>19008</th>\n",
              "      <td>1.0</td>\n",
              "      <td>1.0</td>\n",
              "    </tr>\n",
              "  </tbody>\n",
              "</table>\n",
              "<p>17568 rows × 2 columns</p>\n",
              "</div>\n",
              "      <button class=\"colab-df-convert\" onclick=\"convertToInteractive('df-b9e1a618-f8ef-4897-9a22-50713773b8a3')\"\n",
              "              title=\"Convert this dataframe to an interactive table.\"\n",
              "              style=\"display:none;\">\n",
              "        \n",
              "  <svg xmlns=\"http://www.w3.org/2000/svg\" height=\"24px\"viewBox=\"0 0 24 24\"\n",
              "       width=\"24px\">\n",
              "    <path d=\"M0 0h24v24H0V0z\" fill=\"none\"/>\n",
              "    <path d=\"M18.56 5.44l.94 2.06.94-2.06 2.06-.94-2.06-.94-.94-2.06-.94 2.06-2.06.94zm-11 1L8.5 8.5l.94-2.06 2.06-.94-2.06-.94L8.5 2.5l-.94 2.06-2.06.94zm10 10l.94 2.06.94-2.06 2.06-.94-2.06-.94-.94-2.06-.94 2.06-2.06.94z\"/><path d=\"M17.41 7.96l-1.37-1.37c-.4-.4-.92-.59-1.43-.59-.52 0-1.04.2-1.43.59L10.3 9.45l-7.72 7.72c-.78.78-.78 2.05 0 2.83L4 21.41c.39.39.9.59 1.41.59.51 0 1.02-.2 1.41-.59l7.78-7.78 2.81-2.81c.8-.78.8-2.07 0-2.86zM5.41 20L4 18.59l7.72-7.72 1.47 1.35L5.41 20z\"/>\n",
              "  </svg>\n",
              "      </button>\n",
              "      \n",
              "  <style>\n",
              "    .colab-df-container {\n",
              "      display:flex;\n",
              "      flex-wrap:wrap;\n",
              "      gap: 12px;\n",
              "    }\n",
              "\n",
              "    .colab-df-convert {\n",
              "      background-color: #E8F0FE;\n",
              "      border: none;\n",
              "      border-radius: 50%;\n",
              "      cursor: pointer;\n",
              "      display: none;\n",
              "      fill: #1967D2;\n",
              "      height: 32px;\n",
              "      padding: 0 0 0 0;\n",
              "      width: 32px;\n",
              "    }\n",
              "\n",
              "    .colab-df-convert:hover {\n",
              "      background-color: #E2EBFA;\n",
              "      box-shadow: 0px 1px 2px rgba(60, 64, 67, 0.3), 0px 1px 3px 1px rgba(60, 64, 67, 0.15);\n",
              "      fill: #174EA6;\n",
              "    }\n",
              "\n",
              "    [theme=dark] .colab-df-convert {\n",
              "      background-color: #3B4455;\n",
              "      fill: #D2E3FC;\n",
              "    }\n",
              "\n",
              "    [theme=dark] .colab-df-convert:hover {\n",
              "      background-color: #434B5C;\n",
              "      box-shadow: 0px 1px 3px 1px rgba(0, 0, 0, 0.15);\n",
              "      filter: drop-shadow(0px 1px 2px rgba(0, 0, 0, 0.3));\n",
              "      fill: #FFFFFF;\n",
              "    }\n",
              "  </style>\n",
              "\n",
              "      <script>\n",
              "        const buttonEl =\n",
              "          document.querySelector('#df-b9e1a618-f8ef-4897-9a22-50713773b8a3 button.colab-df-convert');\n",
              "        buttonEl.style.display =\n",
              "          google.colab.kernel.accessAllowed ? 'block' : 'none';\n",
              "\n",
              "        async function convertToInteractive(key) {\n",
              "          const element = document.querySelector('#df-b9e1a618-f8ef-4897-9a22-50713773b8a3');\n",
              "          const dataTable =\n",
              "            await google.colab.kernel.invokeFunction('convertToInteractive',\n",
              "                                                     [key], {});\n",
              "          if (!dataTable) return;\n",
              "\n",
              "          const docLinkHtml = 'Like what you see? Visit the ' +\n",
              "            '<a target=\"_blank\" href=https://colab.research.google.com/notebooks/data_table.ipynb>data table notebook</a>'\n",
              "            + ' to learn more about interactive tables.';\n",
              "          element.innerHTML = '';\n",
              "          dataTable['output_type'] = 'display_data';\n",
              "          await google.colab.output.renderOutput(dataTable, element);\n",
              "          const docLink = document.createElement('div');\n",
              "          docLink.innerHTML = docLinkHtml;\n",
              "          element.appendChild(docLink);\n",
              "        }\n",
              "      </script>\n",
              "    </div>\n",
              "  </div>\n",
              "  "
            ]
          },
          "metadata": {},
          "execution_count": 64
        }
      ]
    },
    {
      "cell_type": "code",
      "source": [
        "Log_TP = len(Log_preds[(Log_preds[\"Predicted\"]==Log_preds[\"Actual\"])&(Log_preds[\"Predicted\"]==1)])\n",
        "Log_FP = len(Log_preds[(Log_preds[\"Predicted\"]!=Log_preds[\"Actual\"])&(Log_preds[\"Predicted\"]==1)])\n",
        "Log_FN = len(Log_preds[(Log_preds[\"Predicted\"]!=Log_preds[\"Actual\"])&(Log_preds[\"Predicted\"]==0)])\n",
        "Log_TN = len(Log_preds[(Log_preds[\"Predicted\"]==Log_preds[\"Actual\"])&(Log_preds[\"Predicted\"]==0)])\n",
        "print(Log_TP,Log_FP,Log_FN,Log_TN)\n",
        "print(\"Rightly Classified: \",(Log_TP+Log_TN),\"/\",(Log_TP+Log_FP+Log_FN+Log_TN))\n",
        "print(\"Wrongly Classified: \",(Log_FP+Log_FN),\"/\",(Log_TP+Log_FP+Log_FN+Log_TN))\n",
        "Log_Accuracy = (Log_TP+Log_TN)/(Log_TP+Log_TN+Log_FP+Log_FN)\n",
        "Log_Precision = (Log_TP)/(Log_TP+Log_FP)\n",
        "Log_Recall = (Log_TP)/(Log_TP+Log_FN)\n",
        "Log_Specificity = (Log_TN)/(Log_TN+Log_FP)\n",
        "Log_F1 = (2*Log_Precision*Log_Recall)/(Log_Precision+Log_Recall)"
      ],
      "metadata": {
        "colab": {
          "base_uri": "https://localhost:8080/"
        },
        "id": "mSalCcxVEr2z",
        "outputId": "0fd0d9fc-013d-43b7-d1a4-2773fac7a09f"
      },
      "execution_count": 96,
      "outputs": [
        {
          "output_type": "stream",
          "name": "stdout",
          "text": [
            "13198 4370 0 0\n",
            "Rightly Classified:  13198 / 17568\n",
            "Wrongly Classified:  4370 / 17568\n"
          ]
        }
      ]
    },
    {
      "cell_type": "code",
      "source": [
        "confusion_matrix = metrics.confusion_matrix(Y_test, log_reg_pred)\n",
        "cm_display = metrics.ConfusionMatrixDisplay(confusion_matrix = confusion_matrix, display_labels = [False, True])\n",
        "cm_display.plot()\n",
        "plt.show()\n",
        "log_reg_accuracy = accuracy_score(log_reg_pred, Y_test)\n",
        "print('\\nAccuracy on using Logistic Regression algorithm is: ',log_reg_accuracy*100)"
      ],
      "metadata": {
        "colab": {
          "base_uri": "https://localhost:8080/",
          "height": 314
        },
        "id": "_gP-nzmwY2ZR",
        "outputId": "7ebdad93-c874-4185-a769-591019fccf72"
      },
      "execution_count": 53,
      "outputs": [
        {
          "output_type": "display_data",
          "data": {
            "text/plain": [
              "<Figure size 432x288 with 2 Axes>"
            ],
            "image/png": "[encoded data removed]"
          },
          "metadata": {
            "needs_background": "light"
          }
        },
        {
          "output_type": "stream",
          "name": "stdout",
          "text": [
            "\n",
            "Accuracy on using Logistic Regression algorithm is:  75.1252276867031\n"
          ]
        }
      ]
    },
    {
      "cell_type": "code",
      "source": [
        "print(classification_report(Y_test, log_reg_pred))"
      ],
      "metadata": {
        "colab": {
          "base_uri": "https://localhost:8080/"
        },
        "id": "Sfnegp1zE8oO",
        "outputId": "e2e92306-7f16-45a3-fae4-abd173bc7409"
      },
      "execution_count": 66,
      "outputs": [
        {
          "output_type": "stream",
          "name": "stdout",
          "text": [
            "              precision    recall  f1-score   support\n",
            "\n",
            "         0.0       0.00      0.00      0.00      4370\n",
            "         1.0       0.75      1.00      0.86     13198\n",
            "\n",
            "    accuracy                           0.75     17568\n",
            "   macro avg       0.38      0.50      0.43     17568\n",
            "weighted avg       0.56      0.75      0.64     17568\n",
            "\n"
          ]
        },
        {
          "output_type": "stream",
          "name": "stderr",
          "text": [
            "/usr/local/lib/python3.8/dist-packages/sklearn/metrics/_classification.py:1318: UndefinedMetricWarning: Precision and F-score are ill-defined and being set to 0.0 in labels with no predicted samples. Use `zero_division` parameter to control this behavior.\n",
            "  _warn_prf(average, modifier, msg_start, len(result))\n",
            "/usr/local/lib/python3.8/dist-packages/sklearn/metrics/_classification.py:1318: UndefinedMetricWarning: Precision and F-score are ill-defined and being set to 0.0 in labels with no predicted samples. Use `zero_division` parameter to control this behavior.\n",
            "  _warn_prf(average, modifier, msg_start, len(result))\n",
            "/usr/local/lib/python3.8/dist-packages/sklearn/metrics/_classification.py:1318: UndefinedMetricWarning: Precision and F-score are ill-defined and being set to 0.0 in labels with no predicted samples. Use `zero_division` parameter to control this behavior.\n",
            "  _warn_prf(average, modifier, msg_start, len(result))\n"
          ]
        }
      ]
    },
    {
      "cell_type": "code",
      "source": [
        "## 4) Decision Tree Model\n",
        "\n",
        "from sklearn.tree import DecisionTreeClassifier\n",
        "\n",
        "dec_tree_model = DecisionTreeClassifier()\n",
        "\n",
        "dec_tree_model.fit(X_train, Y_train)\n",
        "\n",
        "dec_tree_pred = dec_tree_model.predict(X_test)\n",
        "Decision_tree_preds = pd.DataFrame({\"Predicted\":dec_tree_pred,\"Actual\":Y_test})\n",
        "Decision_tree_preds\n"
      ],
      "metadata": {
        "colab": {
          "base_uri": "https://localhost:8080/",
          "height": 424
        },
        "id": "o73jDMXDGkSt",
        "outputId": "0eaccf7a-8305-4572-9ca2-1457583a550c"
      },
      "execution_count": 59,
      "outputs": [
        {
          "output_type": "execute_result",
          "data": {
            "text/plain": [
              "       Predicted  Actual\n",
              "21617        0.0     0.0\n",
              "34029        1.0     1.0\n",
              "34957        1.0     1.0\n",
              "24416        1.0     1.0\n",
              "17811        0.0     0.0\n",
              "...          ...     ...\n",
              "21055        0.0     1.0\n",
              "12308        1.0     1.0\n",
              "61307        0.0     0.0\n",
              "31571        1.0     1.0\n",
              "19008        1.0     1.0\n",
              "\n",
              "[17568 rows x 2 columns]"
            ],
            "text/html": [
              "\n",
              "  <div id=\"df-00760840-723c-492b-a594-d8a644b30708\">\n",
              "    <div class=\"colab-df-container\">\n",
              "      <div>\n",
              "<style scoped>\n",
              "    .dataframe tbody tr th:only-of-type {\n",
              "        vertical-align: middle;\n",
              "    }\n",
              "\n",
              "    .dataframe tbody tr th {\n",
              "        vertical-align: top;\n",
              "    }\n",
              "\n",
              "    .dataframe thead th {\n",
              "        text-align: right;\n",
              "    }\n",
              "</style>\n",
              "<table border=\"1\" class=\"dataframe\">\n",
              "  <thead>\n",
              "    <tr style=\"text-align: right;\">\n",
              "      <th></th>\n",
              "      <th>Predicted</th>\n",
              "      <th>Actual</th>\n",
              "    </tr>\n",
              "  </thead>\n",
              "  <tbody>\n",
              "    <tr>\n",
              "      <th>21617</th>\n",
              "      <td>0.0</td>\n",
              "      <td>0.0</td>\n",
              "    </tr>\n",
              "    <tr>\n",
              "      <th>34029</th>\n",
              "      <td>1.0</td>\n",
              "      <td>1.0</td>\n",
              "    </tr>\n",
              "    <tr>\n",
              "      <th>34957</th>\n",
              "      <td>1.0</td>\n",
              "      <td>1.0</td>\n",
              "    </tr>\n",
              "    <tr>\n",
              "      <th>24416</th>\n",
              "      <td>1.0</td>\n",
              "      <td>1.0</td>\n",
              "    </tr>\n",
              "    <tr>\n",
              "      <th>17811</th>\n",
              "      <td>0.0</td>\n",
              "      <td>0.0</td>\n",
              "    </tr>\n",
              "    <tr>\n",
              "      <th>...</th>\n",
              "      <td>...</td>\n",
              "      <td>...</td>\n",
              "    </tr>\n",
              "    <tr>\n",
              "      <th>21055</th>\n",
              "      <td>0.0</td>\n",
              "      <td>1.0</td>\n",
              "    </tr>\n",
              "    <tr>\n",
              "      <th>12308</th>\n",
              "      <td>1.0</td>\n",
              "      <td>1.0</td>\n",
              "    </tr>\n",
              "    <tr>\n",
              "      <th>61307</th>\n",
              "      <td>0.0</td>\n",
              "      <td>0.0</td>\n",
              "    </tr>\n",
              "    <tr>\n",
              "      <th>31571</th>\n",
              "      <td>1.0</td>\n",
              "      <td>1.0</td>\n",
              "    </tr>\n",
              "    <tr>\n",
              "      <th>19008</th>\n",
              "      <td>1.0</td>\n",
              "      <td>1.0</td>\n",
              "    </tr>\n",
              "  </tbody>\n",
              "</table>\n",
              "<p>17568 rows × 2 columns</p>\n",
              "</div>\n",
              "      <button class=\"colab-df-convert\" onclick=\"convertToInteractive('df-00760840-723c-492b-a594-d8a644b30708')\"\n",
              "              title=\"Convert this dataframe to an interactive table.\"\n",
              "              style=\"display:none;\">\n",
              "        \n",
              "  <svg xmlns=\"http://www.w3.org/2000/svg\" height=\"24px\"viewBox=\"0 0 24 24\"\n",
              "       width=\"24px\">\n",
              "    <path d=\"M0 0h24v24H0V0z\" fill=\"none\"/>\n",
              "    <path d=\"M18.56 5.44l.94 2.06.94-2.06 2.06-.94-2.06-.94-.94-2.06-.94 2.06-2.06.94zm-11 1L8.5 8.5l.94-2.06 2.06-.94-2.06-.94L8.5 2.5l-.94 2.06-2.06.94zm10 10l.94 2.06.94-2.06 2.06-.94-2.06-.94-.94-2.06-.94 2.06-2.06.94z\"/><path d=\"M17.41 7.96l-1.37-1.37c-.4-.4-.92-.59-1.43-.59-.52 0-1.04.2-1.43.59L10.3 9.45l-7.72 7.72c-.78.78-.78 2.05 0 2.83L4 21.41c.39.39.9.59 1.41.59.51 0 1.02-.2 1.41-.59l7.78-7.78 2.81-2.81c.8-.78.8-2.07 0-2.86zM5.41 20L4 18.59l7.72-7.72 1.47 1.35L5.41 20z\"/>\n",
              "  </svg>\n",
              "      </button>\n",
              "      \n",
              "  <style>\n",
              "    .colab-df-container {\n",
              "      display:flex;\n",
              "      flex-wrap:wrap;\n",
              "      gap: 12px;\n",
              "    }\n",
              "\n",
              "    .colab-df-convert {\n",
              "      background-color: #E8F0FE;\n",
              "      border: none;\n",
              "      border-radius: 50%;\n",
              "      cursor: pointer;\n",
              "      display: none;\n",
              "      fill: #1967D2;\n",
              "      height: 32px;\n",
              "      padding: 0 0 0 0;\n",
              "      width: 32px;\n",
              "    }\n",
              "\n",
              "    .colab-df-convert:hover {\n",
              "      background-color: #E2EBFA;\n",
              "      box-shadow: 0px 1px 2px rgba(60, 64, 67, 0.3), 0px 1px 3px 1px rgba(60, 64, 67, 0.15);\n",
              "      fill: #174EA6;\n",
              "    }\n",
              "\n",
              "    [theme=dark] .colab-df-convert {\n",
              "      background-color: #3B4455;\n",
              "      fill: #D2E3FC;\n",
              "    }\n",
              "\n",
              "    [theme=dark] .colab-df-convert:hover {\n",
              "      background-color: #434B5C;\n",
              "      box-shadow: 0px 1px 3px 1px rgba(0, 0, 0, 0.15);\n",
              "      filter: drop-shadow(0px 1px 2px rgba(0, 0, 0, 0.3));\n",
              "      fill: #FFFFFF;\n",
              "    }\n",
              "  </style>\n",
              "\n",
              "      <script>\n",
              "        const buttonEl =\n",
              "          document.querySelector('#df-00760840-723c-492b-a594-d8a644b30708 button.colab-df-convert');\n",
              "        buttonEl.style.display =\n",
              "          google.colab.kernel.accessAllowed ? 'block' : 'none';\n",
              "\n",
              "        async function convertToInteractive(key) {\n",
              "          const element = document.querySelector('#df-00760840-723c-492b-a594-d8a644b30708');\n",
              "          const dataTable =\n",
              "            await google.colab.kernel.invokeFunction('convertToInteractive',\n",
              "                                                     [key], {});\n",
              "          if (!dataTable) return;\n",
              "\n",
              "          const docLinkHtml = 'Like what you see? Visit the ' +\n",
              "            '<a target=\"_blank\" href=https://colab.research.google.com/notebooks/data_table.ipynb>data table notebook</a>'\n",
              "            + ' to learn more about interactive tables.';\n",
              "          element.innerHTML = '';\n",
              "          dataTable['output_type'] = 'display_data';\n",
              "          await google.colab.output.renderOutput(dataTable, element);\n",
              "          const docLink = document.createElement('div');\n",
              "          docLink.innerHTML = docLinkHtml;\n",
              "          element.appendChild(docLink);\n",
              "        }\n",
              "      </script>\n",
              "    </div>\n",
              "  </div>\n",
              "  "
            ]
          },
          "metadata": {},
          "execution_count": 59
        }
      ]
    },
    {
      "cell_type": "code",
      "source": [
        "Decision_TP = len(Decision_tree_preds[(Decision_tree_preds[\"Predicted\"]==Decision_tree_preds[\"Actual\"])&(Decision_tree_preds[\"Predicted\"]==1)])\n",
        "Decision_FP = len(Decision_tree_preds[(Decision_tree_preds[\"Predicted\"]!=Decision_tree_preds[\"Actual\"])&(Decision_tree_preds[\"Predicted\"]==1)])\n",
        "Decision_FN = len(Decision_tree_preds[(Decision_tree_preds[\"Predicted\"]!=Decision_tree_preds[\"Actual\"])&(Decision_tree_preds[\"Predicted\"]==0)])\n",
        "Decision_TN = len(Decision_tree_preds[(Decision_tree_preds[\"Predicted\"]==Decision_tree_preds[\"Actual\"])&(Decision_tree_preds[\"Predicted\"]==0)])\n",
        "print(Decision_TP,Decision_FP,Decision_FN,Decision_TN)\n",
        "print(\"Rightly Classified: \",(Decision_TP+Decision_TN),\"/\",(Decision_TP+Decision_FP+Decision_FN+Decision_TN))\n",
        "print(\"Wrongly Classified: \",(Decision_FP+Decision_FN),\"/\",(Decision_TP+Decision_FP+Decision_FN+Decision_TN))\n",
        "Decision_Accuracy = (Decision_TP+Decision_TN)/(Decision_TP+Decision_TN+Decision_FP+Decision_FN)\n",
        "Decision_Precision = (Decision_TP)/(Decision_TP+Decision_FP)\n",
        "Decision_Recall = (Decision_TP)/(Decision_TP+Decision_FN)\n",
        "Decision_Specificity = (Decision_TN)/(Decision_TN+Decision_FP)\n",
        "Decision_F1 = (2*Decision_Precision*Decision_Recall)/(Decision_Precision+Decision_Recall)"
      ],
      "metadata": {
        "colab": {
          "base_uri": "https://localhost:8080/"
        },
        "id": "JtIPsKCJCP46",
        "outputId": "fa686b40-8644-4f7b-a485-3dd5b40f9f73"
      },
      "execution_count": 95,
      "outputs": [
        {
          "output_type": "stream",
          "name": "stdout",
          "text": [
            "11419 1799 1778 2571\n",
            "Rightly Classified:  13990 / 17567\n",
            "Wrongly Classified:  3577 / 17567\n"
          ]
        }
      ]
    },
    {
      "cell_type": "code",
      "source": [
        "confusion_matrix = metrics.confusion_matrix(Y_test, dec_tree_pred)\n",
        "cm_display = metrics.ConfusionMatrixDisplay(confusion_matrix = confusion_matrix, display_labels = [False, True])\n",
        "cm_display.plot()\n",
        "plt.show()\n",
        "dec_tree_accuracy = accuracy_score(dec_tree_pred, Y_test)\n",
        "print('\\nAccuracy on using Decision Tree model is: ',dec_tree_accuracy*100);"
      ],
      "metadata": {
        "colab": {
          "base_uri": "https://localhost:8080/",
          "height": 314
        },
        "id": "lo6NAIPnaR8S",
        "outputId": "f3856a02-44a6-4b98-b9ab-d3ba797629df"
      },
      "execution_count": 55,
      "outputs": [
        {
          "output_type": "display_data",
          "data": {
            "text/plain": [
              "<Figure size 432x288 with 2 Axes>"
            ],
            "image/png": "[encoded data removed]"
          },
          "metadata": {
            "needs_background": "light"
          }
        },
        {
          "output_type": "stream",
          "name": "stdout",
          "text": [
            "\n",
            "Accuracy on using Decision Tree model is:  79.74157559198542\n"
          ]
        }
      ]
    },
    {
      "cell_type": "code",
      "source": [
        "print(classification_report(Y_test,dec_tree_pred ))"
      ],
      "metadata": {
        "colab": {
          "base_uri": "https://localhost:8080/"
        },
        "id": "jYH4ZiPRCoZu",
        "outputId": "a703d57a-d4ca-46c4-9039-c58d3b4376e9"
      },
      "execution_count": 61,
      "outputs": [
        {
          "output_type": "stream",
          "name": "stdout",
          "text": [
            "              precision    recall  f1-score   support\n",
            "\n",
            "         0.0       0.59      0.59      0.59      4370\n",
            "         1.0       0.86      0.87      0.86     13198\n",
            "         6.0       0.00      0.00      0.00         0\n",
            "\n",
            "    accuracy                           0.80     17568\n",
            "   macro avg       0.49      0.48      0.48     17568\n",
            "weighted avg       0.80      0.80      0.80     17568\n",
            "\n"
          ]
        },
        {
          "output_type": "stream",
          "name": "stderr",
          "text": [
            "/usr/local/lib/python3.8/dist-packages/sklearn/metrics/_classification.py:1318: UndefinedMetricWarning: Recall and F-score are ill-defined and being set to 0.0 in labels with no true samples. Use `zero_division` parameter to control this behavior.\n",
            "  _warn_prf(average, modifier, msg_start, len(result))\n",
            "/usr/local/lib/python3.8/dist-packages/sklearn/metrics/_classification.py:1318: UndefinedMetricWarning: Recall and F-score are ill-defined and being set to 0.0 in labels with no true samples. Use `zero_division` parameter to control this behavior.\n",
            "  _warn_prf(average, modifier, msg_start, len(result))\n",
            "/usr/local/lib/python3.8/dist-packages/sklearn/metrics/_classification.py:1318: UndefinedMetricWarning: Recall and F-score are ill-defined and being set to 0.0 in labels with no true samples. Use `zero_division` parameter to control this behavior.\n",
            "  _warn_prf(average, modifier, msg_start, len(result))\n"
          ]
        }
      ]
    },
    {
      "cell_type": "code",
      "source": [
        "## 5) Random Forest \n",
        "\n",
        "from sklearn.ensemble import RandomForestClassifier\n",
        "\n",
        "rand_forest_model= RandomForestClassifier(max_depth=2)\n",
        "\n",
        "rand_forest_model.fit(X_train,Y_train)\n",
        "\n",
        "rand_forest_pred = rand_forest_model.predict(X_test)\n",
        "RF_preds = pd.DataFrame({\"Predicted\":rand_forest_pred,\"Actual\":Y_test})\n",
        "RF_preds"
      ],
      "metadata": {
        "colab": {
          "base_uri": "https://localhost:8080/",
          "height": 424
        },
        "id": "aRugDYfGGolZ",
        "outputId": "41691f05-c8f6-4fb2-ba2c-7d59a39f0935"
      },
      "execution_count": 80,
      "outputs": [
        {
          "output_type": "execute_result",
          "data": {
            "text/plain": [
              "       Predicted  Actual\n",
              "21617        1.0     0.0\n",
              "34029        1.0     1.0\n",
              "34957        1.0     1.0\n",
              "24416        1.0     1.0\n",
              "17811        1.0     0.0\n",
              "...          ...     ...\n",
              "21055        1.0     1.0\n",
              "12308        1.0     1.0\n",
              "61307        1.0     0.0\n",
              "31571        1.0     1.0\n",
              "19008        1.0     1.0\n",
              "\n",
              "[17568 rows x 2 columns]"
            ],
            "text/html": [
              "\n",
              "  <div id=\"df-9dbfbd93-4e07-41bb-bff7-96504b87f2b7\">\n",
              "    <div class=\"colab-df-container\">\n",
              "      <div>\n",
              "<style scoped>\n",
              "    .dataframe tbody tr th:only-of-type {\n",
              "        vertical-align: middle;\n",
              "    }\n",
              "\n",
              "    .dataframe tbody tr th {\n",
              "        vertical-align: top;\n",
              "    }\n",
              "\n",
              "    .dataframe thead th {\n",
              "        text-align: right;\n",
              "    }\n",
              "</style>\n",
              "<table border=\"1\" class=\"dataframe\">\n",
              "  <thead>\n",
              "    <tr style=\"text-align: right;\">\n",
              "      <th></th>\n",
              "      <th>Predicted</th>\n",
              "      <th>Actual</th>\n",
              "    </tr>\n",
              "  </thead>\n",
              "  <tbody>\n",
              "    <tr>\n",
              "      <th>21617</th>\n",
              "      <td>1.0</td>\n",
              "      <td>0.0</td>\n",
              "    </tr>\n",
              "    <tr>\n",
              "      <th>34029</th>\n",
              "      <td>1.0</td>\n",
              "      <td>1.0</td>\n",
              "    </tr>\n",
              "    <tr>\n",
              "      <th>34957</th>\n",
              "      <td>1.0</td>\n",
              "      <td>1.0</td>\n",
              "    </tr>\n",
              "    <tr>\n",
              "      <th>24416</th>\n",
              "      <td>1.0</td>\n",
              "      <td>1.0</td>\n",
              "    </tr>\n",
              "    <tr>\n",
              "      <th>17811</th>\n",
              "      <td>1.0</td>\n",
              "      <td>0.0</td>\n",
              "    </tr>\n",
              "    <tr>\n",
              "      <th>...</th>\n",
              "      <td>...</td>\n",
              "      <td>...</td>\n",
              "    </tr>\n",
              "    <tr>\n",
              "      <th>21055</th>\n",
              "      <td>1.0</td>\n",
              "      <td>1.0</td>\n",
              "    </tr>\n",
              "    <tr>\n",
              "      <th>12308</th>\n",
              "      <td>1.0</td>\n",
              "      <td>1.0</td>\n",
              "    </tr>\n",
              "    <tr>\n",
              "      <th>61307</th>\n",
              "      <td>1.0</td>\n",
              "      <td>0.0</td>\n",
              "    </tr>\n",
              "    <tr>\n",
              "      <th>31571</th>\n",
              "      <td>1.0</td>\n",
              "      <td>1.0</td>\n",
              "    </tr>\n",
              "    <tr>\n",
              "      <th>19008</th>\n",
              "      <td>1.0</td>\n",
              "      <td>1.0</td>\n",
              "    </tr>\n",
              "  </tbody>\n",
              "</table>\n",
              "<p>17568 rows × 2 columns</p>\n",
              "</div>\n",
              "      <button class=\"colab-df-convert\" onclick=\"convertToInteractive('df-9dbfbd93-4e07-41bb-bff7-96504b87f2b7')\"\n",
              "              title=\"Convert this dataframe to an interactive table.\"\n",
              "              style=\"display:none;\">\n",
              "        \n",
              "  <svg xmlns=\"http://www.w3.org/2000/svg\" height=\"24px\"viewBox=\"0 0 24 24\"\n",
              "       width=\"24px\">\n",
              "    <path d=\"M0 0h24v24H0V0z\" fill=\"none\"/>\n",
              "    <path d=\"M18.56 5.44l.94 2.06.94-2.06 2.06-.94-2.06-.94-.94-2.06-.94 2.06-2.06.94zm-11 1L8.5 8.5l.94-2.06 2.06-.94-2.06-.94L8.5 2.5l-.94 2.06-2.06.94zm10 10l.94 2.06.94-2.06 2.06-.94-2.06-.94-.94-2.06-.94 2.06-2.06.94z\"/><path d=\"M17.41 7.96l-1.37-1.37c-.4-.4-.92-.59-1.43-.59-.52 0-1.04.2-1.43.59L10.3 9.45l-7.72 7.72c-.78.78-.78 2.05 0 2.83L4 21.41c.39.39.9.59 1.41.59.51 0 1.02-.2 1.41-.59l7.78-7.78 2.81-2.81c.8-.78.8-2.07 0-2.86zM5.41 20L4 18.59l7.72-7.72 1.47 1.35L5.41 20z\"/>\n",
              "  </svg>\n",
              "      </button>\n",
              "      \n",
              "  <style>\n",
              "    .colab-df-container {\n",
              "      display:flex;\n",
              "      flex-wrap:wrap;\n",
              "      gap: 12px;\n",
              "    }\n",
              "\n",
              "    .colab-df-convert {\n",
              "      background-color: #E8F0FE;\n",
              "      border: none;\n",
              "      border-radius: 50%;\n",
              "      cursor: pointer;\n",
              "      display: none;\n",
              "      fill: #1967D2;\n",
              "      height: 32px;\n",
              "      padding: 0 0 0 0;\n",
              "      width: 32px;\n",
              "    }\n",
              "\n",
              "    .colab-df-convert:hover {\n",
              "      background-color: #E2EBFA;\n",
              "      box-shadow: 0px 1px 2px rgba(60, 64, 67, 0.3), 0px 1px 3px 1px rgba(60, 64, 67, 0.15);\n",
              "      fill: #174EA6;\n",
              "    }\n",
              "\n",
              "    [theme=dark] .colab-df-convert {\n",
              "      background-color: #3B4455;\n",
              "      fill: #D2E3FC;\n",
              "    }\n",
              "\n",
              "    [theme=dark] .colab-df-convert:hover {\n",
              "      background-color: #434B5C;\n",
              "      box-shadow: 0px 1px 3px 1px rgba(0, 0, 0, 0.15);\n",
              "      filter: drop-shadow(0px 1px 2px rgba(0, 0, 0, 0.3));\n",
              "      fill: #FFFFFF;\n",
              "    }\n",
              "  </style>\n",
              "\n",
              "      <script>\n",
              "        const buttonEl =\n",
              "          document.querySelector('#df-9dbfbd93-4e07-41bb-bff7-96504b87f2b7 button.colab-df-convert');\n",
              "        buttonEl.style.display =\n",
              "          google.colab.kernel.accessAllowed ? 'block' : 'none';\n",
              "\n",
              "        async function convertToInteractive(key) {\n",
              "          const element = document.querySelector('#df-9dbfbd93-4e07-41bb-bff7-96504b87f2b7');\n",
              "          const dataTable =\n",
              "            await google.colab.kernel.invokeFunction('convertToInteractive',\n",
              "                                                     [key], {});\n",
              "          if (!dataTable) return;\n",
              "\n",
              "          const docLinkHtml = 'Like what you see? Visit the ' +\n",
              "            '<a target=\"_blank\" href=https://colab.research.google.com/notebooks/data_table.ipynb>data table notebook</a>'\n",
              "            + ' to learn more about interactive tables.';\n",
              "          element.innerHTML = '';\n",
              "          dataTable['output_type'] = 'display_data';\n",
              "          await google.colab.output.renderOutput(dataTable, element);\n",
              "          const docLink = document.createElement('div');\n",
              "          docLink.innerHTML = docLinkHtml;\n",
              "          element.appendChild(docLink);\n",
              "        }\n",
              "      </script>\n",
              "    </div>\n",
              "  </div>\n",
              "  "
            ]
          },
          "metadata": {},
          "execution_count": 80
        }
      ]
    },
    {
      "cell_type": "code",
      "source": [
        "RF_TP1 = len(RF_preds[(RF_preds[\"Predicted\"]==RF_preds[\"Actual\"])&(RF_preds[\"Predicted\"]==1)])\n",
        "RF_FP1 = len(RF_preds[(RF_preds[\"Predicted\"]!=RF_preds[\"Actual\"])&(RF_preds[\"Predicted\"]==1)])\n",
        "RF_FN1 = len(RF_preds[(RF_preds[\"Predicted\"]!=RF_preds[\"Actual\"])&(RF_preds[\"Predicted\"]==0)])\n",
        "RF_TN1 = len(RF_preds[(RF_preds[\"Predicted\"]==RF_preds[\"Actual\"])&(RF_preds[\"Predicted\"]==0)])\n",
        "print(RFTP,RFFP,RFFN,RFTN)\n",
        "print(\"Rightly Classified: \",(RF_TP1+RF_TN1),\"/\",(RF_TP1+RF_FP1+RF_FN1+RF_TN1))\n",
        "print(\"Wrongly Classified: \",(RF_FP1+RF_FN1),\"/\",(RF_TP1+RF_FP1+RF_FN1+RF_TN1))\n",
        "RF_Accuracy1 = (RF_TP1+RF_TN1)/(RF_TP1+RF_FP1+RF_FN1+RF_TN1)\n",
        "RF_Precision1 = (RF_TP1)/(RF_TP1+RF_FP1)\n",
        "RF_Recall1 = (RF_TP1)/(RF_TP1+RF_FN1)\n",
        "RF_Specificity1 = (RF_TN1)/(RF_TN1+RF_FP1)\n",
        "RF_F11 = (2*RF_Precision1*RF_Recall1)/(RF_Precision1+RF_Recall1)\n"
      ],
      "metadata": {
        "colab": {
          "base_uri": "https://localhost:8080/"
        },
        "id": "j3ivD1mlS8Wg",
        "outputId": "0bc967cc-0543-4323-b8e2-5bb689475fdf"
      },
      "execution_count": 98,
      "outputs": [
        {
          "output_type": "stream",
          "name": "stdout",
          "text": [
            "13197 4348 1 22\n",
            "Rightly Classified:  14002 / 17568\n",
            "Wrongly Classified:  3566 / 17568\n"
          ]
        }
      ]
    },
    {
      "cell_type": "code",
      "source": [
        "confusion_matrix = metrics.confusion_matrix(Y_test, rand_forest_pred)\n",
        "cm_display = metrics.ConfusionMatrixDisplay(confusion_matrix = confusion_matrix, display_labels = [False, True])\n",
        "cm_display.plot()\n",
        "plt.show()\n",
        "rand_forest_accuracy = accuracy_score(rand_forest_pred, Y_test)\n",
        "print('\\nAccuracy on using Random Forest algorithm is: ',rand_forest_accuracy*100);"
      ],
      "metadata": {
        "colab": {
          "base_uri": "https://localhost:8080/",
          "height": 315
        },
        "id": "gmNTD5jAay8v",
        "outputId": "b18fc449-8279-4759-b665-451b929ea5e3"
      },
      "execution_count": 57,
      "outputs": [
        {
          "output_type": "display_data",
          "data": {
            "text/plain": [
              "<Figure size 432x288 with 2 Axes>"
            ],
            "image/png": "[encoded data removed]"
          },
          "metadata": {
            "needs_background": "light"
          }
        },
        {
          "output_type": "stream",
          "name": "stdout",
          "text": [
            "\n",
            "Accuracy on using Random Forest algorithm is:  83.09995446265937\n"
          ]
        }
      ]
    },
    {
      "cell_type": "code",
      "source": [
        "print(classification_report(Y_test,rand_forest_pred ))"
      ],
      "metadata": {
        "id": "ZDoHyeKQdkmt",
        "colab": {
          "base_uri": "https://localhost:8080/"
        },
        "outputId": "e934f825-62f6-426d-c3a1-2618202a9c88"
      },
      "execution_count": 82,
      "outputs": [
        {
          "output_type": "stream",
          "name": "stdout",
          "text": [
            "              precision    recall  f1-score   support\n",
            "\n",
            "         0.0       0.96      0.01      0.01      4370\n",
            "         1.0       0.75      1.00      0.86     13198\n",
            "\n",
            "    accuracy                           0.75     17568\n",
            "   macro avg       0.85      0.50      0.43     17568\n",
            "weighted avg       0.80      0.75      0.65     17568\n",
            "\n"
          ]
        }
      ]
    },
    {
      "cell_type": "markdown",
      "source": [
        "##Random Forest (Max 5 features in Bootstraping)"
      ],
      "metadata": {
        "id": "tW2fP1B1V58y"
      }
    },
    {
      "cell_type": "code",
      "source": [
        "\n",
        "RF_model2 = RandomForestClassifier(max_depth=5)\n",
        "RF_model2.fit(X_train,Y_train)\n",
        "RF_y_preds = RF_model2.predict(X_test)\n",
        "RF_preds = pd.DataFrame({\"Predicted\":RF_y_preds,\"Actual\":Y_test})\n",
        "RF_preds"
      ],
      "metadata": {
        "colab": {
          "base_uri": "https://localhost:8080/",
          "height": 424
        },
        "id": "sURph06sUtzi",
        "outputId": "9a8eaca6-8c7a-4ef9-c79c-07582837a078"
      },
      "execution_count": 170,
      "outputs": [
        {
          "output_type": "execute_result",
          "data": {
            "text/plain": [
              "       Predicted  Actual\n",
              "21617        1.0     0.0\n",
              "34029        1.0     1.0\n",
              "34957        1.0     1.0\n",
              "24416        1.0     1.0\n",
              "17811        0.0     0.0\n",
              "...          ...     ...\n",
              "21055        0.0     1.0\n",
              "12308        1.0     1.0\n",
              "61307        1.0     0.0\n",
              "31571        1.0     1.0\n",
              "19008        1.0     1.0\n",
              "\n",
              "[17568 rows x 2 columns]"
            ],
            "text/html": [
              "\n",
              "  <div id=\"df-eac996ac-e562-4d44-850a-3e5cf12e2070\">\n",
              "    <div class=\"colab-df-container\">\n",
              "      <div>\n",
              "<style scoped>\n",
              "    .dataframe tbody tr th:only-of-type {\n",
              "        vertical-align: middle;\n",
              "    }\n",
              "\n",
              "    .dataframe tbody tr th {\n",
              "        vertical-align: top;\n",
              "    }\n",
              "\n",
              "    .dataframe thead th {\n",
              "        text-align: right;\n",
              "    }\n",
              "</style>\n",
              "<table border=\"1\" class=\"dataframe\">\n",
              "  <thead>\n",
              "    <tr style=\"text-align: right;\">\n",
              "      <th></th>\n",
              "      <th>Predicted</th>\n",
              "      <th>Actual</th>\n",
              "    </tr>\n",
              "  </thead>\n",
              "  <tbody>\n",
              "    <tr>\n",
              "      <th>21617</th>\n",
              "      <td>1.0</td>\n",
              "      <td>0.0</td>\n",
              "    </tr>\n",
              "    <tr>\n",
              "      <th>34029</th>\n",
              "      <td>1.0</td>\n",
              "      <td>1.0</td>\n",
              "    </tr>\n",
              "    <tr>\n",
              "      <th>34957</th>\n",
              "      <td>1.0</td>\n",
              "      <td>1.0</td>\n",
              "    </tr>\n",
              "    <tr>\n",
              "      <th>24416</th>\n",
              "      <td>1.0</td>\n",
              "      <td>1.0</td>\n",
              "    </tr>\n",
              "    <tr>\n",
              "      <th>17811</th>\n",
              "      <td>0.0</td>\n",
              "      <td>0.0</td>\n",
              "    </tr>\n",
              "    <tr>\n",
              "      <th>...</th>\n",
              "      <td>...</td>\n",
              "      <td>...</td>\n",
              "    </tr>\n",
              "    <tr>\n",
              "      <th>21055</th>\n",
              "      <td>0.0</td>\n",
              "      <td>1.0</td>\n",
              "    </tr>\n",
              "    <tr>\n",
              "      <th>12308</th>\n",
              "      <td>1.0</td>\n",
              "      <td>1.0</td>\n",
              "    </tr>\n",
              "    <tr>\n",
              "      <th>61307</th>\n",
              "      <td>1.0</td>\n",
              "      <td>0.0</td>\n",
              "    </tr>\n",
              "    <tr>\n",
              "      <th>31571</th>\n",
              "      <td>1.0</td>\n",
              "      <td>1.0</td>\n",
              "    </tr>\n",
              "    <tr>\n",
              "      <th>19008</th>\n",
              "      <td>1.0</td>\n",
              "      <td>1.0</td>\n",
              "    </tr>\n",
              "  </tbody>\n",
              "</table>\n",
              "<p>17568 rows × 2 columns</p>\n",
              "</div>\n",
              "      <button class=\"colab-df-convert\" onclick=\"convertToInteractive('df-eac996ac-e562-4d44-850a-3e5cf12e2070')\"\n",
              "              title=\"Convert this dataframe to an interactive table.\"\n",
              "              style=\"display:none;\">\n",
              "        \n",
              "  <svg xmlns=\"http://www.w3.org/2000/svg\" height=\"24px\"viewBox=\"0 0 24 24\"\n",
              "       width=\"24px\">\n",
              "    <path d=\"M0 0h24v24H0V0z\" fill=\"none\"/>\n",
              "    <path d=\"M18.56 5.44l.94 2.06.94-2.06 2.06-.94-2.06-.94-.94-2.06-.94 2.06-2.06.94zm-11 1L8.5 8.5l.94-2.06 2.06-.94-2.06-.94L8.5 2.5l-.94 2.06-2.06.94zm10 10l.94 2.06.94-2.06 2.06-.94-2.06-.94-.94-2.06-.94 2.06-2.06.94z\"/><path d=\"M17.41 7.96l-1.37-1.37c-.4-.4-.92-.59-1.43-.59-.52 0-1.04.2-1.43.59L10.3 9.45l-7.72 7.72c-.78.78-.78 2.05 0 2.83L4 21.41c.39.39.9.59 1.41.59.51 0 1.02-.2 1.41-.59l7.78-7.78 2.81-2.81c.8-.78.8-2.07 0-2.86zM5.41 20L4 18.59l7.72-7.72 1.47 1.35L5.41 20z\"/>\n",
              "  </svg>\n",
              "      </button>\n",
              "      \n",
              "  <style>\n",
              "    .colab-df-container {\n",
              "      display:flex;\n",
              "      flex-wrap:wrap;\n",
              "      gap: 12px;\n",
              "    }\n",
              "\n",
              "    .colab-df-convert {\n",
              "      background-color: #E8F0FE;\n",
              "      border: none;\n",
              "      border-radius: 50%;\n",
              "      cursor: pointer;\n",
              "      display: none;\n",
              "      fill: #1967D2;\n",
              "      height: 32px;\n",
              "      padding: 0 0 0 0;\n",
              "      width: 32px;\n",
              "    }\n",
              "\n",
              "    .colab-df-convert:hover {\n",
              "      background-color: #E2EBFA;\n",
              "      box-shadow: 0px 1px 2px rgba(60, 64, 67, 0.3), 0px 1px 3px 1px rgba(60, 64, 67, 0.15);\n",
              "      fill: #174EA6;\n",
              "    }\n",
              "\n",
              "    [theme=dark] .colab-df-convert {\n",
              "      background-color: #3B4455;\n",
              "      fill: #D2E3FC;\n",
              "    }\n",
              "\n",
              "    [theme=dark] .colab-df-convert:hover {\n",
              "      background-color: #434B5C;\n",
              "      box-shadow: 0px 1px 3px 1px rgba(0, 0, 0, 0.15);\n",
              "      filter: drop-shadow(0px 1px 2px rgba(0, 0, 0, 0.3));\n",
              "      fill: #FFFFFF;\n",
              "    }\n",
              "  </style>\n",
              "\n",
              "      <script>\n",
              "        const buttonEl =\n",
              "          document.querySelector('#df-eac996ac-e562-4d44-850a-3e5cf12e2070 button.colab-df-convert');\n",
              "        buttonEl.style.display =\n",
              "          google.colab.kernel.accessAllowed ? 'block' : 'none';\n",
              "\n",
              "        async function convertToInteractive(key) {\n",
              "          const element = document.querySelector('#df-eac996ac-e562-4d44-850a-3e5cf12e2070');\n",
              "          const dataTable =\n",
              "            await google.colab.kernel.invokeFunction('convertToInteractive',\n",
              "                                                     [key], {});\n",
              "          if (!dataTable) return;\n",
              "\n",
              "          const docLinkHtml = 'Like what you see? Visit the ' +\n",
              "            '<a target=\"_blank\" href=https://colab.research.google.com/notebooks/data_table.ipynb>data table notebook</a>'\n",
              "            + ' to learn more about interactive tables.';\n",
              "          element.innerHTML = '';\n",
              "          dataTable['output_type'] = 'display_data';\n",
              "          await google.colab.output.renderOutput(dataTable, element);\n",
              "          const docLink = document.createElement('div');\n",
              "          docLink.innerHTML = docLinkHtml;\n",
              "          element.appendChild(docLink);\n",
              "        }\n",
              "      </script>\n",
              "    </div>\n",
              "  </div>\n",
              "  "
            ]
          },
          "metadata": {},
          "execution_count": 170
        }
      ]
    },
    {
      "cell_type": "code",
      "source": [
        "\n",
        "RF_TP2 = len(RF_preds[(RF_preds[\"Predicted\"]==RF_preds[\"Actual\"])&(RF_preds[\"Predicted\"]==1)])\n",
        "RF_FP2 = len(RF_preds[(RF_preds[\"Predicted\"]!=RF_preds[\"Actual\"])&(RF_preds[\"Predicted\"]==1)])\n",
        "RF_FN2 = len(RF_preds[(RF_preds[\"Predicted\"]!=RF_preds[\"Actual\"])&(RF_preds[\"Predicted\"]==0)])\n",
        "RF_TN2 = len(RF_preds[(RF_preds[\"Predicted\"]==RF_preds[\"Actual\"])&(RF_preds[\"Predicted\"]==0)])\n",
        "print(RF_TP2,RF_FP2,RF_FN2,RF_TN2)\n",
        "print(\"Rightly Classified: \",(RF_TP2+RF_TN2),\"/\",(RF_TP2+RF_FP2+RF_FN2+RF_TN2))\n",
        "print(\"Wrongly Classified: \",(RF_FP2+RF_FN2),\"/\",(RF_TP2+RF_FP2+RF_FN2+RF_TN2))\n",
        "RF_Accuracy2 = (RF_TP2+RF_TN2)/(RF_TP2+RF_FP2+RF_FN2+RF_TN2)\n",
        "RF_Precision2 = (RF_TP2)/(RF_TP2+RF_FP2)\n",
        "RF_Recall2 = (RF_TP2)/(RF_TP2+RF_FN2)\n",
        "RF_Specificity2 = (RF_TN2)/(RF_TN2+RF_FP2)\n",
        "RF_F12 = (2*RF_Precision2*RF_Recall2)/(RF_Precision2+RF_Recall2)"
      ],
      "metadata": {
        "colab": {
          "base_uri": "https://localhost:8080/"
        },
        "id": "RtQ77IMZWBeg",
        "outputId": "57d6e3a5-475f-4a29-ee05-d23872145650"
      },
      "execution_count": 171,
      "outputs": [
        {
          "output_type": "stream",
          "name": "stdout",
          "text": [
            "12875 3639 323 731\n",
            "Rightly Classified:  13606 / 17568\n",
            "Wrongly Classified:  3962 / 17568\n"
          ]
        }
      ]
    },
    {
      "cell_type": "code",
      "source": [
        "confusion_matrix = metrics.confusion_matrix(Y_test, RF_y_preds)\n",
        "cm_display = metrics.ConfusionMatrixDisplay(confusion_matrix = confusion_matrix, display_labels = [False, True])\n",
        "cm_display.plot()\n",
        "plt.show()"
      ],
      "metadata": {
        "colab": {
          "base_uri": "https://localhost:8080/",
          "height": 279
        },
        "id": "SnIrSMYkWMwr",
        "outputId": "c16f84ef-6a21-4468-bd1d-0d903bbce270"
      },
      "execution_count": 90,
      "outputs": [
        {
          "output_type": "display_data",
          "data": {
            "text/plain": [
              "<Figure size 432x288 with 2 Axes>"
            ],
            "image/png": "[encoded data removed]"
          },
          "metadata": {
            "needs_background": "light"
          }
        }
      ]
    },
    {
      "cell_type": "code",
      "source": [
        "print(classification_report(Y_test, RF_y_preds))"
      ],
      "metadata": {
        "colab": {
          "base_uri": "https://localhost:8080/"
        },
        "id": "76p5zeF6Wpf8",
        "outputId": "c924f663-edd8-41b2-c926-da39126f8521"
      },
      "execution_count": 92,
      "outputs": [
        {
          "output_type": "stream",
          "name": "stdout",
          "text": [
            "              precision    recall  f1-score   support\n",
            "\n",
            "         0.0       0.69      0.18      0.28      4370\n",
            "         1.0       0.78      0.97      0.87     13198\n",
            "\n",
            "    accuracy                           0.78     17568\n",
            "   macro avg       0.74      0.57      0.57     17568\n",
            "weighted avg       0.76      0.78      0.72     17568\n",
            "\n"
          ]
        }
      ]
    },
    {
      "cell_type": "markdown",
      "source": [
        "# Random Forest (Max 10 features in Bootstraping) "
      ],
      "metadata": {
        "id": "Vno8cKM7W5pR"
      }
    },
    {
      "cell_type": "code",
      "source": [
        "RF_model3 = RandomForestClassifier(max_depth=10)\n",
        "RF_model3.fit(X_train,Y_train)\n",
        "RF_y_preds = RF_model3.predict(X_test)\n",
        "RF_preds = pd.DataFrame({\"Predicted\":RF_y_preds,\"Actual\":Y_test})\n",
        "RF_preds"
      ],
      "metadata": {
        "colab": {
          "base_uri": "https://localhost:8080/",
          "height": 424
        },
        "id": "8KHBZ_dyW27z",
        "outputId": "3df839d8-adb8-468d-9d7c-f9db8a420d45"
      },
      "execution_count": 172,
      "outputs": [
        {
          "output_type": "execute_result",
          "data": {
            "text/plain": [
              "       Predicted  Actual\n",
              "21617        0.0     0.0\n",
              "34029        1.0     1.0\n",
              "34957        1.0     1.0\n",
              "24416        1.0     1.0\n",
              "17811        0.0     0.0\n",
              "...          ...     ...\n",
              "21055        0.0     1.0\n",
              "12308        1.0     1.0\n",
              "61307        1.0     0.0\n",
              "31571        1.0     1.0\n",
              "19008        1.0     1.0\n",
              "\n",
              "[17568 rows x 2 columns]"
            ],
            "text/html": [
              "\n",
              "  <div id=\"df-eeb2e649-c5e5-419c-9dc4-8deaedb27e27\">\n",
              "    <div class=\"colab-df-container\">\n",
              "      <div>\n",
              "<style scoped>\n",
              "    .dataframe tbody tr th:only-of-type {\n",
              "        vertical-align: middle;\n",
              "    }\n",
              "\n",
              "    .dataframe tbody tr th {\n",
              "        vertical-align: top;\n",
              "    }\n",
              "\n",
              "    .dataframe thead th {\n",
              "        text-align: right;\n",
              "    }\n",
              "</style>\n",
              "<table border=\"1\" class=\"dataframe\">\n",
              "  <thead>\n",
              "    <tr style=\"text-align: right;\">\n",
              "      <th></th>\n",
              "      <th>Predicted</th>\n",
              "      <th>Actual</th>\n",
              "    </tr>\n",
              "  </thead>\n",
              "  <tbody>\n",
              "    <tr>\n",
              "      <th>21617</th>\n",
              "      <td>0.0</td>\n",
              "      <td>0.0</td>\n",
              "    </tr>\n",
              "    <tr>\n",
              "      <th>34029</th>\n",
              "      <td>1.0</td>\n",
              "      <td>1.0</td>\n",
              "    </tr>\n",
              "    <tr>\n",
              "      <th>34957</th>\n",
              "      <td>1.0</td>\n",
              "      <td>1.0</td>\n",
              "    </tr>\n",
              "    <tr>\n",
              "      <th>24416</th>\n",
              "      <td>1.0</td>\n",
              "      <td>1.0</td>\n",
              "    </tr>\n",
              "    <tr>\n",
              "      <th>17811</th>\n",
              "      <td>0.0</td>\n",
              "      <td>0.0</td>\n",
              "    </tr>\n",
              "    <tr>\n",
              "      <th>...</th>\n",
              "      <td>...</td>\n",
              "      <td>...</td>\n",
              "    </tr>\n",
              "    <tr>\n",
              "      <th>21055</th>\n",
              "      <td>0.0</td>\n",
              "      <td>1.0</td>\n",
              "    </tr>\n",
              "    <tr>\n",
              "      <th>12308</th>\n",
              "      <td>1.0</td>\n",
              "      <td>1.0</td>\n",
              "    </tr>\n",
              "    <tr>\n",
              "      <th>61307</th>\n",
              "      <td>1.0</td>\n",
              "      <td>0.0</td>\n",
              "    </tr>\n",
              "    <tr>\n",
              "      <th>31571</th>\n",
              "      <td>1.0</td>\n",
              "      <td>1.0</td>\n",
              "    </tr>\n",
              "    <tr>\n",
              "      <th>19008</th>\n",
              "      <td>1.0</td>\n",
              "      <td>1.0</td>\n",
              "    </tr>\n",
              "  </tbody>\n",
              "</table>\n",
              "<p>17568 rows × 2 columns</p>\n",
              "</div>\n",
              "      <button class=\"colab-df-convert\" onclick=\"convertToInteractive('df-eeb2e649-c5e5-419c-9dc4-8deaedb27e27')\"\n",
              "              title=\"Convert this dataframe to an interactive table.\"\n",
              "              style=\"display:none;\">\n",
              "        \n",
              "  <svg xmlns=\"http://www.w3.org/2000/svg\" height=\"24px\"viewBox=\"0 0 24 24\"\n",
              "       width=\"24px\">\n",
              "    <path d=\"M0 0h24v24H0V0z\" fill=\"none\"/>\n",
              "    <path d=\"M18.56 5.44l.94 2.06.94-2.06 2.06-.94-2.06-.94-.94-2.06-.94 2.06-2.06.94zm-11 1L8.5 8.5l.94-2.06 2.06-.94-2.06-.94L8.5 2.5l-.94 2.06-2.06.94zm10 10l.94 2.06.94-2.06 2.06-.94-2.06-.94-.94-2.06-.94 2.06-2.06.94z\"/><path d=\"M17.41 7.96l-1.37-1.37c-.4-.4-.92-.59-1.43-.59-.52 0-1.04.2-1.43.59L10.3 9.45l-7.72 7.72c-.78.78-.78 2.05 0 2.83L4 21.41c.39.39.9.59 1.41.59.51 0 1.02-.2 1.41-.59l7.78-7.78 2.81-2.81c.8-.78.8-2.07 0-2.86zM5.41 20L4 18.59l7.72-7.72 1.47 1.35L5.41 20z\"/>\n",
              "  </svg>\n",
              "      </button>\n",
              "      \n",
              "  <style>\n",
              "    .colab-df-container {\n",
              "      display:flex;\n",
              "      flex-wrap:wrap;\n",
              "      gap: 12px;\n",
              "    }\n",
              "\n",
              "    .colab-df-convert {\n",
              "      background-color: #E8F0FE;\n",
              "      border: none;\n",
              "      border-radius: 50%;\n",
              "      cursor: pointer;\n",
              "      display: none;\n",
              "      fill: #1967D2;\n",
              "      height: 32px;\n",
              "      padding: 0 0 0 0;\n",
              "      width: 32px;\n",
              "    }\n",
              "\n",
              "    .colab-df-convert:hover {\n",
              "      background-color: #E2EBFA;\n",
              "      box-shadow: 0px 1px 2px rgba(60, 64, 67, 0.3), 0px 1px 3px 1px rgba(60, 64, 67, 0.15);\n",
              "      fill: #174EA6;\n",
              "    }\n",
              "\n",
              "    [theme=dark] .colab-df-convert {\n",
              "      background-color: #3B4455;\n",
              "      fill: #D2E3FC;\n",
              "    }\n",
              "\n",
              "    [theme=dark] .colab-df-convert:hover {\n",
              "      background-color: #434B5C;\n",
              "      box-shadow: 0px 1px 3px 1px rgba(0, 0, 0, 0.15);\n",
              "      filter: drop-shadow(0px 1px 2px rgba(0, 0, 0, 0.3));\n",
              "      fill: #FFFFFF;\n",
              "    }\n",
              "  </style>\n",
              "\n",
              "      <script>\n",
              "        const buttonEl =\n",
              "          document.querySelector('#df-eeb2e649-c5e5-419c-9dc4-8deaedb27e27 button.colab-df-convert');\n",
              "        buttonEl.style.display =\n",
              "          google.colab.kernel.accessAllowed ? 'block' : 'none';\n",
              "\n",
              "        async function convertToInteractive(key) {\n",
              "          const element = document.querySelector('#df-eeb2e649-c5e5-419c-9dc4-8deaedb27e27');\n",
              "          const dataTable =\n",
              "            await google.colab.kernel.invokeFunction('convertToInteractive',\n",
              "                                                     [key], {});\n",
              "          if (!dataTable) return;\n",
              "\n",
              "          const docLinkHtml = 'Like what you see? Visit the ' +\n",
              "            '<a target=\"_blank\" href=https://colab.research.google.com/notebooks/data_table.ipynb>data table notebook</a>'\n",
              "            + ' to learn more about interactive tables.';\n",
              "          element.innerHTML = '';\n",
              "          dataTable['output_type'] = 'display_data';\n",
              "          await google.colab.output.renderOutput(dataTable, element);\n",
              "          const docLink = document.createElement('div');\n",
              "          docLink.innerHTML = docLinkHtml;\n",
              "          element.appendChild(docLink);\n",
              "        }\n",
              "      </script>\n",
              "    </div>\n",
              "  </div>\n",
              "  "
            ]
          },
          "metadata": {},
          "execution_count": 172
        }
      ]
    },
    {
      "cell_type": "code",
      "source": [
        "RF_TP3 = len(RF_preds[(RF_preds[\"Predicted\"]==RF_preds[\"Actual\"])&(RF_preds[\"Predicted\"]==1)])\n",
        "RF_FP3 = len(RF_preds[(RF_preds[\"Predicted\"]!=RF_preds[\"Actual\"])&(RF_preds[\"Predicted\"]==1)])\n",
        "RF_FN3 = len(RF_preds[(RF_preds[\"Predicted\"]!=RF_preds[\"Actual\"])&(RF_preds[\"Predicted\"]==0)])\n",
        "RF_TN3 = len(RF_preds[(RF_preds[\"Predicted\"]==RF_preds[\"Actual\"])&(RF_preds[\"Predicted\"]==0)])\n",
        "print(RF_TP3,RF_FP3,RF_FN3,RF_TN3)\n",
        "print(\"Rightly Classified: \",(RF_TP3+RF_TN3),\"/\",(RF_TP3+RF_FP3+RF_FN3+RF_TN3))\n",
        "print(\"Wrongly Classified: \",(RF_FP3+RF_FN3),\"/\",(RF_TP3+RF_FP3+RF_FN3+RF_TN3))\n",
        "\n",
        "RF_Accuracy3 = (RF_TP3+RF_TN3)/(RF_TP3+RF_FP3+RF_FN3+RF_TN3)\n",
        "RF_Precision3 = (RF_TP3)/(RF_TP3+RF_FP3)\n",
        "RF_Recall3 = (RF_TP3)/(RF_TP3+RF_FN3)\n",
        "RF_Specificity3 = (RF_TN3)/(RF_TN3+RF_FP3)\n",
        "RF_F13 = (2*RF_Precision3*RF_Recall3)/(RF_Precision3+RF_Recall3)"
      ],
      "metadata": {
        "colab": {
          "base_uri": "https://localhost:8080/"
        },
        "id": "r7Oz3BT5Y3h6",
        "outputId": "4efc80c2-bb84-4877-adfe-31a742f47ef9"
      },
      "execution_count": 173,
      "outputs": [
        {
          "output_type": "stream",
          "name": "stdout",
          "text": [
            "12804 3155 394 1215\n",
            "Rightly Classified:  14019 / 17568\n",
            "Wrongly Classified:  3549 / 17568\n"
          ]
        }
      ]
    },
    {
      "cell_type": "code",
      "source": [
        "confusion_matrix = metrics.confusion_matrix(Y_test, RF_y_preds)\n",
        "cm_display = metrics.ConfusionMatrixDisplay(confusion_matrix = confusion_matrix, display_labels = [False, True])\n",
        "cm_display.plot()\n",
        "plt.show()"
      ],
      "metadata": {
        "colab": {
          "base_uri": "https://localhost:8080/",
          "height": 279
        },
        "id": "rreqTsXbY_QC",
        "outputId": "8749616e-5317-447f-b587-f1d1ae6b2d21"
      },
      "execution_count": 100,
      "outputs": [
        {
          "output_type": "display_data",
          "data": {
            "text/plain": [
              "<Figure size 432x288 with 2 Axes>"
            ],
            "image/png": "[encoded data removed]"
          },
          "metadata": {
            "needs_background": "light"
          }
        }
      ]
    },
    {
      "cell_type": "code",
      "source": [
        "print(classification_report(Y_test, RF_y_preds))"
      ],
      "metadata": {
        "colab": {
          "base_uri": "https://localhost:8080/"
        },
        "id": "eVrMfStEZGqN",
        "outputId": "980a271e-c91e-4306-e9d8-4f0d5d6a62b1"
      },
      "execution_count": 102,
      "outputs": [
        {
          "output_type": "stream",
          "name": "stdout",
          "text": [
            "              precision    recall  f1-score   support\n",
            "\n",
            "         0.0       0.75      0.28      0.40      4370\n",
            "         1.0       0.80      0.97      0.88     13198\n",
            "\n",
            "    accuracy                           0.80     17568\n",
            "   macro avg       0.78      0.62      0.64     17568\n",
            "weighted avg       0.79      0.80      0.76     17568\n",
            "\n"
          ]
        }
      ]
    },
    {
      "cell_type": "markdown",
      "source": [
        "######SVM (Support Vector Machine)"
      ],
      "metadata": {
        "id": "h6I6uHUHasXv"
      }
    },
    {
      "cell_type": "code",
      "source": [
        "from sklearn import svm\n",
        "SVM_model = svm.SVC()\n",
        "SVM_model.fit(X_train,Y_train)\n",
        "SVM_y_preds = SVM_model.predict(X_test)\n",
        "SVM_preds = pd.DataFrame({\"Predicted\":SVM_y_preds,\"Actual\":Y_test})\n",
        "SVM_preds"
      ],
      "metadata": {
        "colab": {
          "base_uri": "https://localhost:8080/",
          "height": 424
        },
        "id": "Qk8FgnclZLdL",
        "outputId": "c6264ec3-8c5f-4727-97a2-f7242f4591ab"
      },
      "execution_count": 115,
      "outputs": [
        {
          "output_type": "execute_result",
          "data": {
            "text/plain": [
              "       Predicted  Actual\n",
              "21617        1.0     0.0\n",
              "34029        1.0     1.0\n",
              "34957        1.0     1.0\n",
              "24416        1.0     1.0\n",
              "17811        1.0     0.0\n",
              "...          ...     ...\n",
              "21055        1.0     1.0\n",
              "12308        1.0     1.0\n",
              "61307        1.0     0.0\n",
              "31571        1.0     1.0\n",
              "19008        1.0     1.0\n",
              "\n",
              "[17568 rows x 2 columns]"
            ],
            "text/html": [
              "\n",
              "  <div id=\"df-d2cd149b-a4ec-4f5f-8e03-02b892952434\">\n",
              "    <div class=\"colab-df-container\">\n",
              "      <div>\n",
              "<style scoped>\n",
              "    .dataframe tbody tr th:only-of-type {\n",
              "        vertical-align: middle;\n",
              "    }\n",
              "\n",
              "    .dataframe tbody tr th {\n",
              "        vertical-align: top;\n",
              "    }\n",
              "\n",
              "    .dataframe thead th {\n",
              "        text-align: right;\n",
              "    }\n",
              "</style>\n",
              "<table border=\"1\" class=\"dataframe\">\n",
              "  <thead>\n",
              "    <tr style=\"text-align: right;\">\n",
              "      <th></th>\n",
              "      <th>Predicted</th>\n",
              "      <th>Actual</th>\n",
              "    </tr>\n",
              "  </thead>\n",
              "  <tbody>\n",
              "    <tr>\n",
              "      <th>21617</th>\n",
              "      <td>1.0</td>\n",
              "      <td>0.0</td>\n",
              "    </tr>\n",
              "    <tr>\n",
              "      <th>34029</th>\n",
              "      <td>1.0</td>\n",
              "      <td>1.0</td>\n",
              "    </tr>\n",
              "    <tr>\n",
              "      <th>34957</th>\n",
              "      <td>1.0</td>\n",
              "      <td>1.0</td>\n",
              "    </tr>\n",
              "    <tr>\n",
              "      <th>24416</th>\n",
              "      <td>1.0</td>\n",
              "      <td>1.0</td>\n",
              "    </tr>\n",
              "    <tr>\n",
              "      <th>17811</th>\n",
              "      <td>1.0</td>\n",
              "      <td>0.0</td>\n",
              "    </tr>\n",
              "    <tr>\n",
              "      <th>...</th>\n",
              "      <td>...</td>\n",
              "      <td>...</td>\n",
              "    </tr>\n",
              "    <tr>\n",
              "      <th>21055</th>\n",
              "      <td>1.0</td>\n",
              "      <td>1.0</td>\n",
              "    </tr>\n",
              "    <tr>\n",
              "      <th>12308</th>\n",
              "      <td>1.0</td>\n",
              "      <td>1.0</td>\n",
              "    </tr>\n",
              "    <tr>\n",
              "      <th>61307</th>\n",
              "      <td>1.0</td>\n",
              "      <td>0.0</td>\n",
              "    </tr>\n",
              "    <tr>\n",
              "      <th>31571</th>\n",
              "      <td>1.0</td>\n",
              "      <td>1.0</td>\n",
              "    </tr>\n",
              "    <tr>\n",
              "      <th>19008</th>\n",
              "      <td>1.0</td>\n",
              "      <td>1.0</td>\n",
              "    </tr>\n",
              "  </tbody>\n",
              "</table>\n",
              "<p>17568 rows × 2 columns</p>\n",
              "</div>\n",
              "      <button class=\"colab-df-convert\" onclick=\"convertToInteractive('df-d2cd149b-a4ec-4f5f-8e03-02b892952434')\"\n",
              "              title=\"Convert this dataframe to an interactive table.\"\n",
              "              style=\"display:none;\">\n",
              "        \n",
              "  <svg xmlns=\"http://www.w3.org/2000/svg\" height=\"24px\"viewBox=\"0 0 24 24\"\n",
              "       width=\"24px\">\n",
              "    <path d=\"M0 0h24v24H0V0z\" fill=\"none\"/>\n",
              "    <path d=\"M18.56 5.44l.94 2.06.94-2.06 2.06-.94-2.06-.94-.94-2.06-.94 2.06-2.06.94zm-11 1L8.5 8.5l.94-2.06 2.06-.94-2.06-.94L8.5 2.5l-.94 2.06-2.06.94zm10 10l.94 2.06.94-2.06 2.06-.94-2.06-.94-.94-2.06-.94 2.06-2.06.94z\"/><path d=\"M17.41 7.96l-1.37-1.37c-.4-.4-.92-.59-1.43-.59-.52 0-1.04.2-1.43.59L10.3 9.45l-7.72 7.72c-.78.78-.78 2.05 0 2.83L4 21.41c.39.39.9.59 1.41.59.51 0 1.02-.2 1.41-.59l7.78-7.78 2.81-2.81c.8-.78.8-2.07 0-2.86zM5.41 20L4 18.59l7.72-7.72 1.47 1.35L5.41 20z\"/>\n",
              "  </svg>\n",
              "      </button>\n",
              "      \n",
              "  <style>\n",
              "    .colab-df-container {\n",
              "      display:flex;\n",
              "      flex-wrap:wrap;\n",
              "      gap: 12px;\n",
              "    }\n",
              "\n",
              "    .colab-df-convert {\n",
              "      background-color: #E8F0FE;\n",
              "      border: none;\n",
              "      border-radius: 50%;\n",
              "      cursor: pointer;\n",
              "      display: none;\n",
              "      fill: #1967D2;\n",
              "      height: 32px;\n",
              "      padding: 0 0 0 0;\n",
              "      width: 32px;\n",
              "    }\n",
              "\n",
              "    .colab-df-convert:hover {\n",
              "      background-color: #E2EBFA;\n",
              "      box-shadow: 0px 1px 2px rgba(60, 64, 67, 0.3), 0px 1px 3px 1px rgba(60, 64, 67, 0.15);\n",
              "      fill: #174EA6;\n",
              "    }\n",
              "\n",
              "    [theme=dark] .colab-df-convert {\n",
              "      background-color: #3B4455;\n",
              "      fill: #D2E3FC;\n",
              "    }\n",
              "\n",
              "    [theme=dark] .colab-df-convert:hover {\n",
              "      background-color: #434B5C;\n",
              "      box-shadow: 0px 1px 3px 1px rgba(0, 0, 0, 0.15);\n",
              "      filter: drop-shadow(0px 1px 2px rgba(0, 0, 0, 0.3));\n",
              "      fill: #FFFFFF;\n",
              "    }\n",
              "  </style>\n",
              "\n",
              "      <script>\n",
              "        const buttonEl =\n",
              "          document.querySelector('#df-d2cd149b-a4ec-4f5f-8e03-02b892952434 button.colab-df-convert');\n",
              "        buttonEl.style.display =\n",
              "          google.colab.kernel.accessAllowed ? 'block' : 'none';\n",
              "\n",
              "        async function convertToInteractive(key) {\n",
              "          const element = document.querySelector('#df-d2cd149b-a4ec-4f5f-8e03-02b892952434');\n",
              "          const dataTable =\n",
              "            await google.colab.kernel.invokeFunction('convertToInteractive',\n",
              "                                                     [key], {});\n",
              "          if (!dataTable) return;\n",
              "\n",
              "          const docLinkHtml = 'Like what you see? Visit the ' +\n",
              "            '<a target=\"_blank\" href=https://colab.research.google.com/notebooks/data_table.ipynb>data table notebook</a>'\n",
              "            + ' to learn more about interactive tables.';\n",
              "          element.innerHTML = '';\n",
              "          dataTable['output_type'] = 'display_data';\n",
              "          await google.colab.output.renderOutput(dataTable, element);\n",
              "          const docLink = document.createElement('div');\n",
              "          docLink.innerHTML = docLinkHtml;\n",
              "          element.appendChild(docLink);\n",
              "        }\n",
              "      </script>\n",
              "    </div>\n",
              "  </div>\n",
              "  "
            ]
          },
          "metadata": {},
          "execution_count": 115
        }
      ]
    },
    {
      "cell_type": "code",
      "source": [
        "SVM_TP = len(SVM_preds[(SVM_preds[\"Predicted\"]==SVM_preds[\"Actual\"])&(SVM_preds[\"Predicted\"]==1)])\n",
        "SVM_FP = len(SVM_preds[(SVM_preds[\"Predicted\"]!=SVM_preds[\"Actual\"])&(SVM_preds[\"Predicted\"]==1)])\n",
        "SVM_FN = len(SVM_preds[(SVM_preds[\"Predicted\"]!=SVM_preds[\"Actual\"])&(SVM_preds[\"Predicted\"]==0)])\n",
        "SVM_TN = len(SVM_preds[(SVM_preds[\"Predicted\"]==SVM_preds[\"Actual\"])&(SVM_preds[\"Predicted\"]==0)])\n",
        "print(SVM_TP,SVM_FP,SVM_FN,SVM_TN)\n",
        "print(\"Rightly Classified: \",(SVM_TP+SVM_TN),\"/\",(SVM_TP+SVM_FP+SVM_FN+SVM_TN))\n",
        "print(\"Wrongly Classified: \",(SVM_FP+SVM_FN),\"/\",(SVM_TP+SVM_FP+SVM_FN+SVM_TN))\n",
        "\n",
        "SVM_Accuracy = (SVM_TP+SVM_TN)/(SVM_TP+SVM_FP+SVM_FN+SVM_TN)\n",
        "SVM_Precision = (SVM_TP)/(SVM_TP+SVM_FP)\n",
        "SVM_Recall = (SVM_TP)/(SVM_TP+SVM_FN)\n",
        "SVM_Specificity = (SVM_TN)/(SVM_TN+SVM_FP)\n",
        "SVM_F1 = (2*SVM_Precision*SVM_Recall)/(SVM_Precision+SVM_Recall)"
      ],
      "metadata": {
        "colab": {
          "base_uri": "https://localhost:8080/"
        },
        "id": "8MaTPeGxa7kJ",
        "outputId": "6b6fdaf6-26bb-43e8-fec4-a995ce7e7d30"
      },
      "execution_count": 116,
      "outputs": [
        {
          "output_type": "stream",
          "name": "stdout",
          "text": [
            "13198 4370 0 0\n",
            "Rightly Classified:  13198 / 17568\n",
            "Wrongly Classified:  4370 / 17568\n"
          ]
        }
      ]
    },
    {
      "cell_type": "code",
      "source": [
        "confusion_matrix = metrics.confusion_matrix(Y_test, SVM_y_preds)\n",
        "cm_display = metrics.ConfusionMatrixDisplay(confusion_matrix = confusion_matrix, display_labels = [False, True])\n",
        "cm_display.plot()\n",
        "plt.show()"
      ],
      "metadata": {
        "colab": {
          "base_uri": "https://localhost:8080/",
          "height": 279
        },
        "id": "9-HvDoh6bAY5",
        "outputId": "a8d27562-b273-4009-f680-3e60a23422e4"
      },
      "execution_count": 117,
      "outputs": [
        {
          "output_type": "display_data",
          "data": {
            "text/plain": [
              "<Figure size 432x288 with 2 Axes>"
            ],
            "image/png": "[encoded data removed]"
          },
          "metadata": {
            "needs_background": "light"
          }
        }
      ]
    },
    {
      "cell_type": "code",
      "source": [
        "print(classification_report(Y_test, SVM_y_preds))"
      ],
      "metadata": {
        "colab": {
          "base_uri": "https://localhost:8080/"
        },
        "id": "UE3lSPuvbXqP",
        "outputId": "045b6658-77da-4a04-c777-51ae44fe5b8d"
      },
      "execution_count": 118,
      "outputs": [
        {
          "output_type": "stream",
          "name": "stdout",
          "text": [
            "              precision    recall  f1-score   support\n",
            "\n",
            "         0.0       0.00      0.00      0.00      4370\n",
            "         1.0       0.75      1.00      0.86     13198\n",
            "\n",
            "    accuracy                           0.75     17568\n",
            "   macro avg       0.38      0.50      0.43     17568\n",
            "weighted avg       0.56      0.75      0.64     17568\n",
            "\n"
          ]
        },
        {
          "output_type": "stream",
          "name": "stderr",
          "text": [
            "/usr/local/lib/python3.8/dist-packages/sklearn/metrics/_classification.py:1318: UndefinedMetricWarning: Precision and F-score are ill-defined and being set to 0.0 in labels with no predicted samples. Use `zero_division` parameter to control this behavior.\n",
            "  _warn_prf(average, modifier, msg_start, len(result))\n",
            "/usr/local/lib/python3.8/dist-packages/sklearn/metrics/_classification.py:1318: UndefinedMetricWarning: Precision and F-score are ill-defined and being set to 0.0 in labels with no predicted samples. Use `zero_division` parameter to control this behavior.\n",
            "  _warn_prf(average, modifier, msg_start, len(result))\n",
            "/usr/local/lib/python3.8/dist-packages/sklearn/metrics/_classification.py:1318: UndefinedMetricWarning: Precision and F-score are ill-defined and being set to 0.0 in labels with no predicted samples. Use `zero_division` parameter to control this behavior.\n",
            "  _warn_prf(average, modifier, msg_start, len(result))\n"
          ]
        }
      ]
    },
    {
      "cell_type": "markdown",
      "source": [
        "###LGBM_model"
      ],
      "metadata": {
        "id": "MYensia6eH6T"
      }
    },
    {
      "cell_type": "code",
      "source": [
        "from lightgbm import *\n",
        "LGBM_model = LGBMClassifier()\n",
        "LGBM_model.fit(X_train, Y_train)\n",
        "LGBM_y_preds = LGBM_model.predict(X_test)\n",
        "LGBM_preds = pd.DataFrame({\"Predicted\":LGBM_y_preds,\"Actual\":Y_test})\n",
        "LGBM_preds"
      ],
      "metadata": {
        "colab": {
          "base_uri": "https://localhost:8080/",
          "height": 424
        },
        "id": "LyXspGkdeC-Q",
        "outputId": "5b37d09f-ea2f-4879-f6be-3d3fd2924254"
      },
      "execution_count": 120,
      "outputs": [
        {
          "output_type": "execute_result",
          "data": {
            "text/plain": [
              "       Predicted  Actual\n",
              "21617        0.0     0.0\n",
              "34029        1.0     1.0\n",
              "34957        1.0     1.0\n",
              "24416        1.0     1.0\n",
              "17811        0.0     0.0\n",
              "...          ...     ...\n",
              "21055        0.0     1.0\n",
              "12308        1.0     1.0\n",
              "61307        1.0     0.0\n",
              "31571        1.0     1.0\n",
              "19008        1.0     1.0\n",
              "\n",
              "[17568 rows x 2 columns]"
            ],
            "text/html": [
              "\n",
              "  <div id=\"df-dcbc02e4-813a-4f0e-9f0a-288bf4284222\">\n",
              "    <div class=\"colab-df-container\">\n",
              "      <div>\n",
              "<style scoped>\n",
              "    .dataframe tbody tr th:only-of-type {\n",
              "        vertical-align: middle;\n",
              "    }\n",
              "\n",
              "    .dataframe tbody tr th {\n",
              "        vertical-align: top;\n",
              "    }\n",
              "\n",
              "    .dataframe thead th {\n",
              "        text-align: right;\n",
              "    }\n",
              "</style>\n",
              "<table border=\"1\" class=\"dataframe\">\n",
              "  <thead>\n",
              "    <tr style=\"text-align: right;\">\n",
              "      <th></th>\n",
              "      <th>Predicted</th>\n",
              "      <th>Actual</th>\n",
              "    </tr>\n",
              "  </thead>\n",
              "  <tbody>\n",
              "    <tr>\n",
              "      <th>21617</th>\n",
              "      <td>0.0</td>\n",
              "      <td>0.0</td>\n",
              "    </tr>\n",
              "    <tr>\n",
              "      <th>34029</th>\n",
              "      <td>1.0</td>\n",
              "      <td>1.0</td>\n",
              "    </tr>\n",
              "    <tr>\n",
              "      <th>34957</th>\n",
              "      <td>1.0</td>\n",
              "      <td>1.0</td>\n",
              "    </tr>\n",
              "    <tr>\n",
              "      <th>24416</th>\n",
              "      <td>1.0</td>\n",
              "      <td>1.0</td>\n",
              "    </tr>\n",
              "    <tr>\n",
              "      <th>17811</th>\n",
              "      <td>0.0</td>\n",
              "      <td>0.0</td>\n",
              "    </tr>\n",
              "    <tr>\n",
              "      <th>...</th>\n",
              "      <td>...</td>\n",
              "      <td>...</td>\n",
              "    </tr>\n",
              "    <tr>\n",
              "      <th>21055</th>\n",
              "      <td>0.0</td>\n",
              "      <td>1.0</td>\n",
              "    </tr>\n",
              "    <tr>\n",
              "      <th>12308</th>\n",
              "      <td>1.0</td>\n",
              "      <td>1.0</td>\n",
              "    </tr>\n",
              "    <tr>\n",
              "      <th>61307</th>\n",
              "      <td>1.0</td>\n",
              "      <td>0.0</td>\n",
              "    </tr>\n",
              "    <tr>\n",
              "      <th>31571</th>\n",
              "      <td>1.0</td>\n",
              "      <td>1.0</td>\n",
              "    </tr>\n",
              "    <tr>\n",
              "      <th>19008</th>\n",
              "      <td>1.0</td>\n",
              "      <td>1.0</td>\n",
              "    </tr>\n",
              "  </tbody>\n",
              "</table>\n",
              "<p>17568 rows × 2 columns</p>\n",
              "</div>\n",
              "      <button class=\"colab-df-convert\" onclick=\"convertToInteractive('df-dcbc02e4-813a-4f0e-9f0a-288bf4284222')\"\n",
              "              title=\"Convert this dataframe to an interactive table.\"\n",
              "              style=\"display:none;\">\n",
              "        \n",
              "  <svg xmlns=\"http://www.w3.org/2000/svg\" height=\"24px\"viewBox=\"0 0 24 24\"\n",
              "       width=\"24px\">\n",
              "    <path d=\"M0 0h24v24H0V0z\" fill=\"none\"/>\n",
              "    <path d=\"M18.56 5.44l.94 2.06.94-2.06 2.06-.94-2.06-.94-.94-2.06-.94 2.06-2.06.94zm-11 1L8.5 8.5l.94-2.06 2.06-.94-2.06-.94L8.5 2.5l-.94 2.06-2.06.94zm10 10l.94 2.06.94-2.06 2.06-.94-2.06-.94-.94-2.06-.94 2.06-2.06.94z\"/><path d=\"M17.41 7.96l-1.37-1.37c-.4-.4-.92-.59-1.43-.59-.52 0-1.04.2-1.43.59L10.3 9.45l-7.72 7.72c-.78.78-.78 2.05 0 2.83L4 21.41c.39.39.9.59 1.41.59.51 0 1.02-.2 1.41-.59l7.78-7.78 2.81-2.81c.8-.78.8-2.07 0-2.86zM5.41 20L4 18.59l7.72-7.72 1.47 1.35L5.41 20z\"/>\n",
              "  </svg>\n",
              "      </button>\n",
              "      \n",
              "  <style>\n",
              "    .colab-df-container {\n",
              "      display:flex;\n",
              "      flex-wrap:wrap;\n",
              "      gap: 12px;\n",
              "    }\n",
              "\n",
              "    .colab-df-convert {\n",
              "      background-color: #E8F0FE;\n",
              "      border: none;\n",
              "      border-radius: 50%;\n",
              "      cursor: pointer;\n",
              "      display: none;\n",
              "      fill: #1967D2;\n",
              "      height: 32px;\n",
              "      padding: 0 0 0 0;\n",
              "      width: 32px;\n",
              "    }\n",
              "\n",
              "    .colab-df-convert:hover {\n",
              "      background-color: #E2EBFA;\n",
              "      box-shadow: 0px 1px 2px rgba(60, 64, 67, 0.3), 0px 1px 3px 1px rgba(60, 64, 67, 0.15);\n",
              "      fill: #174EA6;\n",
              "    }\n",
              "\n",
              "    [theme=dark] .colab-df-convert {\n",
              "      background-color: #3B4455;\n",
              "      fill: #D2E3FC;\n",
              "    }\n",
              "\n",
              "    [theme=dark] .colab-df-convert:hover {\n",
              "      background-color: #434B5C;\n",
              "      box-shadow: 0px 1px 3px 1px rgba(0, 0, 0, 0.15);\n",
              "      filter: drop-shadow(0px 1px 2px rgba(0, 0, 0, 0.3));\n",
              "      fill: #FFFFFF;\n",
              "    }\n",
              "  </style>\n",
              "\n",
              "      <script>\n",
              "        const buttonEl =\n",
              "          document.querySelector('#df-dcbc02e4-813a-4f0e-9f0a-288bf4284222 button.colab-df-convert');\n",
              "        buttonEl.style.display =\n",
              "          google.colab.kernel.accessAllowed ? 'block' : 'none';\n",
              "\n",
              "        async function convertToInteractive(key) {\n",
              "          const element = document.querySelector('#df-dcbc02e4-813a-4f0e-9f0a-288bf4284222');\n",
              "          const dataTable =\n",
              "            await google.colab.kernel.invokeFunction('convertToInteractive',\n",
              "                                                     [key], {});\n",
              "          if (!dataTable) return;\n",
              "\n",
              "          const docLinkHtml = 'Like what you see? Visit the ' +\n",
              "            '<a target=\"_blank\" href=https://colab.research.google.com/notebooks/data_table.ipynb>data table notebook</a>'\n",
              "            + ' to learn more about interactive tables.';\n",
              "          element.innerHTML = '';\n",
              "          dataTable['output_type'] = 'display_data';\n",
              "          await google.colab.output.renderOutput(dataTable, element);\n",
              "          const docLink = document.createElement('div');\n",
              "          docLink.innerHTML = docLinkHtml;\n",
              "          element.appendChild(docLink);\n",
              "        }\n",
              "      </script>\n",
              "    </div>\n",
              "  </div>\n",
              "  "
            ]
          },
          "metadata": {},
          "execution_count": 120
        }
      ]
    },
    {
      "cell_type": "code",
      "source": [
        "LGBM_TP = len(LGBM_preds[(LGBM_preds[\"Predicted\"]==LGBM_preds[\"Actual\"])&(LGBM_preds[\"Predicted\"]==1)])\n",
        "LGBM_FP = len(LGBM_preds[(LGBM_preds[\"Predicted\"]!=LGBM_preds[\"Actual\"])&(LGBM_preds[\"Predicted\"]==1)])\n",
        "LGBM_FN = len(LGBM_preds[(LGBM_preds[\"Predicted\"]!=LGBM_preds[\"Actual\"])&(LGBM_preds[\"Predicted\"]==0)])\n",
        "LGBM_TN = len(LGBM_preds[(LGBM_preds[\"Predicted\"]==LGBM_preds[\"Actual\"])&(LGBM_preds[\"Predicted\"]==0)])\n",
        "print(LGBM_TP,LGBM_FP,LGBM_FN,LGBM_TN)\n",
        "print(\"Rightly Classified: \",(LGBM_TP+LGBM_TN),\"/\",(LGBM_TP+LGBM_FP+LGBM_FN+LGBM_TN))\n",
        "print(\"Wrongly Classified: \",(LGBM_FP+LGBM_FN),\"/\",(LGBM_TP+LGBM_FP+LGBM_FN+LGBM_TN))\n",
        "\n",
        "LGBM_Accuracy = (LGBM_TP+LGBM_TN)/(LGBM_TP+LGBM_TN+LGBM_FP+LGBM_FN)\n",
        "LGBM_Precision = (LGBM_TP)/(LGBM_TP+LGBM_FP)\n",
        "LGBM_Recall = (LGBM_TP)/(LGBM_TP+LGBM_FN)\n",
        "LGBM_Specificity = (LGBM_TN)/(LGBM_TN+LGBM_FP)\n",
        "LGBM_F1 = (2*LGBM_Precision*LGBM_Recall)/(LGBM_Precision+LGBM_Recall)"
      ],
      "metadata": {
        "colab": {
          "base_uri": "https://localhost:8080/"
        },
        "id": "DtobZ04_eM-5",
        "outputId": "083cd025-3241-4e8a-bf46-7d44f599c39a"
      },
      "execution_count": 121,
      "outputs": [
        {
          "output_type": "stream",
          "name": "stdout",
          "text": [
            "12496 2766 695 1604\n",
            "Rightly Classified:  14100 / 17561\n",
            "Wrongly Classified:  3461 / 17561\n"
          ]
        }
      ]
    },
    {
      "cell_type": "code",
      "source": [
        "confusion_matrix = metrics.confusion_matrix(Y_test, LGBM_y_preds)\n",
        "cm_display = metrics.ConfusionMatrixDisplay(confusion_matrix = confusion_matrix, display_labels = [False, True])\n",
        "cm_display.plot()\n",
        "plt.show()"
      ],
      "metadata": {
        "colab": {
          "base_uri": "https://localhost:8080/",
          "height": 279
        },
        "id": "JhICfv6peWPh",
        "outputId": "c370350d-377c-4c10-fd70-4706a9fa2937"
      },
      "execution_count": 124,
      "outputs": [
        {
          "output_type": "display_data",
          "data": {
            "text/plain": [
              "<Figure size 432x288 with 2 Axes>"
            ],
            "image/png": "[encoded data removed]"
          },
          "metadata": {
            "needs_background": "light"
          }
        }
      ]
    },
    {
      "cell_type": "code",
      "source": [
        "print(classification_report(Y_test, LGBM_y_preds))"
      ],
      "metadata": {
        "colab": {
          "base_uri": "https://localhost:8080/"
        },
        "id": "5lRAW7JCeRiJ",
        "outputId": "ce3980ff-8270-4a8a-9796-dba1efb21d27"
      },
      "execution_count": 123,
      "outputs": [
        {
          "output_type": "stream",
          "name": "stdout",
          "text": [
            "              precision    recall  f1-score   support\n",
            "\n",
            "         0.0       0.70      0.37      0.48      4370\n",
            "         1.0       0.82      0.95      0.88     13198\n",
            "         6.0       0.00      0.00      0.00         0\n",
            "\n",
            "    accuracy                           0.80     17568\n",
            "   macro avg       0.51      0.44      0.45     17568\n",
            "weighted avg       0.79      0.80      0.78     17568\n",
            "\n"
          ]
        },
        {
          "output_type": "stream",
          "name": "stderr",
          "text": [
            "/usr/local/lib/python3.8/dist-packages/sklearn/metrics/_classification.py:1318: UndefinedMetricWarning: Recall and F-score are ill-defined and being set to 0.0 in labels with no true samples. Use `zero_division` parameter to control this behavior.\n",
            "  _warn_prf(average, modifier, msg_start, len(result))\n",
            "/usr/local/lib/python3.8/dist-packages/sklearn/metrics/_classification.py:1318: UndefinedMetricWarning: Recall and F-score are ill-defined and being set to 0.0 in labels with no true samples. Use `zero_division` parameter to control this behavior.\n",
            "  _warn_prf(average, modifier, msg_start, len(result))\n",
            "/usr/local/lib/python3.8/dist-packages/sklearn/metrics/_classification.py:1318: UndefinedMetricWarning: Recall and F-score are ill-defined and being set to 0.0 in labels with no true samples. Use `zero_division` parameter to control this behavior.\n",
            "  _warn_prf(average, modifier, msg_start, len(result))\n"
          ]
        }
      ]
    },
    {
      "cell_type": "markdown",
      "source": [
        " ###xgboost"
      ],
      "metadata": {
        "id": "HQAQp3uXe7lk"
      }
    },
    {
      "cell_type": "code",
      "source": [
        "import xgboost as xgb\n",
        "\n",
        "XGB_model = xgb.XGBClassifier()\n",
        "XGB_model.fit(X_train, Y_train)\n",
        "XGB_y_preds =XGB_model.predict(X_test)\n",
        "XGB_preds = pd.DataFrame({\"Predicted\":XGB_y_preds,\"Actual\":Y_test})\n",
        "XGB_preds"
      ],
      "metadata": {
        "colab": {
          "base_uri": "https://localhost:8080/",
          "height": 424
        },
        "id": "Ryn4yDL0ep6z",
        "outputId": "68c03fa9-0c18-4b33-8a45-804870b2cef0"
      },
      "execution_count": 127,
      "outputs": [
        {
          "output_type": "execute_result",
          "data": {
            "text/plain": [
              "       Predicted  Actual\n",
              "21617        1.0     0.0\n",
              "34029        1.0     1.0\n",
              "34957        1.0     1.0\n",
              "24416        1.0     1.0\n",
              "17811        0.0     0.0\n",
              "...          ...     ...\n",
              "21055        0.0     1.0\n",
              "12308        1.0     1.0\n",
              "61307        1.0     0.0\n",
              "31571        1.0     1.0\n",
              "19008        1.0     1.0\n",
              "\n",
              "[17568 rows x 2 columns]"
            ],
            "text/html": [
              "\n",
              "  <div id=\"df-be5048cd-feea-4493-8632-d06f2db43d4a\">\n",
              "    <div class=\"colab-df-container\">\n",
              "      <div>\n",
              "<style scoped>\n",
              "    .dataframe tbody tr th:only-of-type {\n",
              "        vertical-align: middle;\n",
              "    }\n",
              "\n",
              "    .dataframe tbody tr th {\n",
              "        vertical-align: top;\n",
              "    }\n",
              "\n",
              "    .dataframe thead th {\n",
              "        text-align: right;\n",
              "    }\n",
              "</style>\n",
              "<table border=\"1\" class=\"dataframe\">\n",
              "  <thead>\n",
              "    <tr style=\"text-align: right;\">\n",
              "      <th></th>\n",
              "      <th>Predicted</th>\n",
              "      <th>Actual</th>\n",
              "    </tr>\n",
              "  </thead>\n",
              "  <tbody>\n",
              "    <tr>\n",
              "      <th>21617</th>\n",
              "      <td>1.0</td>\n",
              "      <td>0.0</td>\n",
              "    </tr>\n",
              "    <tr>\n",
              "      <th>34029</th>\n",
              "      <td>1.0</td>\n",
              "      <td>1.0</td>\n",
              "    </tr>\n",
              "    <tr>\n",
              "      <th>34957</th>\n",
              "      <td>1.0</td>\n",
              "      <td>1.0</td>\n",
              "    </tr>\n",
              "    <tr>\n",
              "      <th>24416</th>\n",
              "      <td>1.0</td>\n",
              "      <td>1.0</td>\n",
              "    </tr>\n",
              "    <tr>\n",
              "      <th>17811</th>\n",
              "      <td>0.0</td>\n",
              "      <td>0.0</td>\n",
              "    </tr>\n",
              "    <tr>\n",
              "      <th>...</th>\n",
              "      <td>...</td>\n",
              "      <td>...</td>\n",
              "    </tr>\n",
              "    <tr>\n",
              "      <th>21055</th>\n",
              "      <td>0.0</td>\n",
              "      <td>1.0</td>\n",
              "    </tr>\n",
              "    <tr>\n",
              "      <th>12308</th>\n",
              "      <td>1.0</td>\n",
              "      <td>1.0</td>\n",
              "    </tr>\n",
              "    <tr>\n",
              "      <th>61307</th>\n",
              "      <td>1.0</td>\n",
              "      <td>0.0</td>\n",
              "    </tr>\n",
              "    <tr>\n",
              "      <th>31571</th>\n",
              "      <td>1.0</td>\n",
              "      <td>1.0</td>\n",
              "    </tr>\n",
              "    <tr>\n",
              "      <th>19008</th>\n",
              "      <td>1.0</td>\n",
              "      <td>1.0</td>\n",
              "    </tr>\n",
              "  </tbody>\n",
              "</table>\n",
              "<p>17568 rows × 2 columns</p>\n",
              "</div>\n",
              "      <button class=\"colab-df-convert\" onclick=\"convertToInteractive('df-be5048cd-feea-4493-8632-d06f2db43d4a')\"\n",
              "              title=\"Convert this dataframe to an interactive table.\"\n",
              "              style=\"display:none;\">\n",
              "        \n",
              "  <svg xmlns=\"http://www.w3.org/2000/svg\" height=\"24px\"viewBox=\"0 0 24 24\"\n",
              "       width=\"24px\">\n",
              "    <path d=\"M0 0h24v24H0V0z\" fill=\"none\"/>\n",
              "    <path d=\"M18.56 5.44l.94 2.06.94-2.06 2.06-.94-2.06-.94-.94-2.06-.94 2.06-2.06.94zm-11 1L8.5 8.5l.94-2.06 2.06-.94-2.06-.94L8.5 2.5l-.94 2.06-2.06.94zm10 10l.94 2.06.94-2.06 2.06-.94-2.06-.94-.94-2.06-.94 2.06-2.06.94z\"/><path d=\"M17.41 7.96l-1.37-1.37c-.4-.4-.92-.59-1.43-.59-.52 0-1.04.2-1.43.59L10.3 9.45l-7.72 7.72c-.78.78-.78 2.05 0 2.83L4 21.41c.39.39.9.59 1.41.59.51 0 1.02-.2 1.41-.59l7.78-7.78 2.81-2.81c.8-.78.8-2.07 0-2.86zM5.41 20L4 18.59l7.72-7.72 1.47 1.35L5.41 20z\"/>\n",
              "  </svg>\n",
              "      </button>\n",
              "      \n",
              "  <style>\n",
              "    .colab-df-container {\n",
              "      display:flex;\n",
              "      flex-wrap:wrap;\n",
              "      gap: 12px;\n",
              "    }\n",
              "\n",
              "    .colab-df-convert {\n",
              "      background-color: #E8F0FE;\n",
              "      border: none;\n",
              "      border-radius: 50%;\n",
              "      cursor: pointer;\n",
              "      display: none;\n",
              "      fill: #1967D2;\n",
              "      height: 32px;\n",
              "      padding: 0 0 0 0;\n",
              "      width: 32px;\n",
              "    }\n",
              "\n",
              "    .colab-df-convert:hover {\n",
              "      background-color: #E2EBFA;\n",
              "      box-shadow: 0px 1px 2px rgba(60, 64, 67, 0.3), 0px 1px 3px 1px rgba(60, 64, 67, 0.15);\n",
              "      fill: #174EA6;\n",
              "    }\n",
              "\n",
              "    [theme=dark] .colab-df-convert {\n",
              "      background-color: #3B4455;\n",
              "      fill: #D2E3FC;\n",
              "    }\n",
              "\n",
              "    [theme=dark] .colab-df-convert:hover {\n",
              "      background-color: #434B5C;\n",
              "      box-shadow: 0px 1px 3px 1px rgba(0, 0, 0, 0.15);\n",
              "      filter: drop-shadow(0px 1px 2px rgba(0, 0, 0, 0.3));\n",
              "      fill: #FFFFFF;\n",
              "    }\n",
              "  </style>\n",
              "\n",
              "      <script>\n",
              "        const buttonEl =\n",
              "          document.querySelector('#df-be5048cd-feea-4493-8632-d06f2db43d4a button.colab-df-convert');\n",
              "        buttonEl.style.display =\n",
              "          google.colab.kernel.accessAllowed ? 'block' : 'none';\n",
              "\n",
              "        async function convertToInteractive(key) {\n",
              "          const element = document.querySelector('#df-be5048cd-feea-4493-8632-d06f2db43d4a');\n",
              "          const dataTable =\n",
              "            await google.colab.kernel.invokeFunction('convertToInteractive',\n",
              "                                                     [key], {});\n",
              "          if (!dataTable) return;\n",
              "\n",
              "          const docLinkHtml = 'Like what you see? Visit the ' +\n",
              "            '<a target=\"_blank\" href=https://colab.research.google.com/notebooks/data_table.ipynb>data table notebook</a>'\n",
              "            + ' to learn more about interactive tables.';\n",
              "          element.innerHTML = '';\n",
              "          dataTable['output_type'] = 'display_data';\n",
              "          await google.colab.output.renderOutput(dataTable, element);\n",
              "          const docLink = document.createElement('div');\n",
              "          docLink.innerHTML = docLinkHtml;\n",
              "          element.appendChild(docLink);\n",
              "        }\n",
              "      </script>\n",
              "    </div>\n",
              "  </div>\n",
              "  "
            ]
          },
          "metadata": {},
          "execution_count": 127
        }
      ]
    },
    {
      "cell_type": "code",
      "source": [
        "XGB_TP = len(XGB_preds[(XGB_preds[\"Predicted\"]==XGB_preds[\"Actual\"])&(XGB_preds[\"Predicted\"]==1)])\n",
        "XGB_FP = len(XGB_preds[(XGB_preds[\"Predicted\"]!=XGB_preds[\"Actual\"])&(XGB_preds[\"Predicted\"]==1)])\n",
        "XGB_FN = len(XGB_preds[(XGB_preds[\"Predicted\"]!=XGB_preds[\"Actual\"])&(XGB_preds[\"Predicted\"]==0)])\n",
        "XGB_TN = len(XGB_preds[(XGB_preds[\"Predicted\"]==XGB_preds[\"Actual\"])&(XGB_preds[\"Predicted\"]==0)])\n",
        "print(XGB_TP,XGB_FP,XGB_FN,XGB_TN)\n",
        "print(\"Rightly Classified: \",(XGB_TP+XGB_TN),\"/\",(XGB_TP+XGB_FP+XGB_FN+XGB_TN))\n",
        "print(\"Wrongly Classified: \",(XGB_FP+XGB_FN),\"/\",(XGB_TP+XGB_FP+XGB_FN+XGB_TN))\n",
        "\n",
        "XGB_Accuracy = (XGB_TP+XGB_TN)/(XGB_TP+XGB_TN+XGB_FP+XGB_FN)\n",
        "XGB_Precision = (XGB_TP)/(XGB_TP+XGB_FP)\n",
        "XGB_Recall = (XGB_TP)/(XGB_TP+XGB_FN)\n",
        "XGB_Specificity = (XGB_TN)/(XGB_TN+XGB_FP)\n",
        "XGB_F1 = (2*XGB_Precision*XGB_Recall)/(XGB_Precision+XGB_Recall)"
      ],
      "metadata": {
        "colab": {
          "base_uri": "https://localhost:8080/"
        },
        "id": "TzaIporoeunz",
        "outputId": "dfe05e82-eeb7-4cd6-85e8-36b9679d6893"
      },
      "execution_count": 128,
      "outputs": [
        {
          "output_type": "stream",
          "name": "stdout",
          "text": [
            "12688 3310 510 1060\n",
            "Rightly Classified:  13748 / 17568\n",
            "Wrongly Classified:  3820 / 17568\n"
          ]
        }
      ]
    },
    {
      "cell_type": "code",
      "source": [
        "confusion_matrix = metrics.confusion_matrix(Y_test, XGB_y_preds)\n",
        "cm_display = metrics.ConfusionMatrixDisplay(confusion_matrix = confusion_matrix, display_labels = [False, True])\n",
        "cm_display.plot()\n",
        "plt.show()"
      ],
      "metadata": {
        "colab": {
          "base_uri": "https://localhost:8080/",
          "height": 279
        },
        "id": "bLuFzgK8fAyR",
        "outputId": "4a209250-11da-4c3e-f5a7-b9242a0a04d9"
      },
      "execution_count": 129,
      "outputs": [
        {
          "output_type": "display_data",
          "data": {
            "text/plain": [
              "<Figure size 432x288 with 2 Axes>"
            ],
            "image/png": "[encoded data removed]"
          },
          "metadata": {
            "needs_background": "light"
          }
        }
      ]
    },
    {
      "cell_type": "code",
      "source": [
        "print(classification_report(Y_test, XGB_y_preds))"
      ],
      "metadata": {
        "colab": {
          "base_uri": "https://localhost:8080/"
        },
        "id": "FYUeAeU6fIrj",
        "outputId": "09d1e596-ea30-4a37-8c3e-ed40d24b64f4"
      },
      "execution_count": 130,
      "outputs": [
        {
          "output_type": "stream",
          "name": "stdout",
          "text": [
            "              precision    recall  f1-score   support\n",
            "\n",
            "         0.0       0.68      0.24      0.36      4370\n",
            "         1.0       0.79      0.96      0.87     13198\n",
            "\n",
            "    accuracy                           0.78     17568\n",
            "   macro avg       0.73      0.60      0.61     17568\n",
            "weighted avg       0.76      0.78      0.74     17568\n",
            "\n"
          ]
        }
      ]
    },
    {
      "cell_type": "code",
      "source": [
        "comparison = pd.DataFrame({\"ML Classification Algo\":[\"Decision_Tree\",\"LGBM Classifier\",\"XGBoosting\",\"Logistic Regression\",\"Random Forest (Max 5 features in Bootstraping)\",\"Random Forest (Max 10 features in Bootstraping)\",\"Gaussian Naive Bayes\",\"KNN (k=10)\",\"KNN (k=50)\",\"SVM (Support Vector Machine)\"],\n",
        " \"Rightly_Classified\":[(Decision_TP+Decision_TN)/(Decision_TP+Decision_FP+Decision_FN+Decision_TN),(LGBM_TP+LGBM_TN)/(LGBM_TP+LGBM_FP+LGBM_FN+LGBM_TN),(XGB_TP+XGB_TN)/(XGB_TP+XGB_FP+XGB_FN+XGB_TN),(Log_TP+Log_TN)/(Log_TP+Log_FP+Log_FN+Log_TN),(RF_TP2+RF_TN2)/(RF_TP2+RF_FP2+RF_FN2+RF_TN2),(RF_TP3+RF_TN3)/(RF_TP3+RF_FP3+RF_FN3+RF_TN3),(nav_TP+nav_TN)/(nav_TP+nav_FP+nav_FN+nav_TN),(KNN_TP1+KNN_TN1)/(KNN_TP1+KNN_FP1+KNN_FN1+KNN_TN1),(KNN_TP2+KNN_TN2)/(KNN_TP2+KNN_FP2+KNN_FN2+KNN_TN2),(SVM_TP+SVM_TN)/(SVM_TP+SVM_FP+SVM_FN+SVM_TN)],\n",
        " \"Wrongly_Classified\":[(Decision_FP+Decision_FN)/(Decision_TP+Decision_FP+Decision_FN+Decision_TN),(LGBM_FP+LGBM_FN)/(LGBM_TP+LGBM_FP+LGBM_FN+LGBM_TN),(XGB_FP+XGB_FN)/(XGB_TP+XGB_FP+XGB_FN+XGB_TN),(Log_FP+Log_FN)/(Log_TP+Log_FP+Log_FN+Log_TN),(RF_FP2+RF_FN2)/(RF_TP2+RF_FP2+RF_FN2+RF_TN2),(RF_FP3+RF_FN3)/(RF_TP3+RF_FP3+RF_FN3+RF_TN3),(nav_FP+nav_FN)/(nav_TP+nav_FP+nav_FN+nav_TN),(KNN_FP1+KNN_FN1)/(KNN_TP1+KNN_FP1+KNN_FN1+KNN_TN1),(KNN_FP2+KNN_FN2)/(KNN_TP2+KNN_FP2+KNN_FN2+KNN_TN2),(SVM_FP+SVM_FN)/(SVM_TP+SVM_FP+SVM_FN+SVM_TN)],\n",
        " \"Accuracy\":[Decision_Accuracy,LGBM_Accuracy,XGB_Accuracy,Log_Accuracy,RF_Accuracy2,RF_Accuracy3,NAV_Accuracy ,KNN_Accuracy1,KNN_Accuracy2,SVM_Accuracy],\n",
        "  \"Precision\":[Decision_Precision,LGBM_Precision,XGB_Precision,Log_Precision,RF_Precision2,RF_Precision3,NAV_Precision,KNN_Precision1,KNN_Precision2,SVM_Precision],\n",
        "  \"Recall\":[Decision_Recall,LGBM_Recall,XGB_Recall,Log_Recall,RF_Recall2,RF_Recall3,NAV_Recall,KNN_Recall1,KNN_Recall2,SVM_Recall],\n",
        "  \"Specificity\":[Decision_Specificity,LGBM_Specificity,XGB_Specificity,Log_Specificity,RF_Specificity2,RF_Specificity3,NAV_Specificity,KNN_Specificity1,KNN_Specificity2,SVM_Specificity],\n",
        "  \"F1-Score\":[Decision_F1,LGBM_F1,XGB_F1,Log_F1,RF_F12,RF_F13,NAV_F1,KNN_F11,KNN_F12,SVM_F1]})\n",
        "comparison.sort_values(by=\"Accuracy\",ascending=False).style.background_gradient(cmap='rocket')\n"
      ],
      "metadata": {
        "colab": {
          "base_uri": "https://localhost:8080/",
          "height": 363
        },
        "id": "aVSO8ZMjfOBh",
        "outputId": "8efdd68a-979c-4076-e5b4-d734d3a9bc57"
      },
      "execution_count": 174,
      "outputs": [
        {
          "output_type": "execute_result",
          "data": {
            "text/plain": [
              "<pandas.io.formats.style.Styler at 0x7fe251634370>"
            ],
            "text/html": [
              "<style type=\"text/css\">\n",
              "#T_81a7e_row0_col1, #T_81a7e_row0_col3, #T_81a7e_row0_col7, #T_81a7e_row1_col7, #T_81a7e_row2_col4, #T_81a7e_row2_col6, #T_81a7e_row7_col5, #T_81a7e_row8_col5, #T_81a7e_row9_col2 {\n",
              "  background-color: #faebdd;\n",
              "  color: #000000;\n",
              "}\n",
              "#T_81a7e_row0_col2, #T_81a7e_row2_col5, #T_81a7e_row7_col4, #T_81a7e_row7_col6, #T_81a7e_row8_col4, #T_81a7e_row8_col6, #T_81a7e_row9_col1, #T_81a7e_row9_col3, #T_81a7e_row9_col7 {\n",
              "  background-color: #03051a;\n",
              "  color: #f1f1f1;\n",
              "}\n",
              "#T_81a7e_row0_col4 {\n",
              "  background-color: #e83f3f;\n",
              "  color: #f1f1f1;\n",
              "}\n",
              "#T_81a7e_row0_col5 {\n",
              "  background-color: #e9423e;\n",
              "  color: #f1f1f1;\n",
              "}\n",
              "#T_81a7e_row0_col6 {\n",
              "  background-color: #ec4a3e;\n",
              "  color: #f1f1f1;\n",
              "}\n",
              "#T_81a7e_row1_col1, #T_81a7e_row1_col3 {\n",
              "  background-color: #f8d3ba;\n",
              "  color: #000000;\n",
              "}\n",
              "#T_81a7e_row1_col2 {\n",
              "  background-color: #180f29;\n",
              "  color: #f1f1f1;\n",
              "}\n",
              "#T_81a7e_row1_col4 {\n",
              "  background-color: #b91657;\n",
              "  color: #f1f1f1;\n",
              "}\n",
              "#T_81a7e_row1_col5 {\n",
              "  background-color: #f5946b;\n",
              "  color: #000000;\n",
              "}\n",
              "#T_81a7e_row1_col6 {\n",
              "  background-color: #bf1654;\n",
              "  color: #f1f1f1;\n",
              "}\n",
              "#T_81a7e_row2_col1, #T_81a7e_row2_col3 {\n",
              "  background-color: #f7ccaf;\n",
              "  color: #000000;\n",
              "}\n",
              "#T_81a7e_row2_col2 {\n",
              "  background-color: #20122e;\n",
              "  color: #f1f1f1;\n",
              "}\n",
              "#T_81a7e_row2_col7 {\n",
              "  background-color: #f16445;\n",
              "  color: #f1f1f1;\n",
              "}\n",
              "#T_81a7e_row3_col1, #T_81a7e_row3_col3 {\n",
              "  background-color: #f47f58;\n",
              "  color: #f1f1f1;\n",
              "}\n",
              "#T_81a7e_row3_col2 {\n",
              "  background-color: #681f55;\n",
              "  color: #f1f1f1;\n",
              "}\n",
              "#T_81a7e_row3_col4, #T_81a7e_row4_col2 {\n",
              "  background-color: #951c5b;\n",
              "  color: #f1f1f1;\n",
              "}\n",
              "#T_81a7e_row3_col5 {\n",
              "  background-color: #f37651;\n",
              "  color: #f1f1f1;\n",
              "}\n",
              "#T_81a7e_row3_col6 {\n",
              "  background-color: #a6195a;\n",
              "  color: #f1f1f1;\n",
              "}\n",
              "#T_81a7e_row3_col7 {\n",
              "  background-color: #f5966c;\n",
              "  color: #000000;\n",
              "}\n",
              "#T_81a7e_row4_col1, #T_81a7e_row4_col3 {\n",
              "  background-color: #ec4c3e;\n",
              "  color: #f1f1f1;\n",
              "}\n",
              "#T_81a7e_row4_col4 {\n",
              "  background-color: #611f53;\n",
              "  color: #f1f1f1;\n",
              "}\n",
              "#T_81a7e_row4_col5 {\n",
              "  background-color: #f6a47c;\n",
              "  color: #000000;\n",
              "}\n",
              "#T_81a7e_row4_col6 {\n",
              "  background-color: #6e1f57;\n",
              "  color: #f1f1f1;\n",
              "}\n",
              "#T_81a7e_row4_col7 {\n",
              "  background-color: #f47c55;\n",
              "  color: #f1f1f1;\n",
              "}\n",
              "#T_81a7e_row5_col1, #T_81a7e_row5_col3 {\n",
              "  background-color: #981b5b;\n",
              "  color: #f1f1f1;\n",
              "}\n",
              "#T_81a7e_row5_col2 {\n",
              "  background-color: #eb483e;\n",
              "  color: #f1f1f1;\n",
              "}\n",
              "#T_81a7e_row5_col4 {\n",
              "  background-color: #a4195b;\n",
              "  color: #f1f1f1;\n",
              "}\n",
              "#T_81a7e_row5_col5 {\n",
              "  background-color: #751f58;\n",
              "  color: #f1f1f1;\n",
              "}\n",
              "#T_81a7e_row5_col6, #T_81a7e_row7_col7, #T_81a7e_row8_col7 {\n",
              "  background-color: #d11f4c;\n",
              "  color: #f1f1f1;\n",
              "}\n",
              "#T_81a7e_row5_col7 {\n",
              "  background-color: #6b1f56;\n",
              "  color: #f1f1f1;\n",
              "}\n",
              "#T_81a7e_row6_col1, #T_81a7e_row6_col3 {\n",
              "  background-color: #861e5b;\n",
              "  color: #f1f1f1;\n",
              "}\n",
              "#T_81a7e_row6_col2 {\n",
              "  background-color: #f05e42;\n",
              "  color: #f1f1f1;\n",
              "}\n",
              "#T_81a7e_row6_col4 {\n",
              "  background-color: #08081e;\n",
              "  color: #f1f1f1;\n",
              "}\n",
              "#T_81a7e_row6_col5 {\n",
              "  background-color: #f9e0cd;\n",
              "  color: #000000;\n",
              "}\n",
              "#T_81a7e_row6_col6 {\n",
              "  background-color: #0b0920;\n",
              "  color: #f1f1f1;\n",
              "}\n",
              "#T_81a7e_row6_col7 {\n",
              "  background-color: #d2204c;\n",
              "  color: #f1f1f1;\n",
              "}\n",
              "#T_81a7e_row7_col1, #T_81a7e_row7_col3, #T_81a7e_row8_col1, #T_81a7e_row8_col3 {\n",
              "  background-color: #7f1e5a;\n",
              "  color: #f1f1f1;\n",
              "}\n",
              "#T_81a7e_row7_col2, #T_81a7e_row8_col2 {\n",
              "  background-color: #f16646;\n",
              "  color: #f1f1f1;\n",
              "}\n",
              "#T_81a7e_row9_col4 {\n",
              "  background-color: #211330;\n",
              "  color: #f1f1f1;\n",
              "}\n",
              "#T_81a7e_row9_col5 {\n",
              "  background-color: #bc1656;\n",
              "  color: #f1f1f1;\n",
              "}\n",
              "#T_81a7e_row9_col6 {\n",
              "  background-color: #4e1d4b;\n",
              "  color: #f1f1f1;\n",
              "}\n",
              "</style>\n",
              "<table id=\"T_81a7e_\" class=\"dataframe\">\n",
              "  <thead>\n",
              "    <tr>\n",
              "      <th class=\"blank level0\" >&nbsp;</th>\n",
              "      <th class=\"col_heading level0 col0\" >ML Classification Algo</th>\n",
              "      <th class=\"col_heading level0 col1\" >Rightly_Classified</th>\n",
              "      <th class=\"col_heading level0 col2\" >Wrongly_Classified</th>\n",
              "      <th class=\"col_heading level0 col3\" >Accuracy</th>\n",
              "      <th class=\"col_heading level0 col4\" >Precision</th>\n",
              "      <th class=\"col_heading level0 col5\" >Recall</th>\n",
              "      <th class=\"col_heading level0 col6\" >Specificity</th>\n",
              "      <th class=\"col_heading level0 col7\" >F1-Score</th>\n",
              "    </tr>\n",
              "  </thead>\n",
              "  <tbody>\n",
              "    <tr>\n",
              "      <th id=\"T_81a7e_level0_row0\" class=\"row_heading level0 row0\" >1</th>\n",
              "      <td id=\"T_81a7e_row0_col0\" class=\"data row0 col0\" >LGBM Classifier</td>\n",
              "      <td id=\"T_81a7e_row0_col1\" class=\"data row0 col1\" >0.802916</td>\n",
              "      <td id=\"T_81a7e_row0_col2\" class=\"data row0 col2\" >0.197084</td>\n",
              "      <td id=\"T_81a7e_row0_col3\" class=\"data row0 col3\" >0.802916</td>\n",
              "      <td id=\"T_81a7e_row0_col4\" class=\"data row0 col4\" >0.818766</td>\n",
              "      <td id=\"T_81a7e_row0_col5\" class=\"data row0 col5\" >0.947313</td>\n",
              "      <td id=\"T_81a7e_row0_col6\" class=\"data row0 col6\" >0.367048</td>\n",
              "      <td id=\"T_81a7e_row0_col7\" class=\"data row0 col7\" >0.878361</td>\n",
              "    </tr>\n",
              "    <tr>\n",
              "      <th id=\"T_81a7e_level0_row1\" class=\"row_heading level0 row1\" >5</th>\n",
              "      <td id=\"T_81a7e_row1_col0\" class=\"data row1 col0\" >Random Forest (Max 10 features in Bootstraping)</td>\n",
              "      <td id=\"T_81a7e_row1_col1\" class=\"data row1 col1\" >0.797985</td>\n",
              "      <td id=\"T_81a7e_row1_col2\" class=\"data row1 col2\" >0.202015</td>\n",
              "      <td id=\"T_81a7e_row1_col3\" class=\"data row1 col3\" >0.797985</td>\n",
              "      <td id=\"T_81a7e_row1_col4\" class=\"data row1 col4\" >0.802306</td>\n",
              "      <td id=\"T_81a7e_row1_col5\" class=\"data row1 col5\" >0.970147</td>\n",
              "      <td id=\"T_81a7e_row1_col6\" class=\"data row1 col6\" >0.278032</td>\n",
              "      <td id=\"T_81a7e_row1_col7\" class=\"data row1 col7\" >0.878280</td>\n",
              "    </tr>\n",
              "    <tr>\n",
              "      <th id=\"T_81a7e_level0_row2\" class=\"row_heading level0 row2\" >0</th>\n",
              "      <td id=\"T_81a7e_row2_col0\" class=\"data row2 col0\" >Decision_Tree</td>\n",
              "      <td id=\"T_81a7e_row2_col1\" class=\"data row2 col1\" >0.796380</td>\n",
              "      <td id=\"T_81a7e_row2_col2\" class=\"data row2 col2\" >0.203620</td>\n",
              "      <td id=\"T_81a7e_row2_col3\" class=\"data row2 col3\" >0.796380</td>\n",
              "      <td id=\"T_81a7e_row2_col4\" class=\"data row2 col4\" >0.863898</td>\n",
              "      <td id=\"T_81a7e_row2_col5\" class=\"data row2 col5\" >0.865272</td>\n",
              "      <td id=\"T_81a7e_row2_col6\" class=\"data row2 col6\" >0.588330</td>\n",
              "      <td id=\"T_81a7e_row2_col7\" class=\"data row2 col7\" >0.864585</td>\n",
              "    </tr>\n",
              "    <tr>\n",
              "      <th id=\"T_81a7e_level0_row3\" class=\"row_heading level0 row3\" >2</th>\n",
              "      <td id=\"T_81a7e_row3_col0\" class=\"data row3 col0\" >XGBoosting</td>\n",
              "      <td id=\"T_81a7e_row3_col1\" class=\"data row3 col1\" >0.782559</td>\n",
              "      <td id=\"T_81a7e_row3_col2\" class=\"data row3 col2\" >0.217441</td>\n",
              "      <td id=\"T_81a7e_row3_col3\" class=\"data row3 col3\" >0.782559</td>\n",
              "      <td id=\"T_81a7e_row3_col4\" class=\"data row3 col4\" >0.793099</td>\n",
              "      <td id=\"T_81a7e_row3_col5\" class=\"data row3 col5\" >0.961358</td>\n",
              "      <td id=\"T_81a7e_row3_col6\" class=\"data row3 col6\" >0.242563</td>\n",
              "      <td id=\"T_81a7e_row3_col7\" class=\"data row3 col7\" >0.869160</td>\n",
              "    </tr>\n",
              "    <tr>\n",
              "      <th id=\"T_81a7e_level0_row4\" class=\"row_heading level0 row4\" >4</th>\n",
              "      <td id=\"T_81a7e_row4_col0\" class=\"data row4 col0\" >Random Forest (Max 5 features in Bootstraping)</td>\n",
              "      <td id=\"T_81a7e_row4_col1\" class=\"data row4 col1\" >0.774476</td>\n",
              "      <td id=\"T_81a7e_row4_col2\" class=\"data row4 col2\" >0.225524</td>\n",
              "      <td id=\"T_81a7e_row4_col3\" class=\"data row4 col3\" >0.774476</td>\n",
              "      <td id=\"T_81a7e_row4_col4\" class=\"data row4 col4\" >0.779642</td>\n",
              "      <td id=\"T_81a7e_row4_col5\" class=\"data row4 col5\" >0.975527</td>\n",
              "      <td id=\"T_81a7e_row4_col6\" class=\"data row4 col6\" >0.167277</td>\n",
              "      <td id=\"T_81a7e_row4_col7\" class=\"data row4 col7\" >0.866653</td>\n",
              "    </tr>\n",
              "    <tr>\n",
              "      <th id=\"T_81a7e_level0_row5\" class=\"row_heading level0 row5\" >6</th>\n",
              "      <td id=\"T_81a7e_row5_col0\" class=\"data row5 col0\" >Gaussian Naive Bayes</td>\n",
              "      <td id=\"T_81a7e_row5_col1\" class=\"data row5 col1\" >0.755692</td>\n",
              "      <td id=\"T_81a7e_row5_col2\" class=\"data row5 col2\" >0.244308</td>\n",
              "      <td id=\"T_81a7e_row5_col3\" class=\"data row5 col3\" >0.755692</td>\n",
              "      <td id=\"T_81a7e_row5_col4\" class=\"data row5 col4\" >0.797065</td>\n",
              "      <td id=\"T_81a7e_row5_col5\" class=\"data row5 col5\" >0.905289</td>\n",
              "      <td id=\"T_81a7e_row5_col6\" class=\"data row5 col6\" >0.303890</td>\n",
              "      <td id=\"T_81a7e_row5_col7\" class=\"data row5 col7\" >0.847737</td>\n",
              "    </tr>\n",
              "    <tr>\n",
              "      <th id=\"T_81a7e_level0_row6\" class=\"row_heading level0 row6\" >8</th>\n",
              "      <td id=\"T_81a7e_row6_col0\" class=\"data row6 col0\" >KNN (k=50)</td>\n",
              "      <td id=\"T_81a7e_row6_col1\" class=\"data row6 col1\" >0.752561</td>\n",
              "      <td id=\"T_81a7e_row6_col2\" class=\"data row6 col2\" >0.247439</td>\n",
              "      <td id=\"T_81a7e_row6_col3\" class=\"data row6 col3\" >0.752561</td>\n",
              "      <td id=\"T_81a7e_row6_col4\" class=\"data row6 col4\" >0.753712</td>\n",
              "      <td id=\"T_81a7e_row6_col5\" class=\"data row6 col5\" >0.996136</td>\n",
              "      <td id=\"T_81a7e_row6_col6\" class=\"data row6 col6\" >0.016934</td>\n",
              "      <td id=\"T_81a7e_row6_col7\" class=\"data row6 col7\" >0.858131</td>\n",
              "    </tr>\n",
              "    <tr>\n",
              "      <th id=\"T_81a7e_level0_row7\" class=\"row_heading level0 row7\" >3</th>\n",
              "      <td id=\"T_81a7e_row7_col0\" class=\"data row7 col0\" >Logistic Regression</td>\n",
              "      <td id=\"T_81a7e_row7_col1\" class=\"data row7 col1\" >0.751252</td>\n",
              "      <td id=\"T_81a7e_row7_col2\" class=\"data row7 col2\" >0.248748</td>\n",
              "      <td id=\"T_81a7e_row7_col3\" class=\"data row7 col3\" >0.751252</td>\n",
              "      <td id=\"T_81a7e_row7_col4\" class=\"data row7 col4\" >0.751252</td>\n",
              "      <td id=\"T_81a7e_row7_col5\" class=\"data row7 col5\" >1.000000</td>\n",
              "      <td id=\"T_81a7e_row7_col6\" class=\"data row7 col6\" >0.000000</td>\n",
              "      <td id=\"T_81a7e_row7_col7\" class=\"data row7 col7\" >0.857960</td>\n",
              "    </tr>\n",
              "    <tr>\n",
              "      <th id=\"T_81a7e_level0_row8\" class=\"row_heading level0 row8\" >9</th>\n",
              "      <td id=\"T_81a7e_row8_col0\" class=\"data row8 col0\" >SVM (Support Vector Machine)</td>\n",
              "      <td id=\"T_81a7e_row8_col1\" class=\"data row8 col1\" >0.751252</td>\n",
              "      <td id=\"T_81a7e_row8_col2\" class=\"data row8 col2\" >0.248748</td>\n",
              "      <td id=\"T_81a7e_row8_col3\" class=\"data row8 col3\" >0.751252</td>\n",
              "      <td id=\"T_81a7e_row8_col4\" class=\"data row8 col4\" >0.751252</td>\n",
              "      <td id=\"T_81a7e_row8_col5\" class=\"data row8 col5\" >1.000000</td>\n",
              "      <td id=\"T_81a7e_row8_col6\" class=\"data row8 col6\" >0.000000</td>\n",
              "      <td id=\"T_81a7e_row8_col7\" class=\"data row8 col7\" >0.857960</td>\n",
              "    </tr>\n",
              "    <tr>\n",
              "      <th id=\"T_81a7e_level0_row9\" class=\"row_heading level0 row9\" >7</th>\n",
              "      <td id=\"T_81a7e_row9_col0\" class=\"data row9 col0\" >KNN (k=10)</td>\n",
              "      <td id=\"T_81a7e_row9_col1\" class=\"data row9 col1\" >0.726776</td>\n",
              "      <td id=\"T_81a7e_row9_col2\" class=\"data row9 col2\" >0.273224</td>\n",
              "      <td id=\"T_81a7e_row9_col3\" class=\"data row9 col3\" >0.726776</td>\n",
              "      <td id=\"T_81a7e_row9_col4\" class=\"data row9 col4\" >0.761099</td>\n",
              "      <td id=\"T_81a7e_row9_col5\" class=\"data row9 col5\" >0.927413</td>\n",
              "      <td id=\"T_81a7e_row9_col6\" class=\"data row9 col6\" >0.120824</td>\n",
              "      <td id=\"T_81a7e_row9_col7\" class=\"data row9 col7\" >0.836066</td>\n",
              "    </tr>\n",
              "  </tbody>\n",
              "</table>\n"
            ]
          },
          "metadata": {},
          "execution_count": 174
        }
      ]
    },
    {
      "cell_type": "markdown",
      "source": [],
      "metadata": {
        "id": "1Vbz3Ogo4Rz-"
      }
    },
    {
      "cell_type": "markdown",
      "source": [
        "## Hyperparameter Tuning"
      ],
      "metadata": {
        "id": "5t6Ob3qT4R_z"
      }
    },
    {
      "cell_type": "code",
      "source": [
        "#Hyperparameterb\n",
        "from lightgbm import *\n",
        "n_estimators = [50, 100, 150, 200, 250]\n",
        "#boosting_type = ['gbdt']\n",
        "\n",
        "for n in n_estimators:\n",
        "  LGBM_model = LGBMClassifier(n_estimators = n, boosting_type='gbdt', num_leaves=31)\n",
        "  LGBM_model.fit(X_train, Y_train)\n",
        "  LGBM_y_preds = LGBM_model.predict(X_test)\n",
        "  LGBM_y_accuracy = accuracy_score(LGBM_y_preds,Y_test)\n",
        "  print(f\"n_components = {n} => Accuracy : {LGBM_y_accuracy*100}\");"
      ],
      "metadata": {
        "colab": {
          "base_uri": "https://localhost:8080/"
        },
        "id": "n38GNCLc0wZE",
        "outputId": "519ec7ce-ad6f-432f-9bdd-31965998ba35"
      },
      "execution_count": 180,
      "outputs": [
        {
          "output_type": "stream",
          "name": "stdout",
          "text": [
            "n_components = 50 => Accuracy : 78.42668488160291\n",
            "n_components = 100 => Accuracy : 80.19125683060109\n",
            "n_components = 150 => Accuracy : 80.77185792349727\n",
            "n_components = 200 => Accuracy : 81.10769581056466\n",
            "n_components = 250 => Accuracy : 81.42645719489981\n"
          ]
        }
      ]
    },
    {
      "cell_type": "markdown",
      "source": [
        "## MLP Classifiers"
      ],
      "metadata": {
        "id": "RagRNmuL4Ws5"
      }
    },
    {
      "cell_type": "code",
      "source": [
        " from sklearn.neural_network import MLPClassifier\n",
        "\n",
        "# Use \"for loop\" to get accuracies for your set\n",
        "hidden_layer_size = [10, 50, 100, 300]\n",
        "activation = ['identity', 'logistic', 'tanh', 'relu']\n",
        "\n",
        "for n in hidden_layer_size:\n",
        "  for a in activation:\n",
        "    #hidden_layer_size = 10\n",
        "    #activation = 'identity'\n",
        "    clf = MLPClassifier(hidden_layer_sizes=(hidden_layer_size,), activation=activation, random_state=1)\n",
        "    clf.fit(X_train, Y_train)\n",
        "    score = clf.score(X_test, Y_test)\n",
        "    print(f\"hidden_layer_size = {n}, activation = {a} => Accuracy : {score}\");"
      ],
      "metadata": {
        "colab": {
          "base_uri": "https://localhost:8080/",
          "height": 380
        },
        "id": "WDg8e6_T0wfD",
        "outputId": "2a14f951-2465-4f4e-a8d6-4af3bddc9137"
      },
      "execution_count": 184,
      "outputs": [
        {
          "output_type": "error",
          "ename": "TypeError",
          "evalue": "ignored",
          "traceback": [
            "\u001b[0;31m---------------------------------------------------------------------------\u001b[0m",
            "\u001b[0;31mTypeError\u001b[0m                                 Traceback (most recent call last)",
            "\u001b[0;32m<ipython-input-184-cf82cf26a87e>\u001b[0m in \u001b[0;36m<module>\u001b[0;34m\u001b[0m\n\u001b[1;32m     10\u001b[0m    \u001b[0;31m#activation = 'identity'\u001b[0m\u001b[0;34m\u001b[0m\u001b[0;34m\u001b[0m\u001b[0;34m\u001b[0m\u001b[0m\n\u001b[1;32m     11\u001b[0m    \u001b[0mclf\u001b[0m \u001b[0;34m=\u001b[0m \u001b[0mMLPClassifier\u001b[0m\u001b[0;34m(\u001b[0m\u001b[0mhidden_layer_sizes\u001b[0m\u001b[0;34m=\u001b[0m\u001b[0;34m(\u001b[0m\u001b[0mhidden_layer_size\u001b[0m\u001b[0;34m,\u001b[0m\u001b[0;34m)\u001b[0m\u001b[0;34m,\u001b[0m \u001b[0mactivation\u001b[0m\u001b[0;34m=\u001b[0m\u001b[0mactivation\u001b[0m\u001b[0;34m,\u001b[0m \u001b[0mrandom_state\u001b[0m\u001b[0;34m=\u001b[0m\u001b[0;36m1\u001b[0m\u001b[0;34m)\u001b[0m\u001b[0;34m\u001b[0m\u001b[0;34m\u001b[0m\u001b[0m\n\u001b[0;32m---> 12\u001b[0;31m    \u001b[0mclf\u001b[0m\u001b[0;34m.\u001b[0m\u001b[0mfit\u001b[0m\u001b[0;34m(\u001b[0m\u001b[0mX_train\u001b[0m\u001b[0;34m,\u001b[0m \u001b[0mY_train\u001b[0m\u001b[0;34m)\u001b[0m\u001b[0;34m\u001b[0m\u001b[0;34m\u001b[0m\u001b[0m\n\u001b[0m\u001b[1;32m     13\u001b[0m    \u001b[0mscore\u001b[0m \u001b[0;34m=\u001b[0m \u001b[0mclf\u001b[0m\u001b[0;34m.\u001b[0m\u001b[0mscore\u001b[0m\u001b[0;34m(\u001b[0m\u001b[0mX_test\u001b[0m\u001b[0;34m,\u001b[0m \u001b[0mY_test\u001b[0m\u001b[0;34m)\u001b[0m\u001b[0;34m\u001b[0m\u001b[0;34m\u001b[0m\u001b[0m\n\u001b[1;32m     14\u001b[0m    \u001b[0mprint\u001b[0m\u001b[0;34m(\u001b[0m\u001b[0;34mf\"hidden_layer_size = {n}, activation = {a} => Accuracy : {score}\"\u001b[0m\u001b[0;34m)\u001b[0m\u001b[0;34m;\u001b[0m\u001b[0;34m\u001b[0m\u001b[0;34m\u001b[0m\u001b[0m\n",
            "\u001b[0;32m/usr/local/lib/python3.8/dist-packages/sklearn/neural_network/_multilayer_perceptron.py\u001b[0m in \u001b[0;36mfit\u001b[0;34m(self, X, y)\u001b[0m\n\u001b[1;32m    750\u001b[0m             \u001b[0mReturns\u001b[0m \u001b[0ma\u001b[0m \u001b[0mtrained\u001b[0m \u001b[0mMLP\u001b[0m \u001b[0mmodel\u001b[0m\u001b[0;34m.\u001b[0m\u001b[0;34m\u001b[0m\u001b[0;34m\u001b[0m\u001b[0m\n\u001b[1;32m    751\u001b[0m         \"\"\"\n\u001b[0;32m--> 752\u001b[0;31m         \u001b[0;32mreturn\u001b[0m \u001b[0mself\u001b[0m\u001b[0;34m.\u001b[0m\u001b[0m_fit\u001b[0m\u001b[0;34m(\u001b[0m\u001b[0mX\u001b[0m\u001b[0;34m,\u001b[0m \u001b[0my\u001b[0m\u001b[0;34m,\u001b[0m \u001b[0mincremental\u001b[0m\u001b[0;34m=\u001b[0m\u001b[0;32mFalse\u001b[0m\u001b[0;34m)\u001b[0m\u001b[0;34m\u001b[0m\u001b[0;34m\u001b[0m\u001b[0m\n\u001b[0m\u001b[1;32m    753\u001b[0m \u001b[0;34m\u001b[0m\u001b[0m\n\u001b[1;32m    754\u001b[0m     \u001b[0;32mdef\u001b[0m \u001b[0m_check_solver\u001b[0m\u001b[0;34m(\u001b[0m\u001b[0mself\u001b[0m\u001b[0;34m)\u001b[0m\u001b[0;34m:\u001b[0m\u001b[0;34m\u001b[0m\u001b[0;34m\u001b[0m\u001b[0m\n",
            "\u001b[0;32m/usr/local/lib/python3.8/dist-packages/sklearn/neural_network/_multilayer_perceptron.py\u001b[0m in \u001b[0;36m_fit\u001b[0;34m(self, X, y, incremental)\u001b[0m\n\u001b[1;32m    382\u001b[0m \u001b[0;34m\u001b[0m\u001b[0m\n\u001b[1;32m    383\u001b[0m         \u001b[0;31m# Validate input parameters.\u001b[0m\u001b[0;34m\u001b[0m\u001b[0;34m\u001b[0m\u001b[0;34m\u001b[0m\u001b[0m\n\u001b[0;32m--> 384\u001b[0;31m         \u001b[0mself\u001b[0m\u001b[0;34m.\u001b[0m\u001b[0m_validate_hyperparameters\u001b[0m\u001b[0;34m(\u001b[0m\u001b[0;34m)\u001b[0m\u001b[0;34m\u001b[0m\u001b[0;34m\u001b[0m\u001b[0m\n\u001b[0m\u001b[1;32m    385\u001b[0m         \u001b[0;32mif\u001b[0m \u001b[0mnp\u001b[0m\u001b[0;34m.\u001b[0m\u001b[0many\u001b[0m\u001b[0;34m(\u001b[0m\u001b[0mnp\u001b[0m\u001b[0;34m.\u001b[0m\u001b[0marray\u001b[0m\u001b[0;34m(\u001b[0m\u001b[0mhidden_layer_sizes\u001b[0m\u001b[0;34m)\u001b[0m \u001b[0;34m<=\u001b[0m \u001b[0;36m0\u001b[0m\u001b[0;34m)\u001b[0m\u001b[0;34m:\u001b[0m\u001b[0;34m\u001b[0m\u001b[0;34m\u001b[0m\u001b[0m\n\u001b[1;32m    386\u001b[0m             raise ValueError(\n",
            "\u001b[0;32m/usr/local/lib/python3.8/dist-packages/sklearn/neural_network/_multilayer_perceptron.py\u001b[0m in \u001b[0;36m_validate_hyperparameters\u001b[0;34m(self)\u001b[0m\n\u001b[1;32m    490\u001b[0m \u001b[0;34m\u001b[0m\u001b[0m\n\u001b[1;32m    491\u001b[0m         \u001b[0;31m# raise ValueError if not registered\u001b[0m\u001b[0;34m\u001b[0m\u001b[0;34m\u001b[0m\u001b[0;34m\u001b[0m\u001b[0m\n\u001b[0;32m--> 492\u001b[0;31m         \u001b[0;32mif\u001b[0m \u001b[0mself\u001b[0m\u001b[0;34m.\u001b[0m\u001b[0mactivation\u001b[0m \u001b[0;32mnot\u001b[0m \u001b[0;32min\u001b[0m \u001b[0mACTIVATIONS\u001b[0m\u001b[0;34m:\u001b[0m\u001b[0;34m\u001b[0m\u001b[0;34m\u001b[0m\u001b[0m\n\u001b[0m\u001b[1;32m    493\u001b[0m             raise ValueError(\n\u001b[1;32m    494\u001b[0m                 \u001b[0;34m\"The activation '%s' is not supported. Supported activations are %s.\"\u001b[0m\u001b[0;34m\u001b[0m\u001b[0;34m\u001b[0m\u001b[0m\n",
            "\u001b[0;31mTypeError\u001b[0m: unhashable type: 'list'"
          ]
        }
      ]
    },
    {
      "cell_type": "markdown",
      "source": [
        "## Dimensionality Reduction"
      ],
      "metadata": {
        "id": "jovWWxGC6mA3"
      }
    },
    {
      "cell_type": "code",
      "source": [
        "from sklearn.decomposition import PCA\n",
        "from lightgbm import *\n",
        "n_components = [8, 10, 12, 14, 16, 18]\n",
        "\n",
        "for n in n_components:\n",
        "\n",
        "  pca = PCA(n_components=n) # Vary 10 to 8/12..\n",
        "\n",
        "  X_dimred_train = pca.fit_transform(X_train)\n",
        "  X_dimred_test = pca.transform(X_test)\n",
        "\n",
        "  LGBM_model = LGBMClassifier()\n",
        "  LGBM_model.fit(X_dimred_train, Y_train)\n",
        "  LGBM_y_preds = LGBM_model.predict(X_dimred_test)\n",
        "  LGBM_y_accuracy = accuracy_score(LGBM_y_preds,Y_test)\n",
        "  print(f\"n_components = {n}=> Accuracy : {LGBM_y_accuracy*100}\");"
      ],
      "metadata": {
        "colab": {
          "base_uri": "https://localhost:8080/"
        },
        "id": "IiZhtUdY0whQ",
        "outputId": "a37b338b-c5f9-402d-fe43-af4b775dcb0e"
      },
      "execution_count": 187,
      "outputs": [
        {
          "output_type": "stream",
          "name": "stdout",
          "text": [
            "n_components = 8=> Accuracy : 71.7953096539162\n",
            "n_components = 10=> Accuracy : 71.93761384335154\n",
            "n_components = 12=> Accuracy : 75.69444444444444\n",
            "n_components = 14=> Accuracy : 75.4667577413479\n",
            "n_components = 16=> Accuracy : 79.84403460837886\n",
            "n_components = 18=> Accuracy : 80.17418032786885\n"
          ]
        }
      ]
    },
    {
      "cell_type": "code",
      "source": [],
      "metadata": {
        "id": "wqZkwCKp0wxQ"
      },
      "execution_count": null,
      "outputs": []
    }
  ]
}